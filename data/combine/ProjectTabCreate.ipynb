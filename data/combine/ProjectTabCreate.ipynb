{
 "cells": [
  {
   "cell_type": "code",
   "execution_count": 1,
   "id": "232e0d6b-34d2-4c31-8037-8fe92f182140",
   "metadata": {},
   "outputs": [],
   "source": [
    "import pandas as pd\n",
    "\n",
    "pd.set_option('display.max_columns', None)\n",
    "pd.set_option('display.max_rows', None)"
   ]
  },
  {
   "cell_type": "code",
   "execution_count": 2,
   "id": "debc20aa-1386-41c8-bee6-b97c1f0d434e",
   "metadata": {},
   "outputs": [
    {
     "name": "stderr",
     "output_type": "stream",
     "text": [
      "/var/folders/gn/x53b3rps7jz6jbl5j86y21gr0000gn/T/ipykernel_52795/1767492222.py:1: DtypeWarning: Columns (7,8,9) have mixed types. Specify dtype option on import or set low_memory=False.\n",
      "  cred = pd.read_csv(\"credit_activities.csv\")\n"
     ]
    }
   ],
   "source": [
    "cred = pd.read_csv(\"credit_activities.csv\")\n",
    "proj = pd.read_csv(\"project_info.csv\")\n",
    "#prev = pd.read_csv(\"../RawData.csv\")"
   ]
  },
  {
   "cell_type": "code",
   "execution_count": 3,
   "id": "62581725-68b5-45be-b4d6-8556a3cfee39",
   "metadata": {},
   "outputs": [],
   "source": [
    "#prev = prev[['Project ID', 'Scope', ' Type', 'Reduction / Removal']]\n",
    "#prev.columns = ['Project ID', 'Scope', 'Type', 'Reduction/Removal']"
   ]
  },
  {
   "cell_type": "code",
   "execution_count": 4,
   "id": "27e72631-3593-4efe-bac0-a05b65127a54",
   "metadata": {},
   "outputs": [
    {
     "data": {
      "text/plain": [
       "Index(['project_id', 'project_name', 'voluntary_registry', 'arb_wa_project',\n",
       "       'voluntary_status', 'scope', 'type', 'type_rule', 'type_ml',\n",
       "       'confidence', 'reduction_removal', 'methodology', 'methodology_version',\n",
       "       'region', 'country', 'state', 'project_site_location',\n",
       "       'project_developer', 'project_owner', 'offset_project_operator',\n",
       "       'authorized_project_designee', 'verifier',\n",
       "       'estimated_annual_emission_reductions', 'arb_id', 'arb_project_type',\n",
       "       'arb_project_status', 'wa_id', 'wa_project_type', 'poa_id',\n",
       "       'project_listed', 'project_registered', 'sustainability_certification',\n",
       "       'project_type_from_the_registry', 'registry_documents',\n",
       "       'project_website', 'notes_from_registry', 'notes_from_bctp',\n",
       "       'project_description', 'added_to_database_version'],\n",
       "      dtype='object')"
      ]
     },
     "execution_count": 4,
     "metadata": {},
     "output_type": "execute_result"
    }
   ],
   "source": [
    "proj.columns"
   ]
  },
  {
   "cell_type": "code",
   "execution_count": 5,
   "id": "27deebbf-6476-4a67-92a6-953c93d0168b",
   "metadata": {},
   "outputs": [
    {
     "data": {
      "text/plain": [
       "array(['ACR', 'CAR', 'GS', 'VCS'], dtype=object)"
      ]
     },
     "execution_count": 5,
     "metadata": {},
     "output_type": "execute_result"
    }
   ],
   "source": [
    "proj.voluntary_registry.unique()"
   ]
  },
  {
   "cell_type": "code",
   "execution_count": 6,
   "id": "27f661aa-ec6b-4f55-96c2-ff5522d67f40",
   "metadata": {},
   "outputs": [],
   "source": [
    "proj_names = ['Project ID', 'Project Name', 'Voluntary Registry', 'ARB/WA Project', \n",
    "              'Voluntary Status', 'Scope', 'Type', 'Type Rule', 'Type ML',\n",
    "              'Confidence Level', 'Reduction/Removal', 'Methodology/Protocol', 'Methodology Version', \n",
    "              'Region', 'Country', 'State', 'Project Site Location',\n",
    "              'Project Developer', 'Project Owner', 'Offset Project Operator', \n",
    "              'Authorized Project Designee', 'Verifier',\n",
    "              'Estimated Annual Emission Reductions', 'ARB ID', 'ARB Project Type',\n",
    "              'ARB Project Status', 'WA ID', 'WA Project Type', 'POA ID', \n",
    "              'Project Listed', 'Project Registered', 'Sustainability Certification',\n",
    "              'Project Type From the Registry', 'Registry Documents',\n",
    "              'Project Website', 'Notes From Registry', 'Notes from the Berkeley Carbon Trading Project', \n",
    "              'Project Description', 'Added to Database Version - With Data Through']"
   ]
  },
  {
   "cell_type": "code",
   "execution_count": 7,
   "id": "2e15983c-8599-4cfc-9c94-74805c6775c5",
   "metadata": {},
   "outputs": [],
   "source": [
    "proj.columns = proj_names\n",
    "proj1 = proj.iloc[:, :19]\n",
    "proj2 = proj.drop(proj.columns[1:19], axis=1)"
   ]
  },
  {
   "cell_type": "code",
   "execution_count": 8,
   "id": "720e52e6-7a50-4122-bc1c-e1dbb62247b2",
   "metadata": {},
   "outputs": [
    {
     "data": {
      "text/plain": [
       "Index(['Project ID', 'Offset Project Operator', 'Authorized Project Designee',\n",
       "       'Verifier', 'Estimated Annual Emission Reductions', 'ARB ID',\n",
       "       'ARB Project Type', 'ARB Project Status', 'WA ID', 'WA Project Type',\n",
       "       'POA ID', 'Project Listed', 'Project Registered',\n",
       "       'Sustainability Certification', 'Project Type From the Registry',\n",
       "       'Registry Documents', 'Project Website', 'Notes From Registry',\n",
       "       'Notes from the Berkeley Carbon Trading Project', 'Project Description',\n",
       "       'Added to Database Version - With Data Through'],\n",
       "      dtype='object')"
      ]
     },
     "execution_count": 8,
     "metadata": {},
     "output_type": "execute_result"
    }
   ],
   "source": [
    "proj2.columns"
   ]
  },
  {
   "cell_type": "code",
   "execution_count": 9,
   "id": "9bd9ec11-f237-4a01-bbcd-7f136043b8bb",
   "metadata": {},
   "outputs": [
    {
     "data": {
      "text/plain": [
       "array([2013., 2012., 2014., 2015., 2016., 2017., 2018., 2019., 2020.,\n",
       "       2021., 2022., 2023., 2005., 2006., 2007., 2008., 2009., 2010.,\n",
       "       2011., 2004., 2003., 2002., 2001., 2000., 1999., 1998., 1997.,\n",
       "       1996., 2026., 2028., 2025., 2027., 2024., 2033., 2034., 2029.,\n",
       "       2030., 2035., 2060., 2042., 2052., 2055., 2049., 2058., 2053.,\n",
       "       2047., 2037., 2056., 2040., 2044., 2054., 2032., 2059., 2041.,\n",
       "       2048., 2036., 2038., 2031., 2057., 2046., 2045., 2051., 2043.,\n",
       "       2039., 2050., 2061.,   nan])"
      ]
     },
     "execution_count": 9,
     "metadata": {},
     "output_type": "execute_result"
    }
   ],
   "source": [
    "cred.vintage_year.unique()"
   ]
  },
  {
   "cell_type": "code",
   "execution_count": 10,
   "id": "b47b8e76-90ef-4b4a-bd4b-42efbffceb4c",
   "metadata": {},
   "outputs": [],
   "source": [
    "cred[['vintage_year','issuance_date']] = cred[['vintage_year','issuance_date']].astype(str)\n",
    "cred[['vintage_year','issuance_date','amount']] = cred[['vintage_year','issuance_date','amount']].fillna(0)\n",
    "cred[['vintage_year','issuance_date']] = cred[['vintage_year','issuance_date']].replace('NaT', 0)\n",
    "cred[['vintage_year','issuance_date']] = cred[['vintage_year','issuance_date']].replace('nan', 0)\n",
    "cred[['vintage_year','issuance_date']] = cred[['vintage_year','issuance_date']].astype(str)\n",
    "cred['vintage_year'] = cred['vintage_year'].str.replace('.0', '')\n",
    "cred['temp1'] = cred['issuance_date'].str.contains('-')\n",
    "cred['temp2'] = cred['issuance_date'].str.contains('/')\n",
    "cred.loc[cred['temp1'], 'issuance_date'] = cred.loc[cred['temp1'], 'issuance_date'].str[:4]\n",
    "cred.loc[cred['temp2'], 'issuance_date'] = cred.loc[cred['temp2'], 'issuance_date'].str.split('/').str[2].str[:4]\n",
    "\n",
    "cred = cred.drop(columns=['temp1', 'temp2'])"
   ]
  },
  {
   "cell_type": "code",
   "execution_count": 11,
   "id": "eda5cab9-54a7-4318-a659-f5d554ef86c1",
   "metadata": {},
   "outputs": [
    {
     "data": {
      "text/plain": [
       "array(['0', '2002', '2004', '2005', '2006', '2007', '2008', '2009',\n",
       "       '2010', '2011', '2012', '2013', '2014', '2015', '2016', '2017',\n",
       "       '2018', '2019', '2020', '2021', '2022', '2023', '2024'],\n",
       "      dtype=object)"
      ]
     },
     "execution_count": 11,
     "metadata": {},
     "output_type": "execute_result"
    }
   ],
   "source": [
    "cred.issuance_date.sort_values().unique()"
   ]
  },
  {
   "cell_type": "code",
   "execution_count": 12,
   "id": "3412737c-e134-4222-bc03-a6595ef68dc1",
   "metadata": {},
   "outputs": [
    {
     "data": {
      "text/plain": [
       "array(['0', '1996', '1997', '1998', '1999', '2000', '2001', '2002',\n",
       "       '2003', '2004', '2005', '2006', '2007', '2008', '2009', '2010',\n",
       "       '2011', '2012', '2013', '2014', '2015', '2016', '2017', '2018',\n",
       "       '2019', '2020', '2021', '2022', '2023', '2024', '2025', '2026',\n",
       "       '2027', '2028', '2029', '2030', '2031', '2032', '2033', '2034',\n",
       "       '2035', '2036', '2037', '2038', '2039', '2040', '2041', '2042',\n",
       "       '2043', '2044', '2045', '2046', '2047', '2048', '2049', '2050',\n",
       "       '2051', '2052', '2053', '2054', '2055', '2056', '2057', '2058',\n",
       "       '2059', '2060', '2061'], dtype=object)"
      ]
     },
     "execution_count": 12,
     "metadata": {},
     "output_type": "execute_result"
    }
   ],
   "source": [
    "cred.vintage_year.sort_values().unique()"
   ]
  },
  {
   "cell_type": "code",
   "execution_count": 13,
   "id": "1cbff1e9-39b8-47bd-97fe-491b0d14c3c4",
   "metadata": {},
   "outputs": [
    {
     "data": {
      "text/plain": [
       "array(['issuance', 'buffer_contribution', 'retirement_cancellation',\n",
       "       'buffer_subtraction', 'per'], dtype=object)"
      ]
     },
     "execution_count": 13,
     "metadata": {},
     "output_type": "execute_result"
    }
   ],
   "source": [
    "cred.transaction_type.unique()"
   ]
  },
  {
   "cell_type": "code",
   "execution_count": 14,
   "id": "2bb91594-424a-4f4a-9901-2c4eaf663a3e",
   "metadata": {},
   "outputs": [
    {
     "data": {
      "text/plain": [
       "array(['buffer_contribution',\n",
       "       'buffer_pool_cancelled_during_transfer_to_arb',\n",
       "       'buffer_pool_transfer_to_arb', 'buffer_release_to_issuance',\n",
       "       'buffer_subtraction', 'cancellation',\n",
       "       'cancelled_during_transfer_to_arb',\n",
       "       'cancelled_for_intentional_reversal', 'issuance', 'per_issuance',\n",
       "       'retired_for_quebec_compliance', 'retired_voluntarily',\n",
       "       'retirement', 'transfer_to_arb', 'transfer_to_wa',\n",
       "       'unintentional_reversal'], dtype=object)"
      ]
     },
     "execution_count": 14,
     "metadata": {},
     "output_type": "execute_result"
    }
   ],
   "source": [
    "cred.sub_transaction_type.sort_values().unique()"
   ]
  },
  {
   "cell_type": "code",
   "execution_count": 15,
   "id": "2c655b54-a028-4f91-849d-a76d2617b491",
   "metadata": {},
   "outputs": [
    {
     "data": {
      "text/html": [
       "<div>\n",
       "<style scoped>\n",
       "    .dataframe tbody tr th:only-of-type {\n",
       "        vertical-align: middle;\n",
       "    }\n",
       "\n",
       "    .dataframe tbody tr th {\n",
       "        vertical-align: top;\n",
       "    }\n",
       "\n",
       "    .dataframe thead th {\n",
       "        text-align: right;\n",
       "    }\n",
       "</style>\n",
       "<table border=\"1\" class=\"dataframe\">\n",
       "  <thead>\n",
       "    <tr style=\"text-align: right;\">\n",
       "      <th></th>\n",
       "      <th>project_id</th>\n",
       "      <th>transaction_type</th>\n",
       "      <th>sub_transaction_type</th>\n",
       "      <th>amount</th>\n",
       "      <th>date</th>\n",
       "      <th>vintage_year</th>\n",
       "      <th>issuance_date</th>\n",
       "      <th>vintage_start</th>\n",
       "      <th>vintage_end</th>\n",
       "      <th>corsia_eligible</th>\n",
       "    </tr>\n",
       "  </thead>\n",
       "  <tbody>\n",
       "    <tr>\n",
       "      <th>0</th>\n",
       "      <td>CAR992</td>\n",
       "      <td>issuance</td>\n",
       "      <td>issuance</td>\n",
       "      <td>107542</td>\n",
       "      <td>2013-10-22</td>\n",
       "      <td>2013</td>\n",
       "      <td>2013</td>\n",
       "      <td>NaN</td>\n",
       "      <td>NaN</td>\n",
       "      <td>NaN</td>\n",
       "    </tr>\n",
       "    <tr>\n",
       "      <th>1</th>\n",
       "      <td>ACR170</td>\n",
       "      <td>issuance</td>\n",
       "      <td>issuance</td>\n",
       "      <td>306517</td>\n",
       "      <td>2013-09-23</td>\n",
       "      <td>2012</td>\n",
       "      <td>2013</td>\n",
       "      <td>NaN</td>\n",
       "      <td>NaN</td>\n",
       "      <td>NaN</td>\n",
       "    </tr>\n",
       "    <tr>\n",
       "      <th>2</th>\n",
       "      <td>CAR973</td>\n",
       "      <td>issuance</td>\n",
       "      <td>issuance</td>\n",
       "      <td>1748472</td>\n",
       "      <td>2014-06-10</td>\n",
       "      <td>2013</td>\n",
       "      <td>2014</td>\n",
       "      <td>NaN</td>\n",
       "      <td>NaN</td>\n",
       "      <td>NaN</td>\n",
       "    </tr>\n",
       "    <tr>\n",
       "      <th>3</th>\n",
       "      <td>CAR973</td>\n",
       "      <td>issuance</td>\n",
       "      <td>issuance</td>\n",
       "      <td>119314</td>\n",
       "      <td>2015-09-08</td>\n",
       "      <td>2014</td>\n",
       "      <td>2015</td>\n",
       "      <td>NaN</td>\n",
       "      <td>NaN</td>\n",
       "      <td>NaN</td>\n",
       "    </tr>\n",
       "    <tr>\n",
       "      <th>4</th>\n",
       "      <td>CAR973</td>\n",
       "      <td>issuance</td>\n",
       "      <td>issuance</td>\n",
       "      <td>282627</td>\n",
       "      <td>2016-09-27</td>\n",
       "      <td>2015</td>\n",
       "      <td>2016</td>\n",
       "      <td>NaN</td>\n",
       "      <td>NaN</td>\n",
       "      <td>NaN</td>\n",
       "    </tr>\n",
       "  </tbody>\n",
       "</table>\n",
       "</div>"
      ],
      "text/plain": [
       "  project_id transaction_type sub_transaction_type   amount        date  \\\n",
       "0     CAR992         issuance             issuance   107542  2013-10-22   \n",
       "1     ACR170         issuance             issuance   306517  2013-09-23   \n",
       "2     CAR973         issuance             issuance  1748472  2014-06-10   \n",
       "3     CAR973         issuance             issuance   119314  2015-09-08   \n",
       "4     CAR973         issuance             issuance   282627  2016-09-27   \n",
       "\n",
       "  vintage_year issuance_date vintage_start vintage_end corsia_eligible  \n",
       "0         2013          2013           NaN         NaN             NaN  \n",
       "1         2012          2013           NaN         NaN             NaN  \n",
       "2         2013          2014           NaN         NaN             NaN  \n",
       "3         2014          2015           NaN         NaN             NaN  \n",
       "4         2015          2016           NaN         NaN             NaN  "
      ]
     },
     "execution_count": 15,
     "metadata": {},
     "output_type": "execute_result"
    }
   ],
   "source": [
    "cred.head()"
   ]
  },
  {
   "cell_type": "code",
   "execution_count": 16,
   "id": "a553deae-8a1b-44ef-9bb3-2e8b1b894938",
   "metadata": {},
   "outputs": [
    {
     "data": {
      "text/plain": [
       "issuance_date\n",
       "2021    35792\n",
       "2020    28839\n",
       "2019    26743\n",
       "2018    20490\n",
       "2022    19824\n",
       "2015    18679\n",
       "2017    15518\n",
       "2014    14773\n",
       "2023    14078\n",
       "2016    13411\n",
       "0        9659\n",
       "2013     7165\n",
       "2012     6878\n",
       "2011     5885\n",
       "2010     3986\n",
       "2009     2897\n",
       "2024     1330\n",
       "2008      604\n",
       "2005      560\n",
       "2007      509\n",
       "2006       91\n",
       "2004        3\n",
       "2002        1\n",
       "Name: count, dtype: int64"
      ]
     },
     "execution_count": 16,
     "metadata": {},
     "output_type": "execute_result"
    }
   ],
   "source": [
    "cred.issuance_date.value_counts()"
   ]
  },
  {
   "cell_type": "code",
   "execution_count": 17,
   "id": "c5d8a4db-6542-49be-a154-521f7a1fc08f",
   "metadata": {},
   "outputs": [],
   "source": [
    "cred_group_issuanceDate = cred.groupby(['project_id', 'transaction_type', 'issuance_date']).amount.sum().reset_index()\n",
    "cred_group_vintageDate = cred.groupby(['project_id', 'transaction_type', 'vintage_year']).amount.sum().reset_index()"
   ]
  },
  {
   "cell_type": "code",
   "execution_count": 18,
   "id": "fd0309bf-5291-49ea-9aaf-873fe6181948",
   "metadata": {},
   "outputs": [],
   "source": [
    "cred_piv_iss = cred_group_issuanceDate.pivot(index=['project_id', 'issuance_date'], \n",
    "                      columns='transaction_type', values='amount').reset_index()\n",
    "cred_piv_vin = cred_group_vintageDate.pivot(index=['project_id', 'vintage_year'], \n",
    "                      columns='transaction_type', values='amount').reset_index()"
   ]
  },
  {
   "cell_type": "code",
   "execution_count": 19,
   "id": "bb2f2719-35d2-468f-9c3e-fcde863f7eb0",
   "metadata": {},
   "outputs": [
    {
     "data": {
      "text/html": [
       "<div>\n",
       "<style scoped>\n",
       "    .dataframe tbody tr th:only-of-type {\n",
       "        vertical-align: middle;\n",
       "    }\n",
       "\n",
       "    .dataframe tbody tr th {\n",
       "        vertical-align: top;\n",
       "    }\n",
       "\n",
       "    .dataframe thead th {\n",
       "        text-align: right;\n",
       "    }\n",
       "</style>\n",
       "<table border=\"1\" class=\"dataframe\">\n",
       "  <thead>\n",
       "    <tr style=\"text-align: right;\">\n",
       "      <th>transaction_type</th>\n",
       "      <th>project_id</th>\n",
       "      <th>vintage_year</th>\n",
       "      <th>buffer_contribution</th>\n",
       "      <th>buffer_subtraction</th>\n",
       "      <th>issuance</th>\n",
       "      <th>per</th>\n",
       "      <th>retirement_cancellation</th>\n",
       "    </tr>\n",
       "  </thead>\n",
       "  <tbody>\n",
       "    <tr>\n",
       "      <th>0</th>\n",
       "      <td>ACR102</td>\n",
       "      <td>2003</td>\n",
       "      <td>NaN</td>\n",
       "      <td>NaN</td>\n",
       "      <td>1898382.0</td>\n",
       "      <td>NaN</td>\n",
       "      <td>7666.0</td>\n",
       "    </tr>\n",
       "    <tr>\n",
       "      <th>1</th>\n",
       "      <td>ACR102</td>\n",
       "      <td>2004</td>\n",
       "      <td>NaN</td>\n",
       "      <td>NaN</td>\n",
       "      <td>3004613.0</td>\n",
       "      <td>NaN</td>\n",
       "      <td>NaN</td>\n",
       "    </tr>\n",
       "    <tr>\n",
       "      <th>2</th>\n",
       "      <td>ACR102</td>\n",
       "      <td>2005</td>\n",
       "      <td>NaN</td>\n",
       "      <td>NaN</td>\n",
       "      <td>3081011.0</td>\n",
       "      <td>NaN</td>\n",
       "      <td>10000.0</td>\n",
       "    </tr>\n",
       "    <tr>\n",
       "      <th>3</th>\n",
       "      <td>ACR103</td>\n",
       "      <td>2003</td>\n",
       "      <td>NaN</td>\n",
       "      <td>NaN</td>\n",
       "      <td>8072.0</td>\n",
       "      <td>NaN</td>\n",
       "      <td>2500.0</td>\n",
       "    </tr>\n",
       "    <tr>\n",
       "      <th>4</th>\n",
       "      <td>ACR103</td>\n",
       "      <td>2004</td>\n",
       "      <td>NaN</td>\n",
       "      <td>NaN</td>\n",
       "      <td>5848.0</td>\n",
       "      <td>NaN</td>\n",
       "      <td>32.0</td>\n",
       "    </tr>\n",
       "  </tbody>\n",
       "</table>\n",
       "</div>"
      ],
      "text/plain": [
       "transaction_type project_id vintage_year  buffer_contribution  \\\n",
       "0                    ACR102         2003                  NaN   \n",
       "1                    ACR102         2004                  NaN   \n",
       "2                    ACR102         2005                  NaN   \n",
       "3                    ACR103         2003                  NaN   \n",
       "4                    ACR103         2004                  NaN   \n",
       "\n",
       "transaction_type  buffer_subtraction   issuance  per  retirement_cancellation  \n",
       "0                                NaN  1898382.0  NaN                   7666.0  \n",
       "1                                NaN  3004613.0  NaN                      NaN  \n",
       "2                                NaN  3081011.0  NaN                  10000.0  \n",
       "3                                NaN     8072.0  NaN                   2500.0  \n",
       "4                                NaN     5848.0  NaN                     32.0  "
      ]
     },
     "execution_count": 19,
     "metadata": {},
     "output_type": "execute_result"
    }
   ],
   "source": [
    "cred_piv_vin.head()"
   ]
  },
  {
   "cell_type": "code",
   "execution_count": 20,
   "id": "b4d52fa9-9294-4c57-803c-9f22edcaa804",
   "metadata": {},
   "outputs": [],
   "source": [
    "cred_group_iss = cred_piv_iss.groupby(['project_id']).agg({'buffer_contribution':'sum', \n",
    "                                               'buffer_subtraction':'sum', \n",
    "                                               'issuance':'sum',\n",
    "                                               'retirement_cancellation':'sum',\n",
    "                                                          'per':'sum'}).reset_index()\n",
    "cred_group_vin = cred_piv_vin.groupby(['project_id']).agg({'vintage_year':'min'}).reset_index()"
   ]
  },
  {
   "cell_type": "code",
   "execution_count": 21,
   "id": "33d2a830-98ef-4270-ad26-bc735ebcad2c",
   "metadata": {},
   "outputs": [],
   "source": [
    "cred_group_iss.columns = ['Project ID', 'Total Buffer Contributions by Issuance Year', 'Total Buffer Subtractions by Issuance Year',\n",
    "                      'Total Credits Issued', 'Total Credits Retired', 'PERs']\n",
    "cred_group_vin.columns = ['Project ID', 'First Year of Project']"
   ]
  },
  {
   "cell_type": "code",
   "execution_count": 22,
   "id": "d184869b-5955-4efd-8688-69fae1d41622",
   "metadata": {},
   "outputs": [
    {
     "data": {
      "text/html": [
       "<div>\n",
       "<style scoped>\n",
       "    .dataframe tbody tr th:only-of-type {\n",
       "        vertical-align: middle;\n",
       "    }\n",
       "\n",
       "    .dataframe tbody tr th {\n",
       "        vertical-align: top;\n",
       "    }\n",
       "\n",
       "    .dataframe thead th {\n",
       "        text-align: right;\n",
       "    }\n",
       "</style>\n",
       "<table border=\"1\" class=\"dataframe\">\n",
       "  <thead>\n",
       "    <tr style=\"text-align: right;\">\n",
       "      <th></th>\n",
       "      <th>Project ID</th>\n",
       "      <th>Total Buffer Contributions by Issuance Year</th>\n",
       "      <th>Total Buffer Subtractions by Issuance Year</th>\n",
       "      <th>Total Credits Issued</th>\n",
       "      <th>Total Credits Retired</th>\n",
       "      <th>PERs</th>\n",
       "    </tr>\n",
       "  </thead>\n",
       "  <tbody>\n",
       "    <tr>\n",
       "      <th>0</th>\n",
       "      <td>ACR102</td>\n",
       "      <td>0.0</td>\n",
       "      <td>0.0</td>\n",
       "      <td>7984006.0</td>\n",
       "      <td>17666.0</td>\n",
       "      <td>0.0</td>\n",
       "    </tr>\n",
       "    <tr>\n",
       "      <th>1</th>\n",
       "      <td>ACR103</td>\n",
       "      <td>0.0</td>\n",
       "      <td>0.0</td>\n",
       "      <td>44202.0</td>\n",
       "      <td>28636.0</td>\n",
       "      <td>0.0</td>\n",
       "    </tr>\n",
       "    <tr>\n",
       "      <th>2</th>\n",
       "      <td>ACR105</td>\n",
       "      <td>1102376.0</td>\n",
       "      <td>1102376.0</td>\n",
       "      <td>2572210.0</td>\n",
       "      <td>655.0</td>\n",
       "      <td>0.0</td>\n",
       "    </tr>\n",
       "    <tr>\n",
       "      <th>3</th>\n",
       "      <td>ACR106</td>\n",
       "      <td>0.0</td>\n",
       "      <td>0.0</td>\n",
       "      <td>138492.0</td>\n",
       "      <td>109452.0</td>\n",
       "      <td>0.0</td>\n",
       "    </tr>\n",
       "    <tr>\n",
       "      <th>4</th>\n",
       "      <td>ACR107</td>\n",
       "      <td>0.0</td>\n",
       "      <td>0.0</td>\n",
       "      <td>1138.0</td>\n",
       "      <td>127.0</td>\n",
       "      <td>0.0</td>\n",
       "    </tr>\n",
       "  </tbody>\n",
       "</table>\n",
       "</div>"
      ],
      "text/plain": [
       "  Project ID  Total Buffer Contributions by Issuance Year  \\\n",
       "0     ACR102                                          0.0   \n",
       "1     ACR103                                          0.0   \n",
       "2     ACR105                                    1102376.0   \n",
       "3     ACR106                                          0.0   \n",
       "4     ACR107                                          0.0   \n",
       "\n",
       "   Total Buffer Subtractions by Issuance Year  Total Credits Issued  \\\n",
       "0                                         0.0             7984006.0   \n",
       "1                                         0.0               44202.0   \n",
       "2                                   1102376.0             2572210.0   \n",
       "3                                         0.0              138492.0   \n",
       "4                                         0.0                1138.0   \n",
       "\n",
       "   Total Credits Retired  PERs  \n",
       "0                17666.0   0.0  \n",
       "1                28636.0   0.0  \n",
       "2                  655.0   0.0  \n",
       "3               109452.0   0.0  \n",
       "4                  127.0   0.0  "
      ]
     },
     "execution_count": 22,
     "metadata": {},
     "output_type": "execute_result"
    }
   ],
   "source": [
    "cred_group_iss.head()"
   ]
  },
  {
   "cell_type": "code",
   "execution_count": 23,
   "id": "08ad4448-fe73-4777-a771-967c398d9b04",
   "metadata": {},
   "outputs": [],
   "source": [
    "cred_piv_iss['issuance_date'] = cred_piv_iss['issuance_date'].astype(int)\n",
    "pivot_iss_iss = cred_piv_iss[cred_piv_iss['issuance_date']<=2024].pivot(index='project_id', columns='issuance_date', values='issuance').reset_index()\n",
    "pivot_iss_iss = pivot_iss_iss.drop(columns=[0])\n",
    "pivot_iss_iss.columns = [pivot_iss_iss.columns[0]] + [f\"{col} Credits Issued by Issuance Year\" for col in pivot_iss_iss.columns[1:]]\n",
    "pivot_iss_iss.columns.values[0] = \"Project ID\"\n",
    "pivot_iss_iss.fillna(0, inplace=True)\n",
    "cred_piv_vin['vintage_year'] = cred_piv_vin['vintage_year'].astype(int)\n",
    "pivot_vin_iss = cred_piv_vin[cred_piv_vin['vintage_year']<=2024].pivot(index='project_id', columns='vintage_year', values='issuance').reset_index()\n",
    "pivot_vin_iss = pivot_vin_iss.drop(columns=[0])\n",
    "pivot_vin_iss.columns = [pivot_vin_iss.columns[0]] + [f\"{col} Credits Issued by Vintage Year\" for col in pivot_vin_iss.columns[1:]]\n",
    "pivot_vin_iss.columns.values[0] = \"Project ID\"\n",
    "pivot_vin_iss.fillna(0, inplace=True)"
   ]
  },
  {
   "cell_type": "code",
   "execution_count": 24,
   "id": "4ffd264a-a29a-4149-a6aa-a170b21838a6",
   "metadata": {},
   "outputs": [
    {
     "data": {
      "text/html": [
       "<div>\n",
       "<style scoped>\n",
       "    .dataframe tbody tr th:only-of-type {\n",
       "        vertical-align: middle;\n",
       "    }\n",
       "\n",
       "    .dataframe tbody tr th {\n",
       "        vertical-align: top;\n",
       "    }\n",
       "\n",
       "    .dataframe thead th {\n",
       "        text-align: right;\n",
       "    }\n",
       "</style>\n",
       "<table border=\"1\" class=\"dataframe\">\n",
       "  <thead>\n",
       "    <tr style=\"text-align: right;\">\n",
       "      <th></th>\n",
       "      <th>Project ID</th>\n",
       "      <th>1996 Credits Issued by Vintage Year</th>\n",
       "      <th>1997 Credits Issued by Vintage Year</th>\n",
       "      <th>1998 Credits Issued by Vintage Year</th>\n",
       "      <th>1999 Credits Issued by Vintage Year</th>\n",
       "      <th>2000 Credits Issued by Vintage Year</th>\n",
       "      <th>2001 Credits Issued by Vintage Year</th>\n",
       "      <th>2002 Credits Issued by Vintage Year</th>\n",
       "      <th>2003 Credits Issued by Vintage Year</th>\n",
       "      <th>2004 Credits Issued by Vintage Year</th>\n",
       "      <th>2005 Credits Issued by Vintage Year</th>\n",
       "      <th>2006 Credits Issued by Vintage Year</th>\n",
       "      <th>2007 Credits Issued by Vintage Year</th>\n",
       "      <th>2008 Credits Issued by Vintage Year</th>\n",
       "      <th>2009 Credits Issued by Vintage Year</th>\n",
       "      <th>2010 Credits Issued by Vintage Year</th>\n",
       "      <th>2011 Credits Issued by Vintage Year</th>\n",
       "      <th>2012 Credits Issued by Vintage Year</th>\n",
       "      <th>2013 Credits Issued by Vintage Year</th>\n",
       "      <th>2014 Credits Issued by Vintage Year</th>\n",
       "      <th>2015 Credits Issued by Vintage Year</th>\n",
       "      <th>2016 Credits Issued by Vintage Year</th>\n",
       "      <th>2017 Credits Issued by Vintage Year</th>\n",
       "      <th>2018 Credits Issued by Vintage Year</th>\n",
       "      <th>2019 Credits Issued by Vintage Year</th>\n",
       "      <th>2020 Credits Issued by Vintage Year</th>\n",
       "      <th>2021 Credits Issued by Vintage Year</th>\n",
       "      <th>2022 Credits Issued by Vintage Year</th>\n",
       "      <th>2023 Credits Issued by Vintage Year</th>\n",
       "      <th>2024 Credits Issued by Vintage Year</th>\n",
       "    </tr>\n",
       "  </thead>\n",
       "  <tbody>\n",
       "    <tr>\n",
       "      <th>0</th>\n",
       "      <td>ACR102</td>\n",
       "      <td>0.0</td>\n",
       "      <td>0.0</td>\n",
       "      <td>0.0</td>\n",
       "      <td>0.0</td>\n",
       "      <td>0.0</td>\n",
       "      <td>0.0</td>\n",
       "      <td>0.0</td>\n",
       "      <td>1898382.0</td>\n",
       "      <td>3004613.0</td>\n",
       "      <td>3081011.0</td>\n",
       "      <td>0.0</td>\n",
       "      <td>0.0</td>\n",
       "      <td>0.0</td>\n",
       "      <td>0.0</td>\n",
       "      <td>0.0</td>\n",
       "      <td>0.0</td>\n",
       "      <td>0.0</td>\n",
       "      <td>0.0</td>\n",
       "      <td>0.0</td>\n",
       "      <td>0.0</td>\n",
       "      <td>0.0</td>\n",
       "      <td>0.0</td>\n",
       "      <td>0.0</td>\n",
       "      <td>0.0</td>\n",
       "      <td>0.0</td>\n",
       "      <td>0.0</td>\n",
       "      <td>0.0</td>\n",
       "      <td>0.0</td>\n",
       "      <td>0.0</td>\n",
       "    </tr>\n",
       "    <tr>\n",
       "      <th>1</th>\n",
       "      <td>ACR103</td>\n",
       "      <td>0.0</td>\n",
       "      <td>0.0</td>\n",
       "      <td>0.0</td>\n",
       "      <td>0.0</td>\n",
       "      <td>0.0</td>\n",
       "      <td>0.0</td>\n",
       "      <td>0.0</td>\n",
       "      <td>8072.0</td>\n",
       "      <td>5848.0</td>\n",
       "      <td>4409.0</td>\n",
       "      <td>3632.0</td>\n",
       "      <td>7998.0</td>\n",
       "      <td>13210.0</td>\n",
       "      <td>1033.0</td>\n",
       "      <td>0.0</td>\n",
       "      <td>0.0</td>\n",
       "      <td>0.0</td>\n",
       "      <td>0.0</td>\n",
       "      <td>0.0</td>\n",
       "      <td>0.0</td>\n",
       "      <td>0.0</td>\n",
       "      <td>0.0</td>\n",
       "      <td>0.0</td>\n",
       "      <td>0.0</td>\n",
       "      <td>0.0</td>\n",
       "      <td>0.0</td>\n",
       "      <td>0.0</td>\n",
       "      <td>0.0</td>\n",
       "      <td>0.0</td>\n",
       "    </tr>\n",
       "    <tr>\n",
       "      <th>2</th>\n",
       "      <td>ACR105</td>\n",
       "      <td>0.0</td>\n",
       "      <td>0.0</td>\n",
       "      <td>0.0</td>\n",
       "      <td>0.0</td>\n",
       "      <td>0.0</td>\n",
       "      <td>0.0</td>\n",
       "      <td>0.0</td>\n",
       "      <td>0.0</td>\n",
       "      <td>0.0</td>\n",
       "      <td>0.0</td>\n",
       "      <td>0.0</td>\n",
       "      <td>0.0</td>\n",
       "      <td>0.0</td>\n",
       "      <td>0.0</td>\n",
       "      <td>0.0</td>\n",
       "      <td>2572210.0</td>\n",
       "      <td>0.0</td>\n",
       "      <td>0.0</td>\n",
       "      <td>0.0</td>\n",
       "      <td>0.0</td>\n",
       "      <td>0.0</td>\n",
       "      <td>0.0</td>\n",
       "      <td>0.0</td>\n",
       "      <td>0.0</td>\n",
       "      <td>0.0</td>\n",
       "      <td>0.0</td>\n",
       "      <td>0.0</td>\n",
       "      <td>0.0</td>\n",
       "      <td>0.0</td>\n",
       "    </tr>\n",
       "    <tr>\n",
       "      <th>3</th>\n",
       "      <td>ACR106</td>\n",
       "      <td>0.0</td>\n",
       "      <td>0.0</td>\n",
       "      <td>0.0</td>\n",
       "      <td>0.0</td>\n",
       "      <td>0.0</td>\n",
       "      <td>0.0</td>\n",
       "      <td>0.0</td>\n",
       "      <td>0.0</td>\n",
       "      <td>0.0</td>\n",
       "      <td>0.0</td>\n",
       "      <td>95330.0</td>\n",
       "      <td>43162.0</td>\n",
       "      <td>0.0</td>\n",
       "      <td>0.0</td>\n",
       "      <td>0.0</td>\n",
       "      <td>0.0</td>\n",
       "      <td>0.0</td>\n",
       "      <td>0.0</td>\n",
       "      <td>0.0</td>\n",
       "      <td>0.0</td>\n",
       "      <td>0.0</td>\n",
       "      <td>0.0</td>\n",
       "      <td>0.0</td>\n",
       "      <td>0.0</td>\n",
       "      <td>0.0</td>\n",
       "      <td>0.0</td>\n",
       "      <td>0.0</td>\n",
       "      <td>0.0</td>\n",
       "      <td>0.0</td>\n",
       "    </tr>\n",
       "    <tr>\n",
       "      <th>4</th>\n",
       "      <td>ACR107</td>\n",
       "      <td>0.0</td>\n",
       "      <td>0.0</td>\n",
       "      <td>0.0</td>\n",
       "      <td>0.0</td>\n",
       "      <td>0.0</td>\n",
       "      <td>0.0</td>\n",
       "      <td>0.0</td>\n",
       "      <td>0.0</td>\n",
       "      <td>0.0</td>\n",
       "      <td>316.0</td>\n",
       "      <td>352.0</td>\n",
       "      <td>342.0</td>\n",
       "      <td>128.0</td>\n",
       "      <td>0.0</td>\n",
       "      <td>0.0</td>\n",
       "      <td>0.0</td>\n",
       "      <td>0.0</td>\n",
       "      <td>0.0</td>\n",
       "      <td>0.0</td>\n",
       "      <td>0.0</td>\n",
       "      <td>0.0</td>\n",
       "      <td>0.0</td>\n",
       "      <td>0.0</td>\n",
       "      <td>0.0</td>\n",
       "      <td>0.0</td>\n",
       "      <td>0.0</td>\n",
       "      <td>0.0</td>\n",
       "      <td>0.0</td>\n",
       "      <td>0.0</td>\n",
       "    </tr>\n",
       "  </tbody>\n",
       "</table>\n",
       "</div>"
      ],
      "text/plain": [
       "  Project ID  1996 Credits Issued by Vintage Year  \\\n",
       "0     ACR102                                  0.0   \n",
       "1     ACR103                                  0.0   \n",
       "2     ACR105                                  0.0   \n",
       "3     ACR106                                  0.0   \n",
       "4     ACR107                                  0.0   \n",
       "\n",
       "   1997 Credits Issued by Vintage Year  1998 Credits Issued by Vintage Year  \\\n",
       "0                                  0.0                                  0.0   \n",
       "1                                  0.0                                  0.0   \n",
       "2                                  0.0                                  0.0   \n",
       "3                                  0.0                                  0.0   \n",
       "4                                  0.0                                  0.0   \n",
       "\n",
       "   1999 Credits Issued by Vintage Year  2000 Credits Issued by Vintage Year  \\\n",
       "0                                  0.0                                  0.0   \n",
       "1                                  0.0                                  0.0   \n",
       "2                                  0.0                                  0.0   \n",
       "3                                  0.0                                  0.0   \n",
       "4                                  0.0                                  0.0   \n",
       "\n",
       "   2001 Credits Issued by Vintage Year  2002 Credits Issued by Vintage Year  \\\n",
       "0                                  0.0                                  0.0   \n",
       "1                                  0.0                                  0.0   \n",
       "2                                  0.0                                  0.0   \n",
       "3                                  0.0                                  0.0   \n",
       "4                                  0.0                                  0.0   \n",
       "\n",
       "   2003 Credits Issued by Vintage Year  2004 Credits Issued by Vintage Year  \\\n",
       "0                            1898382.0                            3004613.0   \n",
       "1                               8072.0                               5848.0   \n",
       "2                                  0.0                                  0.0   \n",
       "3                                  0.0                                  0.0   \n",
       "4                                  0.0                                  0.0   \n",
       "\n",
       "   2005 Credits Issued by Vintage Year  2006 Credits Issued by Vintage Year  \\\n",
       "0                            3081011.0                                  0.0   \n",
       "1                               4409.0                               3632.0   \n",
       "2                                  0.0                                  0.0   \n",
       "3                                  0.0                              95330.0   \n",
       "4                                316.0                                352.0   \n",
       "\n",
       "   2007 Credits Issued by Vintage Year  2008 Credits Issued by Vintage Year  \\\n",
       "0                                  0.0                                  0.0   \n",
       "1                               7998.0                              13210.0   \n",
       "2                                  0.0                                  0.0   \n",
       "3                              43162.0                                  0.0   \n",
       "4                                342.0                                128.0   \n",
       "\n",
       "   2009 Credits Issued by Vintage Year  2010 Credits Issued by Vintage Year  \\\n",
       "0                                  0.0                                  0.0   \n",
       "1                               1033.0                                  0.0   \n",
       "2                                  0.0                                  0.0   \n",
       "3                                  0.0                                  0.0   \n",
       "4                                  0.0                                  0.0   \n",
       "\n",
       "   2011 Credits Issued by Vintage Year  2012 Credits Issued by Vintage Year  \\\n",
       "0                                  0.0                                  0.0   \n",
       "1                                  0.0                                  0.0   \n",
       "2                            2572210.0                                  0.0   \n",
       "3                                  0.0                                  0.0   \n",
       "4                                  0.0                                  0.0   \n",
       "\n",
       "   2013 Credits Issued by Vintage Year  2014 Credits Issued by Vintage Year  \\\n",
       "0                                  0.0                                  0.0   \n",
       "1                                  0.0                                  0.0   \n",
       "2                                  0.0                                  0.0   \n",
       "3                                  0.0                                  0.0   \n",
       "4                                  0.0                                  0.0   \n",
       "\n",
       "   2015 Credits Issued by Vintage Year  2016 Credits Issued by Vintage Year  \\\n",
       "0                                  0.0                                  0.0   \n",
       "1                                  0.0                                  0.0   \n",
       "2                                  0.0                                  0.0   \n",
       "3                                  0.0                                  0.0   \n",
       "4                                  0.0                                  0.0   \n",
       "\n",
       "   2017 Credits Issued by Vintage Year  2018 Credits Issued by Vintage Year  \\\n",
       "0                                  0.0                                  0.0   \n",
       "1                                  0.0                                  0.0   \n",
       "2                                  0.0                                  0.0   \n",
       "3                                  0.0                                  0.0   \n",
       "4                                  0.0                                  0.0   \n",
       "\n",
       "   2019 Credits Issued by Vintage Year  2020 Credits Issued by Vintage Year  \\\n",
       "0                                  0.0                                  0.0   \n",
       "1                                  0.0                                  0.0   \n",
       "2                                  0.0                                  0.0   \n",
       "3                                  0.0                                  0.0   \n",
       "4                                  0.0                                  0.0   \n",
       "\n",
       "   2021 Credits Issued by Vintage Year  2022 Credits Issued by Vintage Year  \\\n",
       "0                                  0.0                                  0.0   \n",
       "1                                  0.0                                  0.0   \n",
       "2                                  0.0                                  0.0   \n",
       "3                                  0.0                                  0.0   \n",
       "4                                  0.0                                  0.0   \n",
       "\n",
       "   2023 Credits Issued by Vintage Year  2024 Credits Issued by Vintage Year  \n",
       "0                                  0.0                                  0.0  \n",
       "1                                  0.0                                  0.0  \n",
       "2                                  0.0                                  0.0  \n",
       "3                                  0.0                                  0.0  \n",
       "4                                  0.0                                  0.0  "
      ]
     },
     "execution_count": 24,
     "metadata": {},
     "output_type": "execute_result"
    }
   ],
   "source": [
    "pivot_vin_iss.head()"
   ]
  },
  {
   "cell_type": "code",
   "execution_count": 25,
   "id": "1f964f8b-304b-4674-a211-b1356f317bf3",
   "metadata": {},
   "outputs": [],
   "source": [
    "pivot_iss_rc= cred_piv_iss.pivot(index='project_id', columns='issuance_date', values='retirement_cancellation').reset_index()\n",
    "pivot_iss_rc = pivot_iss_rc.drop(columns=[0])\n",
    "pivot_iss_rc.columns = [pivot_iss_rc.columns[0]] + [f\"Credits Retired or Cancelled in {col}\" for col in pivot_iss_rc.columns[1:]]\n",
    "pivot_iss_rc.columns.values[0] = \"Project ID\"\n",
    "pivot_iss_rc.fillna(0, inplace=True)"
   ]
  },
  {
   "cell_type": "code",
   "execution_count": 26,
   "id": "dadaba1c-7d4e-45dd-b12b-ba9372d34d50",
   "metadata": {},
   "outputs": [],
   "source": [
    "merged_df = proj1.merge(cred_group_iss, on='Project ID', how='outer') \\\n",
    "                  .merge(cred_group_vin, on='Project ID', how='outer') \\\n",
    "                  .merge(pivot_iss_iss, on='Project ID', how='outer') \\\n",
    "                  .merge(pivot_vin_iss, on='Project ID', how='outer') \\\n",
    "                  .merge(pivot_iss_rc, on='Project ID', how='outer') \\\n",
    "                  .merge(proj2, on='Project ID', how='outer')"
   ]
  },
  {
   "cell_type": "code",
   "execution_count": 34,
   "id": "f39cc194-481b-40f0-a0f1-8367c230cfe6",
   "metadata": {},
   "outputs": [
    {
     "data": {
      "text/plain": [
       "array([nan, 'ODS'], dtype=object)"
      ]
     },
     "execution_count": 34,
     "metadata": {},
     "output_type": "execute_result"
    }
   ],
   "source": [
    "merged_df['WA Project Type'].unique()"
   ]
  },
  {
   "cell_type": "code",
   "execution_count": 33,
   "id": "b6b128c2-9c8f-4f62-bca1-51e52ede9f2c",
   "metadata": {},
   "outputs": [
    {
     "data": {
      "text/plain": [
       "Index(['Credits Retired or Cancelled in 2006',\n",
       "       'Credits Retired or Cancelled in 2007',\n",
       "       'Credits Retired or Cancelled in 2008',\n",
       "       'Credits Retired or Cancelled in 2009',\n",
       "       'Credits Retired or Cancelled in 2010',\n",
       "       'Credits Retired or Cancelled in 2011',\n",
       "       'Credits Retired or Cancelled in 2012',\n",
       "       'Credits Retired or Cancelled in 2013',\n",
       "       'Credits Retired or Cancelled in 2014',\n",
       "       'Credits Retired or Cancelled in 2015',\n",
       "       'Credits Retired or Cancelled in 2016',\n",
       "       'Credits Retired or Cancelled in 2017',\n",
       "       'Credits Retired or Cancelled in 2018',\n",
       "       'Credits Retired or Cancelled in 2019',\n",
       "       'Credits Retired or Cancelled in 2020',\n",
       "       'Credits Retired or Cancelled in 2021',\n",
       "       'Credits Retired or Cancelled in 2022',\n",
       "       'Credits Retired or Cancelled in 2023',\n",
       "       'Credits Retired or Cancelled in 2024', 'Offset Project Operator',\n",
       "       'Authorized Project Designee', 'Verifier',\n",
       "       'Estimated Annual Emission Reductions', 'ARB ID', 'ARB Project Type',\n",
       "       'ARB Project Status', 'WA ID', 'WA Project Type', 'POA ID',\n",
       "       'Project Listed', 'Project Registered', 'Sustainability Certification',\n",
       "       'Project Type From the Registry', 'Registry Documents',\n",
       "       'Project Website', 'Notes From Registry',\n",
       "       'Notes from the Berkeley Carbon Trading Project', 'Project Description',\n",
       "       'Added to Database Version - With Data Through', 'Registry/ARB/WA'],\n",
       "      dtype='object')"
      ]
     },
     "execution_count": 33,
     "metadata": {},
     "output_type": "execute_result"
    }
   ],
   "source": [
    "merged_df.columns[-40:]"
   ]
  },
  {
   "cell_type": "code",
   "execution_count": 27,
   "id": "d139016d-3c0c-4e0e-a04e-15a4028d5163",
   "metadata": {},
   "outputs": [],
   "source": [
    "merged_df['Registry/ARB/WA'] = merged_df['Voluntary Registry']\n",
    "merged_df.loc[merged_df['ARB/WA Project'].isin(['ARB Compliance', 'ARB Early Action']), 'Registry/ARB/WA'] = 'ARB'\n",
    "merged_df.loc[merged_df['ARB/WA Project'].isin(['WA Compliance', 'WA Early Action']), 'Registry/ARB/WA'] = 'WA'"
   ]
  },
  {
   "cell_type": "code",
   "execution_count": null,
   "id": "024d1c65-00c3-4b9a-9318-899bdd47e9a2",
   "metadata": {},
   "outputs": [],
   "source": [
    "merged_df[['Total Buffer Contributions by Issuance Year','Total Buffer Subtractions by Issuance Year','Total Credits Issued','Total Credits Retired']] = merged_df[['Total Buffer Contributions by Issuance Year','Total Buffer Subtractions by Issuance Year','Total Credits Issued','Total Credits Retired']].fillna(0).astype(int)\n",
    "merged_df['Total Credits Retired'] = merged_df['Total Credits Retired'].abs()\n",
    "merged_df[merged_df.columns[76:98]] = merged_df[merged_df.columns[76:98]].abs()\n",
    "merged_df['Total Credits Remaining'] = merged_df['Total Credits Issued']-merged_df['Total Credits Retired']"
   ]
  },
  {
   "cell_type": "code",
   "execution_count": null,
   "id": "a2d21d69-80f8-4e7a-a927-96254fdf2162",
   "metadata": {},
   "outputs": [],
   "source": [
    "merged_df[merged_df.filter(like='Credits Issued by Vintage Year').columns] = merged_df[merged_df.filter(like='Credits Issued by Vintage Year').columns].fillna(0)\n",
    "merged_df[merged_df.filter(like='Credits Issued by Issuance Year').columns] = merged_df[merged_df.filter(like='Credits Issued by Issuance Year').columns].fillna(0)\n",
    "merged_df[merged_df.filter(like='Credits Retired or Cancelled in').columns] = merged_df[merged_df.filter(like='Credits Retired or Cancelled in').columns].fillna(0)"
   ]
  },
  {
   "cell_type": "code",
   "execution_count": null,
   "id": "997f98e9-cc90-405d-afa7-7acba34f9171",
   "metadata": {},
   "outputs": [],
   "source": [
    "merged_df = merged_df.drop(columns=['Type Rule','Type ML','Confidence Level','ARB ID', 'ARB Project Type','ARB Project Status', 'WA ID', 'WA Project Type', 'POA ID','Project Description'])"
   ]
  },
  {
   "cell_type": "code",
   "execution_count": null,
   "id": "693d3c9d-1256-4e7a-baa3-bf90fc649566",
   "metadata": {},
   "outputs": [],
   "source": [
    "merged_df.columns[73:95]"
   ]
  },
  {
   "cell_type": "code",
   "execution_count": null,
   "id": "086cccb0-4f16-49dc-a457-5c83e18c0948",
   "metadata": {},
   "outputs": [],
   "source": [
    "columns_to_duplicate = merged_df.columns[73:95]\n",
    "new_column_names = [col[-4:] + ' Credits Remaining by Vintage' for col in columns_to_duplicate]\n",
    "# Duplicate the columns with new names\n",
    "new_columns_df = merged_df[columns_to_duplicate].copy()\n",
    "new_columns_df.columns = new_column_names\n",
    "# Concatenate the new columns to the original DataFrame\n",
    "merged_df = pd.concat([merged_df, new_columns_df], axis=1)"
   ]
  },
  {
   "cell_type": "code",
   "execution_count": null,
   "id": "e8929b4b-c214-4052-bc3e-dd1d509b0b1e",
   "metadata": {},
   "outputs": [],
   "source": [
    "# Define the function\n",
    "def process_columns(df, start_col):\n",
    "    # Create or reset 'temp2' column\n",
    "    df['temp'] = df['Total Credits Issued']\n",
    "    df['temp2'] = 0  # Initialize temp2 to 0\n",
    "    \n",
    "    # Iterate over columns starting from the specified index\n",
    "    for col in df.columns[start_col:]:\n",
    "        df['temp2'] = df[col]  # Copy current column to temp2\n",
    "        df[col] = df[col].where(df[col] != 0, df['temp'] - df['temp2'])  # Subtract temp if not 0\n",
    "        df['temp'] = df['temp'] - df['temp2']\n",
    "    return df\n",
    "\n",
    "# Call the function\n",
    "merged_df = process_columns(merged_df, 110)"
   ]
  },
  {
   "cell_type": "code",
   "execution_count": null,
   "id": "618aecfc-8ef5-4f2c-be35-32a7f09e6b0c",
   "metadata": {},
   "outputs": [],
   "source": [
    "columns_to_duplicate"
   ]
  },
  {
   "cell_type": "code",
   "execution_count": null,
   "id": "37618891-95af-447f-bf86-67daaa9e8d6c",
   "metadata": {},
   "outputs": [],
   "source": [
    "column_order = ['Project ID', 'Project Name', 'Voluntary Registry', 'ARB/WA Project',\n",
    "       'Voluntary Status', 'Scope', 'Type', 'Reduction/Removal', 'Methodology/Protocol', \n",
    "       'Region', 'Country', 'State', 'Project Site Location','Project Developer', \n",
    "       'Total Credits Issued', 'Total Credits Retired', 'Total Credits Remaining',\n",
    "       #'Total Buffer Pool Retirements', 'Reversals Covered by Buffer Pool', #fix\n",
    "       #'Reversals Not Covered by Buffer Pool', #fix\n",
    "       'First Year of Project',\n",
    "       '2002 Credits Issued by Vintage Year', '2004 Credits Issued by Vintage Year','2005 Credits Issued by Vintage Year', \n",
    "       '2006 Credits Issued by Vintage Year','2007 Credits Issued by Vintage Year', '2008 Credits Issued by Vintage Year',\n",
    "       '2009 Credits Issued by Vintage Year', '2010 Credits Issued by Vintage Year','2011 Credits Issued by Vintage Year', \n",
    "       '2012 Credits Issued by Vintage Year','2013 Credits Issued by Vintage Year','2014 Credits Issued by Vintage Year', \n",
    "       '2015 Credits Issued by Vintage Year','2016 Credits Issued by Vintage Year', '2017 Credits Issued by Vintage Year',\n",
    "       '2018 Credits Issued by Vintage Year', '2019 Credits Issued by Vintage Year', '2020 Credits Issued by Vintage Year', \n",
    "       '2021 Credits Issued by Vintage Year', '2022 Credits Issued by Vintage Year', '2023 Credits Issued by Vintage Year',\n",
    "       '2024 Credits Issued by Vintage Year','1996 Credits Issued by Vintage Year','1997 Credits Issued by Vintage Year',\n",
    "       '1998 Credits Issued by Vintage Year','1999 Credits Issued by Vintage Year','2000 Credits Issued by Vintage Year',\n",
    "       '2001 Credits Issued by Vintage Year','2002 Credits Issued by Vintage Year','2003 Credits Issued by Vintage Year',\n",
    "       '2004 Credits Issued by Vintage Year','2005 Credits Issued by Vintage Year','2006 Credits Issued by Vintage Year',\n",
    "       '2007 Credits Issued by Vintage Year','2008 Credits Issued by Vintage Year','2009 Credits Issued by Vintage Year',\n",
    "       '2010 Credits Issued by Vintage Year','2011 Credits Issued by Vintage Year','2012 Credits Issued by Vintage Year',\n",
    "       '2013 Credits Issued by Vintage Year','2014 Credits Issued by Vintage Year','2015 Credits Issued by Vintage Year',\n",
    "       '2016 Credits Issued by Vintage Year','2017 Credits Issued by Vintage Year','2018 Credits Issued by Vintage Year',\n",
    "       '2019 Credits Issued by Vintage Year','2020 Credits Issued by Vintage Year','2021 Credits Issued by Vintage Year',\n",
    "       '2022 Credits Issued by Vintage Year','2023 Credits Issued by Vintage Year','2024 Credits Issued by Vintage Year',\n",
    "       'Credits Retired or Cancelled in 2002','Credits Retired or Cancelled in 2004',\n",
    "       'Credits Retired or Cancelled in 2005','Credits Retired or Cancelled in 2006','Credits Retired or Cancelled in 2007',\n",
    "       'Credits Retired or Cancelled in 2008','Credits Retired or Cancelled in 2009','Credits Retired or Cancelled in 2010',\n",
    "       'Credits Retired or Cancelled in 2011','Credits Retired or Cancelled in 2012','Credits Retired or Cancelled in 2013',\n",
    "       'Credits Retired or Cancelled in 2014','Credits Retired or Cancelled in 2015','Credits Retired or Cancelled in 2016',\n",
    "       'Credits Retired or Cancelled in 2017','Credits Retired or Cancelled in 2018','Credits Retired or Cancelled in 2019',\n",
    "       'Credits Retired or Cancelled in 2020','Credits Retired or Cancelled in 2021','Credits Retired or Cancelled in 2022',\n",
    "       'Credits Retired or Cancelled in 2023','Credits Retired or Cancelled in 2024',\n",
    "       '2002 Credits Remaining by Vintage','2004 Credits Remaining by Vintage','2005 Credits Remaining by Vintage',\n",
    "       '2006 Credits Remaining by Vintage','2007 Credits Remaining by Vintage','2008 Credits Remaining by Vintage',\n",
    "       '2009 Credits Remaining by Vintage','2010 Credits Remaining by Vintage','2011 Credits Remaining by Vintage',\n",
    "       '2012 Credits Remaining by Vintage','2013 Credits Remaining by Vintage','2014 Credits Remaining by Vintage',\n",
    "       '2015 Credits Remaining by Vintage','2016 Credits Remaining by Vintage','2017 Credits Remaining by Vintage',\n",
    "       '2018 Credits Remaining by Vintage','2019 Credits Remaining by Vintage','2020 Credits Remaining by Vintage',\n",
    "       '2021 Credits Remaining by Vintage','2022 Credits Remaining by Vintage','2023 Credits Remaining by Vintage',\n",
    "       '2024 Credits Remaining by Vintage',\n",
    "       'Project Owner', 'Offset Project Operator','Authorized Project Designee', 'Verifier',\n",
    "       'Estimated Annual Emission Reductions', \n",
    "       'PERs',\n",
    "       'Registry/ARB/WA','Project Listed', 'Project Registered', 'Sustainability Certification',\n",
    "       'Project Type From the Registry', 'Registry Documents','Project Website', 'Notes From Registry',\n",
    "       '2002 Credits Issued by Issuance Year','2004 Credits Issued by Issuance Year','2005 Credits Issued by Issuance Year',\n",
    "       '2006 Credits Issued by Issuance Year','2007 Credits Issued by Issuance Year','2008 Credits Issued by Issuance Year',\n",
    "       '2009 Credits Issued by Issuance Year','2010 Credits Issued by Issuance Year','2011 Credits Issued by Issuance Year',\n",
    "       '2012 Credits Issued by Issuance Year','2013 Credits Issued by Issuance Year','2014 Credits Issued by Issuance Year',\n",
    "       '2015 Credits Issued by Issuance Year','2016 Credits Issued by Issuance Year','2017 Credits Issued by Issuance Year',\n",
    "       '2018 Credits Issued by Issuance Year','2019 Credits Issued by Issuance Year','2020 Credits Issued by Issuance Year',\n",
    "       '2021 Credits Issued by Issuance Year',\n",
    "       'Notes from the Berkeley Carbon Trading Project', 'Added to Database Version - With Data Through']"
   ]
  },
  {
   "cell_type": "code",
   "execution_count": null,
   "id": "061e8f27-a826-41b7-bf63-cbc64178553a",
   "metadata": {},
   "outputs": [],
   "source": [
    "merged_df = merged_df[column_order]"
   ]
  },
  {
   "cell_type": "code",
   "execution_count": null,
   "id": "f34e0281-6696-4b8a-acf3-8e794d5f7a45",
   "metadata": {},
   "outputs": [],
   "source": [
    "merged_df.head()"
   ]
  },
  {
   "cell_type": "code",
   "execution_count": null,
   "id": "8b95cbf4-eefa-4815-9ce8-f7d3d4a126f7",
   "metadata": {},
   "outputs": [],
   "source": [
    "merged_df.to_csv(\"Project_Tab.csv\", index=False)\n",
    "merged_df.to_csv(\"../../streamlit_test/data/Project_Tab.csv\", index=False)"
   ]
  },
  {
   "cell_type": "code",
   "execution_count": null,
   "id": "2838c5d2-b3a2-49ea-9d21-197889e0e0b5",
   "metadata": {},
   "outputs": [],
   "source": [
    "cred_piv_iss.columns = ['Project ID', 'Year', 'Buffer Contributions by Issuance Year','Buffer Subtractions by Issuance Year','Credits Issued by Issuance Year','Issuance Per','Credits Retired by Issuance Year']\n",
    "cred_piv_vin.columns = ['Project ID', 'Vintage Year', 'Buffer Contributions by Vintage Year','Buffer Subtractions by Vintage Year','Credits Issued by Vintage Year','Issuance Per','Credits Retired by Vintage Year']"
   ]
  },
  {
   "cell_type": "code",
   "execution_count": null,
   "id": "ab7f300b-abae-4e23-8b61-53fe974f0963",
   "metadata": {},
   "outputs": [],
   "source": [
    "merged_df2 =  proj1.merge(cred_piv_iss, on='Project ID', how ='outer') \\\n",
    "                .merge(cred_group_iss, on='Project ID', how ='outer')\n",
    "\n",
    "merged_df2['Registry/ARB/WA'] = merged_df2['Voluntary Registry']\n",
    "merged_df2.loc[merged_df2['ARB/WA Project'].isin(['ARB Compliance', 'ARB Early Action']), 'Registry/ARB/WA'] = 'ARB'\n",
    "merged_df2.loc[merged_df2['ARB/WA Project'].isin(['WA Compliance', 'WA Early Action']), 'Registry/ARB/WA'] = 'WA'\n",
    "\n",
    "merged_df2[['Total Buffer Contributions by Issuance Year','Total Buffer Subtractions by Issuance Year','Total Credits Issued','Issuance Per','Total Credits Retired']] = merged_df2[['Total Buffer Contributions by Issuance Year','Total Buffer Subtractions by Issuance Year','Total Credits Issued','Issuance Per','Total Credits Retired']].fillna(0).astype(int)\n",
    "merged_df2['Total Credits Retired'] = merged_df2['Total Credits Retired'].abs()"
   ]
  },
  {
   "cell_type": "code",
   "execution_count": null,
   "id": "9f8061da-3629-463b-b313-c50aa2261721",
   "metadata": {},
   "outputs": [],
   "source": [
    "merged_df2['Year'].unique()\n",
    "merged_df2 = merged_df2[(merged_df2['Year'].notna()) & (merged_df2['Year'] != '0')]"
   ]
  },
  {
   "cell_type": "code",
   "execution_count": null,
   "id": "62094b2b-8161-4516-b700-c5e253ef2419",
   "metadata": {},
   "outputs": [],
   "source": [
    "merged_df2.head()"
   ]
  },
  {
   "cell_type": "code",
   "execution_count": null,
   "id": "8e8e5fdf-e4bc-4952-b47f-dd5494d1c160",
   "metadata": {},
   "outputs": [],
   "source": [
    "merged_df2.to_csv(\"../../streamlit_test/data/Project_Tab_Pivoted.csv\", index=False)"
   ]
  },
  {
   "cell_type": "code",
   "execution_count": null,
   "id": "3ab2d65c-c074-4380-b50f-5d1169d8ae9a",
   "metadata": {},
   "outputs": [],
   "source": []
  }
 ],
 "metadata": {
  "kernelspec": {
   "display_name": "Python 3 (ipykernel)",
   "language": "python",
   "name": "python3"
  },
  "language_info": {
   "codemirror_mode": {
    "name": "ipython",
    "version": 3
   },
   "file_extension": ".py",
   "mimetype": "text/x-python",
   "name": "python",
   "nbconvert_exporter": "python",
   "pygments_lexer": "ipython3",
   "version": "3.9.19"
  }
 },
 "nbformat": 4,
 "nbformat_minor": 5
}
