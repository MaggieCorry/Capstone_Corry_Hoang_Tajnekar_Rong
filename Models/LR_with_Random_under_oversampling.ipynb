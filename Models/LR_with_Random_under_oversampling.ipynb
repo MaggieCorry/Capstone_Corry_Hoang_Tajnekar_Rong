{
 "cells": [
  {
   "cell_type": "markdown",
   "id": "a5da8514-b223-45e6-a85f-f6222ea7643b",
   "metadata": {},
   "source": [
    "### Import Libraries"
   ]
  },
  {
   "cell_type": "code",
   "execution_count": null,
   "id": "5f8ccc4b-ba47-4040-a4e0-64702acddb67",
   "metadata": {},
   "outputs": [],
   "source": [
    "pip install imbalanced-learn transformers torch scikit-learn"
   ]
  },
  {
   "cell_type": "code",
   "execution_count": 1,
   "id": "53f5564b-f86b-4042-85c5-116aac81da4f",
   "metadata": {},
   "outputs": [],
   "source": [
    "import pandas as pd\n",
    "import matplotlib.pyplot as plt\n",
    "import numpy as np\n",
    "from sklearn.feature_extraction.text import TfidfVectorizer\n",
    "from imblearn.over_sampling import SMOTE\n",
    "from imblearn.over_sampling import ADASYN\n",
    "from imblearn.under_sampling import RandomUnderSampler\n",
    "from imblearn.pipeline import Pipeline\n",
    "from collections import Counter\n",
    "from sklearn.linear_model import LogisticRegression\n",
    "from sklearn.metrics import classification_report\n",
    "from sklearn.model_selection import train_test_split"
   ]
  },
  {
   "cell_type": "markdown",
   "id": "f2e723ba-2a7e-4679-915f-98a48138b6cc",
   "metadata": {},
   "source": [
    "### Read the test and train dataset from the checkpoint"
   ]
  },
  {
   "cell_type": "code",
   "execution_count": 2,
   "id": "f50f870f-af0d-4b8d-b6aa-20f0b6738c4c",
   "metadata": {},
   "outputs": [],
   "source": [
    "train_df = pd.read_csv(\"../data/train_dataset.csv\")"
   ]
  },
  {
   "cell_type": "code",
   "execution_count": 3,
   "id": "5c686820-0ea3-44ff-9ddf-05190c7e7ac5",
   "metadata": {},
   "outputs": [
    {
     "data": {
      "text/plain": [
       "(7269, 9)"
      ]
     },
     "execution_count": 3,
     "metadata": {},
     "output_type": "execute_result"
    }
   ],
   "source": [
    "train_df.shape"
   ]
  },
  {
   "cell_type": "markdown",
   "id": "b12bb36c-5eca-4365-aef4-258d45a1c3aa",
   "metadata": {},
   "source": [
    "## Data Preprocessing"
   ]
  },
  {
   "cell_type": "code",
   "execution_count": 4,
   "id": "da5f73d0-f307-4035-8ca7-b884f321ffd3",
   "metadata": {},
   "outputs": [
    {
     "name": "stdout",
     "output_type": "stream",
     "text": [
      "\n",
      "Unique Value Counts:\n",
      "project_name                      7210\n",
      "methodology_or_protocol            359\n",
      "region                              13\n",
      "voluntary_registry                   4\n",
      "project_type_from_the_registry     106\n",
      "project_developer                 2572\n",
      "arborwaproject                       4\n",
      "scope                                9\n",
      "type                                78\n",
      "dtype: int64\n"
     ]
    }
   ],
   "source": [
    "# Get unique count of values in each column\n",
    "unique_counts = train_df.apply(lambda x: x.nunique())\n",
    "print(\"\\nUnique Value Counts:\")\n",
    "print(unique_counts)"
   ]
  },
  {
   "cell_type": "code",
   "execution_count": 5,
   "id": "506128d8-fd24-47c6-8a53-815ff398010b",
   "metadata": {
    "scrolled": true
   },
   "outputs": [
    {
     "data": {
      "text/html": [
       "<div>\n",
       "<style scoped>\n",
       "    .dataframe tbody tr th:only-of-type {\n",
       "        vertical-align: middle;\n",
       "    }\n",
       "\n",
       "    .dataframe tbody tr th {\n",
       "        vertical-align: top;\n",
       "    }\n",
       "\n",
       "    .dataframe thead th {\n",
       "        text-align: right;\n",
       "    }\n",
       "</style>\n",
       "<table border=\"1\" class=\"dataframe\">\n",
       "  <thead>\n",
       "    <tr style=\"text-align: right;\">\n",
       "      <th></th>\n",
       "      <th>project_name</th>\n",
       "      <th>methodology_or_protocol</th>\n",
       "      <th>region</th>\n",
       "      <th>voluntary_registry</th>\n",
       "      <th>project_type_from_the_registry</th>\n",
       "      <th>project_developer</th>\n",
       "      <th>arborwaproject</th>\n",
       "      <th>scope</th>\n",
       "      <th>type</th>\n",
       "    </tr>\n",
       "  </thead>\n",
       "  <tbody>\n",
       "    <tr>\n",
       "      <th>31</th>\n",
       "      <td>Two Fiets Digester</td>\n",
       "      <td>CAR U.S. Livestock Protocol</td>\n",
       "      <td>North America</td>\n",
       "      <td>CAR</td>\n",
       "      <td>Livestock Gas Capture/Combustion</td>\n",
       "      <td>Maas Energy Works, Inc.</td>\n",
       "      <td>No</td>\n",
       "      <td>Agriculture</td>\n",
       "      <td>Manure Methane Digester</td>\n",
       "    </tr>\n",
       "    <tr>\n",
       "      <th>82</th>\n",
       "      <td>Usak Wind Power Plant</td>\n",
       "      <td>ACM0002</td>\n",
       "      <td>Western Asia</td>\n",
       "      <td>VCS</td>\n",
       "      <td>Energy industries (renewable/non-renewable sou...</td>\n",
       "      <td>Aydem Yenilenebilir Enerji A.Ş.</td>\n",
       "      <td>No</td>\n",
       "      <td>Renewable Energy</td>\n",
       "      <td>Wind</td>\n",
       "    </tr>\n",
       "    <tr>\n",
       "      <th>127</th>\n",
       "      <td>Coolgas 2019-2</td>\n",
       "      <td>ARB Compliance Offset Protocol: Destruction of...</td>\n",
       "      <td>North America</td>\n",
       "      <td>ACR</td>\n",
       "      <td>Ozone Depleting Substances</td>\n",
       "      <td>A-Gas US Inc.</td>\n",
       "      <td>Compliance</td>\n",
       "      <td>Chemical Processes</td>\n",
       "      <td>Ozone Depleting Substances Recovery &amp; Destruction</td>\n",
       "    </tr>\n",
       "    <tr>\n",
       "      <th>138</th>\n",
       "      <td>SPI Wildfire Reforestation Project #3</td>\n",
       "      <td>ARB Compliance Offset Protocol: U.S. Forest Pr...</td>\n",
       "      <td>North America</td>\n",
       "      <td>CAR</td>\n",
       "      <td>Reforestation - ARB Compliance</td>\n",
       "      <td>Sierra Pacific Industries</td>\n",
       "      <td>Compliance</td>\n",
       "      <td>Forestry &amp; Land Use</td>\n",
       "      <td>Afforestation/Reforestation</td>\n",
       "    </tr>\n",
       "    <tr>\n",
       "      <th>147</th>\n",
       "      <td>Corinth Abandoned Mine Methane Recovery Project</td>\n",
       "      <td>ARB Compliance Offset Protocol: Mine Methane C...</td>\n",
       "      <td>North America</td>\n",
       "      <td>ACR</td>\n",
       "      <td>Coal Mine Methane</td>\n",
       "      <td>Keyrock Energy LLC</td>\n",
       "      <td>Compliance</td>\n",
       "      <td>Industrial &amp; Commercial</td>\n",
       "      <td>Mine Methane Capture</td>\n",
       "    </tr>\n",
       "    <tr>\n",
       "      <th>...</th>\n",
       "      <td>...</td>\n",
       "      <td>...</td>\n",
       "      <td>...</td>\n",
       "      <td>...</td>\n",
       "      <td>...</td>\n",
       "      <td>...</td>\n",
       "      <td>...</td>\n",
       "      <td>...</td>\n",
       "      <td>...</td>\n",
       "    </tr>\n",
       "    <tr>\n",
       "      <th>6825</th>\n",
       "      <td>9 MW Wind Energy Farm at Jodhpur Rajasthan by HZL</td>\n",
       "      <td>AMS-I.D.</td>\n",
       "      <td>Southern Asia</td>\n",
       "      <td>VCS</td>\n",
       "      <td>Energy industries (renewable/non-renewable sou...</td>\n",
       "      <td>Hindustan Zinc Limited</td>\n",
       "      <td>No</td>\n",
       "      <td>Renewable Energy</td>\n",
       "      <td>Wind</td>\n",
       "    </tr>\n",
       "    <tr>\n",
       "      <th>6940</th>\n",
       "      <td>Finite Carbon - Brosnan Forest</td>\n",
       "      <td>ARB Compliance Offset Protocol: U.S. Forest Pr...</td>\n",
       "      <td>North America</td>\n",
       "      <td>CAR</td>\n",
       "      <td>Improved Forest Management - ARB Compliance</td>\n",
       "      <td>Norfolk Southern Railway Company</td>\n",
       "      <td>Compliance</td>\n",
       "      <td>Forestry &amp; Land Use</td>\n",
       "      <td>Improved Forest Management</td>\n",
       "    </tr>\n",
       "    <tr>\n",
       "      <th>6951</th>\n",
       "      <td>Robeson County Landfill</td>\n",
       "      <td>ACM0001</td>\n",
       "      <td>North America</td>\n",
       "      <td>VCS</td>\n",
       "      <td>Waste handling and disposal</td>\n",
       "      <td>3Degrees Group, Inc</td>\n",
       "      <td>No</td>\n",
       "      <td>Waste Management</td>\n",
       "      <td>Landfill Methane</td>\n",
       "    </tr>\n",
       "    <tr>\n",
       "      <th>7021</th>\n",
       "      <td>Alliance Dairy</td>\n",
       "      <td>CAR U.S. Livestock Protocol</td>\n",
       "      <td>North America</td>\n",
       "      <td>CAR</td>\n",
       "      <td>Livestock Gas Capture/Combustion</td>\n",
       "      <td>3Degrees Group, Inc</td>\n",
       "      <td>No</td>\n",
       "      <td>Agriculture</td>\n",
       "      <td>Manure Methane Digester</td>\n",
       "    </tr>\n",
       "    <tr>\n",
       "      <th>7122</th>\n",
       "      <td>3 MW bundled wind Power Project in Tamil Nadu</td>\n",
       "      <td>AMS-I.D. Grid connected renewable electricity ...</td>\n",
       "      <td>Southern Asia</td>\n",
       "      <td>GOLD</td>\n",
       "      <td>Wind</td>\n",
       "      <td>EKI Energy Services Limited</td>\n",
       "      <td>No</td>\n",
       "      <td>Renewable Energy</td>\n",
       "      <td>Wind</td>\n",
       "    </tr>\n",
       "  </tbody>\n",
       "</table>\n",
       "<p>117 rows × 9 columns</p>\n",
       "</div>"
      ],
      "text/plain": [
       "                                           project_name  \\\n",
       "31                                   Two Fiets Digester   \n",
       "82                                Usak Wind Power Plant   \n",
       "127                                      Coolgas 2019-2   \n",
       "138               SPI Wildfire Reforestation Project #3   \n",
       "147     Corinth Abandoned Mine Methane Recovery Project   \n",
       "...                                                 ...   \n",
       "6825  9 MW Wind Energy Farm at Jodhpur Rajasthan by HZL   \n",
       "6940                     Finite Carbon - Brosnan Forest   \n",
       "6951                            Robeson County Landfill   \n",
       "7021                                     Alliance Dairy   \n",
       "7122      3 MW bundled wind Power Project in Tamil Nadu   \n",
       "\n",
       "                                methodology_or_protocol         region  \\\n",
       "31                          CAR U.S. Livestock Protocol  North America   \n",
       "82                                              ACM0002   Western Asia   \n",
       "127   ARB Compliance Offset Protocol: Destruction of...  North America   \n",
       "138   ARB Compliance Offset Protocol: U.S. Forest Pr...  North America   \n",
       "147   ARB Compliance Offset Protocol: Mine Methane C...  North America   \n",
       "...                                                 ...            ...   \n",
       "6825                                           AMS-I.D.  Southern Asia   \n",
       "6940  ARB Compliance Offset Protocol: U.S. Forest Pr...  North America   \n",
       "6951                                            ACM0001  North America   \n",
       "7021                        CAR U.S. Livestock Protocol  North America   \n",
       "7122  AMS-I.D. Grid connected renewable electricity ...  Southern Asia   \n",
       "\n",
       "     voluntary_registry                     project_type_from_the_registry  \\\n",
       "31                  CAR                   Livestock Gas Capture/Combustion   \n",
       "82                  VCS  Energy industries (renewable/non-renewable sou...   \n",
       "127                 ACR                         Ozone Depleting Substances   \n",
       "138                 CAR                     Reforestation - ARB Compliance   \n",
       "147                 ACR                                  Coal Mine Methane   \n",
       "...                 ...                                                ...   \n",
       "6825                VCS  Energy industries (renewable/non-renewable sou...   \n",
       "6940                CAR        Improved Forest Management - ARB Compliance   \n",
       "6951                VCS                        Waste handling and disposal   \n",
       "7021                CAR                   Livestock Gas Capture/Combustion   \n",
       "7122               GOLD                                               Wind   \n",
       "\n",
       "                     project_developer arborwaproject  \\\n",
       "31             Maas Energy Works, Inc.             No   \n",
       "82     Aydem Yenilenebilir Enerji A.Ş.             No   \n",
       "127                      A-Gas US Inc.     Compliance   \n",
       "138          Sierra Pacific Industries     Compliance   \n",
       "147                 Keyrock Energy LLC     Compliance   \n",
       "...                                ...            ...   \n",
       "6825            Hindustan Zinc Limited             No   \n",
       "6940  Norfolk Southern Railway Company     Compliance   \n",
       "6951               3Degrees Group, Inc             No   \n",
       "7021               3Degrees Group, Inc             No   \n",
       "7122       EKI Energy Services Limited             No   \n",
       "\n",
       "                        scope  \\\n",
       "31                Agriculture   \n",
       "82           Renewable Energy   \n",
       "127        Chemical Processes   \n",
       "138       Forestry & Land Use   \n",
       "147   Industrial & Commercial   \n",
       "...                       ...   \n",
       "6825         Renewable Energy   \n",
       "6940      Forestry & Land Use   \n",
       "6951         Waste Management   \n",
       "7021              Agriculture   \n",
       "7122         Renewable Energy   \n",
       "\n",
       "                                                   type  \n",
       "31                              Manure Methane Digester  \n",
       "82                                                 Wind  \n",
       "127   Ozone Depleting Substances Recovery & Destruction  \n",
       "138                         Afforestation/Reforestation  \n",
       "147                                Mine Methane Capture  \n",
       "...                                                 ...  \n",
       "6825                                               Wind  \n",
       "6940                         Improved Forest Management  \n",
       "6951                                   Landfill Methane  \n",
       "7021                            Manure Methane Digester  \n",
       "7122                                               Wind  \n",
       "\n",
       "[117 rows x 9 columns]"
      ]
     },
     "execution_count": 5,
     "metadata": {},
     "output_type": "execute_result"
    }
   ],
   "source": [
    "# Step 1: Identify duplicate project names\n",
    "duplicate_projects = train_df[train_df.duplicated('project_name', keep=False)]\n",
    "duplicate_projects"
   ]
  },
  {
   "cell_type": "code",
   "execution_count": 6,
   "id": "8b31efb9-1d7b-420b-b5a3-0e58b3bdad30",
   "metadata": {},
   "outputs": [
    {
     "data": {
      "text/plain": [
       "(117, 9)"
      ]
     },
     "execution_count": 6,
     "metadata": {},
     "output_type": "execute_result"
    }
   ],
   "source": [
    "duplicate_projects.shape"
   ]
  },
  {
   "cell_type": "markdown",
   "id": "28bf5bb7-cae1-426f-9b21-027113d837a0",
   "metadata": {},
   "source": [
    "### SMOTE to handle Data Imbalance of minority classes"
   ]
  },
  {
   "cell_type": "markdown",
   "id": "43cc87ad-a604-414b-82a7-0f01dbf62ec5",
   "metadata": {},
   "source": [
    "## Identify the outliers from projectTypes"
   ]
  },
  {
   "cell_type": "code",
   "execution_count": 7,
   "id": "9fb02782-169b-414b-a303-7de4ed166060",
   "metadata": {},
   "outputs": [
    {
     "data": {
      "text/html": [
       "<div>\n",
       "<style scoped>\n",
       "    .dataframe tbody tr th:only-of-type {\n",
       "        vertical-align: middle;\n",
       "    }\n",
       "\n",
       "    .dataframe tbody tr th {\n",
       "        vertical-align: top;\n",
       "    }\n",
       "\n",
       "    .dataframe thead th {\n",
       "        text-align: right;\n",
       "    }\n",
       "</style>\n",
       "<table border=\"1\" class=\"dataframe\">\n",
       "  <thead>\n",
       "    <tr style=\"text-align: right;\">\n",
       "      <th></th>\n",
       "      <th>type</th>\n",
       "      <th>count</th>\n",
       "    </tr>\n",
       "  </thead>\n",
       "  <tbody>\n",
       "    <tr>\n",
       "      <th>0</th>\n",
       "      <td>Cookstoves</td>\n",
       "      <td>1166</td>\n",
       "    </tr>\n",
       "    <tr>\n",
       "      <th>1</th>\n",
       "      <td>Wind</td>\n",
       "      <td>831</td>\n",
       "    </tr>\n",
       "    <tr>\n",
       "      <th>2</th>\n",
       "      <td>Improved Forest Management</td>\n",
       "      <td>597</td>\n",
       "    </tr>\n",
       "    <tr>\n",
       "      <th>3</th>\n",
       "      <td>Hydropower</td>\n",
       "      <td>419</td>\n",
       "    </tr>\n",
       "    <tr>\n",
       "      <th>4</th>\n",
       "      <td>Afforestation/Reforestation</td>\n",
       "      <td>374</td>\n",
       "    </tr>\n",
       "    <tr>\n",
       "      <th>...</th>\n",
       "      <td>...</td>\n",
       "      <td>...</td>\n",
       "    </tr>\n",
       "    <tr>\n",
       "      <th>73</th>\n",
       "      <td>Improved irrigation management</td>\n",
       "      <td>1</td>\n",
       "    </tr>\n",
       "    <tr>\n",
       "      <th>74</th>\n",
       "      <td>Pneumatic Retrofit</td>\n",
       "      <td>1</td>\n",
       "    </tr>\n",
       "    <tr>\n",
       "      <th>75</th>\n",
       "      <td>Compost Addition to Rangeland</td>\n",
       "      <td>1</td>\n",
       "    </tr>\n",
       "    <tr>\n",
       "      <th>76</th>\n",
       "      <td>Grid Expansion &amp; Mini-Grids</td>\n",
       "      <td>1</td>\n",
       "    </tr>\n",
       "    <tr>\n",
       "      <th>77</th>\n",
       "      <td>Carbon Capture in Plastic</td>\n",
       "      <td>1</td>\n",
       "    </tr>\n",
       "  </tbody>\n",
       "</table>\n",
       "<p>78 rows × 2 columns</p>\n",
       "</div>"
      ],
      "text/plain": [
       "                              type  count\n",
       "0                       Cookstoves   1166\n",
       "1                             Wind    831\n",
       "2       Improved Forest Management    597\n",
       "3                       Hydropower    419\n",
       "4      Afforestation/Reforestation    374\n",
       "..                             ...    ...\n",
       "73  Improved irrigation management      1\n",
       "74              Pneumatic Retrofit      1\n",
       "75   Compost Addition to Rangeland      1\n",
       "76     Grid Expansion & Mini-Grids      1\n",
       "77       Carbon Capture in Plastic      1\n",
       "\n",
       "[78 rows x 2 columns]"
      ]
     },
     "execution_count": 7,
     "metadata": {},
     "output_type": "execute_result"
    }
   ],
   "source": [
    "\n",
    "type_df = train_df[\"type\"]\n",
    "type_counts = type_df.value_counts().reset_index()\n",
    "type_counts.columns = [\"type\", 'count']\n",
    "\n",
    "type_counts\n"
   ]
  },
  {
   "cell_type": "code",
   "execution_count": 8,
   "id": "b1384b10-0e91-4422-b505-10d7fb308c49",
   "metadata": {},
   "outputs": [
    {
     "name": "stdout",
     "output_type": "stream",
     "text": [
      "Outliers based on Z-score:\n",
      "                         type  count    zscore\n",
      "0                  Cookstoves   1166  5.659761\n",
      "1                        Wind    831  3.892417\n",
      "2  Improved Forest Management    597  2.657914\n"
     ]
    }
   ],
   "source": [
    "# Using ZScore to identify the outliers\n",
    "from scipy.stats import zscore\n",
    "# Calculate Z-scores for counts\n",
    "type_counts['zscore'] = zscore(type_counts['count'])\n",
    "\n",
    "# Identify outliers (e.g., Z-score > 2 or Z-score < -2)\n",
    "outliers = type_counts[np.abs(type_counts['zscore']) > 2]\n",
    "\n",
    "print(\"Outliers based on Z-score:\")\n",
    "print(outliers)"
   ]
  },
  {
   "cell_type": "code",
   "execution_count": 9,
   "id": "5d63c87d-5e49-4f97-ac11-a0b0f92916c2",
   "metadata": {},
   "outputs": [
    {
     "name": "stdout",
     "output_type": "stream",
     "text": [
      "(32,)\n",
      "(7148, 9)\n"
     ]
    }
   ],
   "source": [
    "# Projects with types lower than 10 counts\n",
    "type_counts = train_df[\"type\"].value_counts()\n",
    "\n",
    "# Identify the types with fewer than 10 counts\n",
    "types_to_drop = type_counts[type_counts < 10].index\n",
    "print(types_to_drop.shape)\n",
    "# Drop the records with these types from train_df\n",
    "train_df_new = train_df[~train_df[\"type\"].isin(types_to_drop)]\n",
    "print(train_df_new.shape)"
   ]
  },
  {
   "cell_type": "code",
   "execution_count": 295,
   "id": "d0d914fc-17cb-4b3c-8cb0-fb673d83175c",
   "metadata": {},
   "outputs": [],
   "source": [
    "# Based on the Zscore, the major classes will be undersampled and minority classes will be oversample"
   ]
  },
  {
   "cell_type": "code",
   "execution_count": 10,
   "id": "86cc5477-9ad8-40e2-9851-508eb98ccd0a",
   "metadata": {},
   "outputs": [],
   "source": [
    "X_train_df = train_df_new.drop(columns=['type', 'scope'])\n",
    "Y_train_df = train_df_new['type']"
   ]
  },
  {
   "cell_type": "code",
   "execution_count": 11,
   "id": "f2206c6b-2ea5-4e02-88a1-9297873f89a0",
   "metadata": {},
   "outputs": [
    {
     "name": "stdout",
     "output_type": "stream",
     "text": [
      "(7148, 7)\n"
     ]
    }
   ],
   "source": [
    "print(X_train_df.shape)"
   ]
  },
  {
   "cell_type": "code",
   "execution_count": 12,
   "id": "03253d2e-f298-4907-be2e-438e354a98c5",
   "metadata": {},
   "outputs": [
    {
     "name": "stdout",
     "output_type": "stream",
     "text": [
      "(6433, 7) (715, 7) (6433,) (715,)\n"
     ]
    }
   ],
   "source": [
    "## Splitting the train to train and validation sets\n",
    "X_train, X_val, Y_train, Y_val  = train_test_split(X_train_df,Y_train_df, test_size=0.1, stratify =Y_train_df,  random_state=42)\n",
    "print(X_train.shape, X_val.shape, Y_train.shape, Y_val.shape )"
   ]
  },
  {
   "cell_type": "markdown",
   "id": "20a40788-8b4b-4fd9-a0db-377327dad444",
   "metadata": {},
   "source": [
    "## Encoding the categorical and text features\n"
   ]
  },
  {
   "cell_type": "code",
   "execution_count": 13,
   "id": "8f896119-dbea-423e-8930-ed20b0b31544",
   "metadata": {},
   "outputs": [],
   "source": [
    "# Define categorical and text features\n",
    "categorical_features = ['region', 'voluntary_registry', 'arborwaproject']\n",
    "text_features = ['project_name','methodology_or_protocol','project_type_from_the_registry', 'project_developer']\n"
   ]
  },
  {
   "cell_type": "code",
   "execution_count": 18,
   "id": "06a6f610-c9fd-4235-91d0-b6e7f1ed6f42",
   "metadata": {},
   "outputs": [],
   "source": [
    "from sklearn.pipeline import Pipeline\n",
    "from imblearn.over_sampling import RandomOverSampler\n",
    "from imblearn.under_sampling import RandomUnderSampler\n",
    "from imblearn.pipeline import Pipeline as ImbPipeline\n",
    "from sklearn.preprocessing import OneHotEncoder\n",
    "from sklearn.compose import ColumnTransformer\n",
    "\n",
    "# Preprocessor for categorical features\n",
    "categorical_transformer = OneHotEncoder(handle_unknown='ignore')\n",
    "\n",
    "# Preprocessor for text features\n",
    "text_transformers = [(f'text_{i}', TfidfVectorizer(), col) for i, col in enumerate(text_features)]\n",
    "\n",
    "# Combine all preprocessors into a ColumnTransformer\n",
    "preprocessor = ColumnTransformer(\n",
    "    transformers=[\n",
    "        ('cat', categorical_transformer, categorical_features),\n",
    "    ] + text_transformers,\n",
    "    remainder='passthrough'\n",
    ")\n",
    "\n",
    "# Define SMOTE and RandomUnderSampler\n",
    "over_sampling = RandomOverSampler(random_state=42)\n",
    "# sampling_strategy = {\n",
    "#     'Cookstoves': 300,  \n",
    "#     'Wind': 300,         \n",
    "#     'Improved Forest Management': 300 \n",
    "# }\n",
    "#under_sampling = RandomUnderSampler(random_state=42)\n",
    "\n",
    "# Pipeline for preprocessing and resampling\n",
    "pipeline = ImbPipeline(steps=[\n",
    "    ('preprocessor', preprocessor),\n",
    "   # ('undersampling', under_sampling),\n",
    "    ('oversampling', over_sampling)\n",
    "])\n",
    "\n",
    "# Apply preprocessing, SMOTE, and undersampling\n",
    "X_resampled_combined, y_resampled = pipeline.fit_resample(X_train, Y_train)\n"
   ]
  },
  {
   "cell_type": "code",
   "execution_count": 19,
   "id": "98903800-6e68-4b12-ba36-80a9d463b965",
   "metadata": {},
   "outputs": [
    {
     "name": "stdout",
     "output_type": "stream",
     "text": [
      "(48254, 11309) (48254,)\n",
      "float64\n"
     ]
    }
   ],
   "source": [
    "print(X_resampled_combined.shape, y_resampled.shape)\n",
    "print(X_resampled_combined.dtype)"
   ]
  },
  {
   "cell_type": "code",
   "execution_count": 20,
   "id": "0ba5f6d6-bf8b-4fa0-b892-fe1884bf8d09",
   "metadata": {},
   "outputs": [],
   "source": [
    "# Check the class distribution after resampling\n",
    "resampledCounter = Counter(y_resampled)\n",
    "originalCounter = Counter(Y_train_df)"
   ]
  },
  {
   "cell_type": "code",
   "execution_count": 21,
   "id": "d6cb99b1-7cbb-4ecc-b1f4-ee26ac0a4896",
   "metadata": {},
   "outputs": [
    {
     "data": {
      "image/png": "[encoded data removed]",
      "text/plain": [
       "<Figure size 2000x1500 with 2 Axes>"
      ]
     },
     "metadata": {},
     "output_type": "display_data"
    }
   ],
   "source": [
    "# Plotting histograms\n",
    "fig, axes = plt.subplots(nrows=1, ncols=2, figsize=(20, 15))\n",
    "\n",
    "# Resampled class distribution histogram\n",
    "axes[0].bar(resampledCounter.keys(), resampledCounter.values())\n",
    "axes[0].set_title('Resampled Project Type Distribution')\n",
    "axes[0].set_xlabel('Type')\n",
    "axes[0].set_ylabel('Frequency')\n",
    "axes[0].set_xticks(list(resampledCounter.keys()))\n",
    "axes[0].set_xticklabels(resampledCounter.keys(), rotation=90)\n",
    "\n",
    "# Original class distribution histogram\n",
    "axes[1].bar(originalCounter.keys(), originalCounter.values())\n",
    "axes[1].set_title('Original Project Type Distribution')\n",
    "axes[1].set_xlabel('Type')\n",
    "axes[1].set_ylabel('Frequency')\n",
    "axes[1].set_xticks(list(originalCounter.keys()))\n",
    "axes[1].set_xticklabels(originalCounter.keys(), rotation=90)\n",
    "\n",
    "# Display the histograms\n",
    "plt.tight_layout()\n",
    "plt.show()\n"
   ]
  },
  {
   "cell_type": "markdown",
   "id": "92c77390-34f3-40a5-b63b-3a25092b2b50",
   "metadata": {},
   "source": [
    "### Logistic Regression"
   ]
  },
  {
   "cell_type": "code",
   "execution_count": 31,
   "id": "8d92725b-4cd4-4d97-88cc-6b0100450304",
   "metadata": {},
   "outputs": [
    {
     "name": "stderr",
     "output_type": "stream",
     "text": [
      "/Users/shrikantwaghmare/miniconda3/envs/w266/lib/python3.11/site-packages/sklearn/metrics/_classification.py:1509: UndefinedMetricWarning: Precision is ill-defined and being set to 0.0 in labels with no predicted samples. Use `zero_division` parameter to control this behavior.\n",
      "  _warn_prf(average, modifier, f\"{metric.capitalize()} is\", len(result))\n",
      "/Users/shrikantwaghmare/miniconda3/envs/w266/lib/python3.11/site-packages/sklearn/metrics/_classification.py:1509: UndefinedMetricWarning: Precision is ill-defined and being set to 0.0 in labels with no predicted samples. Use `zero_division` parameter to control this behavior.\n",
      "  _warn_prf(average, modifier, f\"{metric.capitalize()} is\", len(result))\n",
      "/Users/shrikantwaghmare/miniconda3/envs/w266/lib/python3.11/site-packages/sklearn/metrics/_classification.py:1509: UndefinedMetricWarning: Precision is ill-defined and being set to 0.0 in labels with no predicted samples. Use `zero_division` parameter to control this behavior.\n",
      "  _warn_prf(average, modifier, f\"{metric.capitalize()} is\", len(result))\n"
     ]
    },
    {
     "data": {
      "text/html": [
       "<div>\n",
       "<style scoped>\n",
       "    .dataframe tbody tr th:only-of-type {\n",
       "        vertical-align: middle;\n",
       "    }\n",
       "\n",
       "    .dataframe tbody tr th {\n",
       "        vertical-align: top;\n",
       "    }\n",
       "\n",
       "    .dataframe thead th {\n",
       "        text-align: right;\n",
       "    }\n",
       "</style>\n",
       "<table border=\"1\" class=\"dataframe\">\n",
       "  <thead>\n",
       "    <tr style=\"text-align: right;\">\n",
       "      <th></th>\n",
       "      <th>precision</th>\n",
       "      <th>recall</th>\n",
       "      <th>f1-score</th>\n",
       "      <th>support</th>\n",
       "    </tr>\n",
       "  </thead>\n",
       "  <tbody>\n",
       "    <tr>\n",
       "      <th>Advanced Refrigerants</th>\n",
       "      <td>1.000000</td>\n",
       "      <td>1.000000</td>\n",
       "      <td>1.000000</td>\n",
       "      <td>3.000000</td>\n",
       "    </tr>\n",
       "    <tr>\n",
       "      <th>Afforestation/Reforestation</th>\n",
       "      <td>1.000000</td>\n",
       "      <td>0.972973</td>\n",
       "      <td>0.986301</td>\n",
       "      <td>37.000000</td>\n",
       "    </tr>\n",
       "    <tr>\n",
       "      <th>Avoided Forest Conversion</th>\n",
       "      <td>1.000000</td>\n",
       "      <td>1.000000</td>\n",
       "      <td>1.000000</td>\n",
       "      <td>1.000000</td>\n",
       "    </tr>\n",
       "    <tr>\n",
       "      <th>Avoided Grassland Conversion</th>\n",
       "      <td>1.000000</td>\n",
       "      <td>1.000000</td>\n",
       "      <td>1.000000</td>\n",
       "      <td>2.000000</td>\n",
       "    </tr>\n",
       "    <tr>\n",
       "      <th>Biodigesters</th>\n",
       "      <td>0.952381</td>\n",
       "      <td>1.000000</td>\n",
       "      <td>0.975610</td>\n",
       "      <td>20.000000</td>\n",
       "    </tr>\n",
       "    <tr>\n",
       "      <th>Biomass</th>\n",
       "      <td>0.857143</td>\n",
       "      <td>0.818182</td>\n",
       "      <td>0.837209</td>\n",
       "      <td>22.000000</td>\n",
       "    </tr>\n",
       "    <tr>\n",
       "      <th>Brick Manufacturing Emission Reductions</th>\n",
       "      <td>0.500000</td>\n",
       "      <td>1.000000</td>\n",
       "      <td>0.666667</td>\n",
       "      <td>1.000000</td>\n",
       "    </tr>\n",
       "    <tr>\n",
       "      <th>Bundled Energy Efficiency</th>\n",
       "      <td>0.833333</td>\n",
       "      <td>0.714286</td>\n",
       "      <td>0.769231</td>\n",
       "      <td>14.000000</td>\n",
       "    </tr>\n",
       "    <tr>\n",
       "      <th>Clean Water</th>\n",
       "      <td>0.968750</td>\n",
       "      <td>0.939394</td>\n",
       "      <td>0.953846</td>\n",
       "      <td>33.000000</td>\n",
       "    </tr>\n",
       "    <tr>\n",
       "      <th>Community Boreholes</th>\n",
       "      <td>0.954545</td>\n",
       "      <td>1.000000</td>\n",
       "      <td>0.976744</td>\n",
       "      <td>21.000000</td>\n",
       "    </tr>\n",
       "    <tr>\n",
       "      <th>Composting</th>\n",
       "      <td>1.000000</td>\n",
       "      <td>0.800000</td>\n",
       "      <td>0.888889</td>\n",
       "      <td>5.000000</td>\n",
       "    </tr>\n",
       "    <tr>\n",
       "      <th>Cookstoves</th>\n",
       "      <td>0.982906</td>\n",
       "      <td>0.982906</td>\n",
       "      <td>0.982906</td>\n",
       "      <td>117.000000</td>\n",
       "    </tr>\n",
       "    <tr>\n",
       "      <th>Electric Vehicles &amp; Charging</th>\n",
       "      <td>1.000000</td>\n",
       "      <td>1.000000</td>\n",
       "      <td>1.000000</td>\n",
       "      <td>2.000000</td>\n",
       "    </tr>\n",
       "    <tr>\n",
       "      <th>Energy Efficiency</th>\n",
       "      <td>0.500000</td>\n",
       "      <td>0.500000</td>\n",
       "      <td>0.500000</td>\n",
       "      <td>2.000000</td>\n",
       "    </tr>\n",
       "    <tr>\n",
       "      <th>Fuel Switching</th>\n",
       "      <td>0.000000</td>\n",
       "      <td>0.000000</td>\n",
       "      <td>0.000000</td>\n",
       "      <td>1.000000</td>\n",
       "    </tr>\n",
       "    <tr>\n",
       "      <th>Geothermal</th>\n",
       "      <td>1.000000</td>\n",
       "      <td>0.666667</td>\n",
       "      <td>0.800000</td>\n",
       "      <td>3.000000</td>\n",
       "    </tr>\n",
       "    <tr>\n",
       "      <th>HFC Refrigerant Reclamation</th>\n",
       "      <td>1.000000</td>\n",
       "      <td>1.000000</td>\n",
       "      <td>1.000000</td>\n",
       "      <td>4.000000</td>\n",
       "    </tr>\n",
       "    <tr>\n",
       "      <th>HFC Replacement in Foam Production</th>\n",
       "      <td>1.000000</td>\n",
       "      <td>1.000000</td>\n",
       "      <td>1.000000</td>\n",
       "      <td>5.000000</td>\n",
       "    </tr>\n",
       "    <tr>\n",
       "      <th>Hydropower</th>\n",
       "      <td>0.976190</td>\n",
       "      <td>0.976190</td>\n",
       "      <td>0.976190</td>\n",
       "      <td>42.000000</td>\n",
       "    </tr>\n",
       "    <tr>\n",
       "      <th>Improved Forest Management</th>\n",
       "      <td>0.952381</td>\n",
       "      <td>1.000000</td>\n",
       "      <td>0.975610</td>\n",
       "      <td>60.000000</td>\n",
       "    </tr>\n",
       "    <tr>\n",
       "      <th>Improved Irrigation Management</th>\n",
       "      <td>1.000000</td>\n",
       "      <td>0.500000</td>\n",
       "      <td>0.666667</td>\n",
       "      <td>2.000000</td>\n",
       "    </tr>\n",
       "    <tr>\n",
       "      <th>Landfill Methane</th>\n",
       "      <td>1.000000</td>\n",
       "      <td>0.933333</td>\n",
       "      <td>0.965517</td>\n",
       "      <td>30.000000</td>\n",
       "    </tr>\n",
       "    <tr>\n",
       "      <th>Lighting</th>\n",
       "      <td>1.000000</td>\n",
       "      <td>1.000000</td>\n",
       "      <td>1.000000</td>\n",
       "      <td>4.000000</td>\n",
       "    </tr>\n",
       "    <tr>\n",
       "      <th>Manure Methane Digester</th>\n",
       "      <td>0.944444</td>\n",
       "      <td>0.971429</td>\n",
       "      <td>0.957746</td>\n",
       "      <td>35.000000</td>\n",
       "    </tr>\n",
       "    <tr>\n",
       "      <th>Methane Recovery in Wastewater</th>\n",
       "      <td>0.875000</td>\n",
       "      <td>0.875000</td>\n",
       "      <td>0.875000</td>\n",
       "      <td>8.000000</td>\n",
       "    </tr>\n",
       "    <tr>\n",
       "      <th>Mine Methane Capture</th>\n",
       "      <td>1.000000</td>\n",
       "      <td>1.000000</td>\n",
       "      <td>1.000000</td>\n",
       "      <td>12.000000</td>\n",
       "    </tr>\n",
       "    <tr>\n",
       "      <th>N2O Destruction in Nitric Acid Production</th>\n",
       "      <td>0.666667</td>\n",
       "      <td>1.000000</td>\n",
       "      <td>0.800000</td>\n",
       "      <td>2.000000</td>\n",
       "    </tr>\n",
       "    <tr>\n",
       "      <th>Natural Gas Electricity Generation</th>\n",
       "      <td>1.000000</td>\n",
       "      <td>0.500000</td>\n",
       "      <td>0.666667</td>\n",
       "      <td>2.000000</td>\n",
       "    </tr>\n",
       "    <tr>\n",
       "      <th>Ozone Depleting Substances Recovery &amp; Destruction</th>\n",
       "      <td>1.000000</td>\n",
       "      <td>0.958333</td>\n",
       "      <td>0.978723</td>\n",
       "      <td>24.000000</td>\n",
       "    </tr>\n",
       "    <tr>\n",
       "      <th>RE Bundled</th>\n",
       "      <td>0.000000</td>\n",
       "      <td>0.000000</td>\n",
       "      <td>0.000000</td>\n",
       "      <td>3.000000</td>\n",
       "    </tr>\n",
       "    <tr>\n",
       "      <th>REDD+</th>\n",
       "      <td>1.000000</td>\n",
       "      <td>1.000000</td>\n",
       "      <td>1.000000</td>\n",
       "      <td>22.000000</td>\n",
       "    </tr>\n",
       "    <tr>\n",
       "      <th>Rice Emission Reductions</th>\n",
       "      <td>1.000000</td>\n",
       "      <td>1.000000</td>\n",
       "      <td>1.000000</td>\n",
       "      <td>22.000000</td>\n",
       "    </tr>\n",
       "    <tr>\n",
       "      <th>Solar - Centralized</th>\n",
       "      <td>0.838710</td>\n",
       "      <td>1.000000</td>\n",
       "      <td>0.912281</td>\n",
       "      <td>26.000000</td>\n",
       "    </tr>\n",
       "    <tr>\n",
       "      <th>Solar - Distributed</th>\n",
       "      <td>0.666667</td>\n",
       "      <td>0.571429</td>\n",
       "      <td>0.615385</td>\n",
       "      <td>7.000000</td>\n",
       "    </tr>\n",
       "    <tr>\n",
       "      <th>Solar Lighting</th>\n",
       "      <td>0.800000</td>\n",
       "      <td>1.000000</td>\n",
       "      <td>0.888889</td>\n",
       "      <td>4.000000</td>\n",
       "    </tr>\n",
       "    <tr>\n",
       "      <th>Solar Water Heaters</th>\n",
       "      <td>1.000000</td>\n",
       "      <td>1.000000</td>\n",
       "      <td>1.000000</td>\n",
       "      <td>1.000000</td>\n",
       "    </tr>\n",
       "    <tr>\n",
       "      <th>Sustainable Agriculture</th>\n",
       "      <td>1.000000</td>\n",
       "      <td>0.928571</td>\n",
       "      <td>0.962963</td>\n",
       "      <td>14.000000</td>\n",
       "    </tr>\n",
       "    <tr>\n",
       "      <th>Sustainable Grassland Management</th>\n",
       "      <td>0.800000</td>\n",
       "      <td>1.000000</td>\n",
       "      <td>0.888889</td>\n",
       "      <td>4.000000</td>\n",
       "    </tr>\n",
       "    <tr>\n",
       "      <th>Truck Stop Electrification</th>\n",
       "      <td>1.000000</td>\n",
       "      <td>1.000000</td>\n",
       "      <td>1.000000</td>\n",
       "      <td>2.000000</td>\n",
       "    </tr>\n",
       "    <tr>\n",
       "      <th>Waste Diversion</th>\n",
       "      <td>0.500000</td>\n",
       "      <td>1.000000</td>\n",
       "      <td>0.666667</td>\n",
       "      <td>1.000000</td>\n",
       "    </tr>\n",
       "    <tr>\n",
       "      <th>Waste Gas Recovery</th>\n",
       "      <td>1.000000</td>\n",
       "      <td>1.000000</td>\n",
       "      <td>1.000000</td>\n",
       "      <td>1.000000</td>\n",
       "    </tr>\n",
       "    <tr>\n",
       "      <th>Waste Heat Recovery</th>\n",
       "      <td>1.000000</td>\n",
       "      <td>0.750000</td>\n",
       "      <td>0.857143</td>\n",
       "      <td>4.000000</td>\n",
       "    </tr>\n",
       "    <tr>\n",
       "      <th>Waste Incineration</th>\n",
       "      <td>0.250000</td>\n",
       "      <td>1.000000</td>\n",
       "      <td>0.400000</td>\n",
       "      <td>1.000000</td>\n",
       "    </tr>\n",
       "    <tr>\n",
       "      <th>Waste Recycling</th>\n",
       "      <td>1.000000</td>\n",
       "      <td>0.500000</td>\n",
       "      <td>0.666667</td>\n",
       "      <td>2.000000</td>\n",
       "    </tr>\n",
       "    <tr>\n",
       "      <th>Wetland Restoration</th>\n",
       "      <td>1.000000</td>\n",
       "      <td>1.000000</td>\n",
       "      <td>1.000000</td>\n",
       "      <td>4.000000</td>\n",
       "    </tr>\n",
       "    <tr>\n",
       "      <th>Wind</th>\n",
       "      <td>0.976190</td>\n",
       "      <td>0.987952</td>\n",
       "      <td>0.982036</td>\n",
       "      <td>83.000000</td>\n",
       "    </tr>\n",
       "    <tr>\n",
       "      <th>accuracy</th>\n",
       "      <td>0.951049</td>\n",
       "      <td>0.951049</td>\n",
       "      <td>0.951049</td>\n",
       "      <td>0.951049</td>\n",
       "    </tr>\n",
       "    <tr>\n",
       "      <th>macro avg</th>\n",
       "      <td>0.865115</td>\n",
       "      <td>0.866231</td>\n",
       "      <td>0.848705</td>\n",
       "      <td>715.000000</td>\n",
       "    </tr>\n",
       "    <tr>\n",
       "      <th>weighted avg</th>\n",
       "      <td>0.951419</td>\n",
       "      <td>0.951049</td>\n",
       "      <td>0.948852</td>\n",
       "      <td>715.000000</td>\n",
       "    </tr>\n",
       "  </tbody>\n",
       "</table>\n",
       "</div>"
      ],
      "text/plain": [
       "                                                   precision    recall  \\\n",
       "Advanced Refrigerants                               1.000000  1.000000   \n",
       "Afforestation/Reforestation                         1.000000  0.972973   \n",
       "Avoided Forest Conversion                           1.000000  1.000000   \n",
       "Avoided Grassland Conversion                        1.000000  1.000000   \n",
       "Biodigesters                                        0.952381  1.000000   \n",
       "Biomass                                             0.857143  0.818182   \n",
       "Brick Manufacturing Emission Reductions             0.500000  1.000000   \n",
       "Bundled Energy Efficiency                           0.833333  0.714286   \n",
       "Clean Water                                         0.968750  0.939394   \n",
       "Community Boreholes                                 0.954545  1.000000   \n",
       "Composting                                          1.000000  0.800000   \n",
       "Cookstoves                                          0.982906  0.982906   \n",
       "Electric Vehicles & Charging                        1.000000  1.000000   \n",
       "Energy Efficiency                                   0.500000  0.500000   \n",
       "Fuel Switching                                      0.000000  0.000000   \n",
       "Geothermal                                          1.000000  0.666667   \n",
       "HFC Refrigerant Reclamation                         1.000000  1.000000   \n",
       "HFC Replacement in Foam Production                  1.000000  1.000000   \n",
       "Hydropower                                          0.976190  0.976190   \n",
       "Improved Forest Management                          0.952381  1.000000   \n",
       "Improved Irrigation Management                      1.000000  0.500000   \n",
       "Landfill Methane                                    1.000000  0.933333   \n",
       "Lighting                                            1.000000  1.000000   \n",
       "Manure Methane Digester                             0.944444  0.971429   \n",
       "Methane Recovery in Wastewater                      0.875000  0.875000   \n",
       "Mine Methane Capture                                1.000000  1.000000   \n",
       "N2O Destruction in Nitric Acid Production           0.666667  1.000000   \n",
       "Natural Gas Electricity Generation                  1.000000  0.500000   \n",
       "Ozone Depleting Substances Recovery & Destruction   1.000000  0.958333   \n",
       "RE Bundled                                          0.000000  0.000000   \n",
       "REDD+                                               1.000000  1.000000   \n",
       "Rice Emission Reductions                            1.000000  1.000000   \n",
       "Solar - Centralized                                 0.838710  1.000000   \n",
       "Solar - Distributed                                 0.666667  0.571429   \n",
       "Solar Lighting                                      0.800000  1.000000   \n",
       "Solar Water Heaters                                 1.000000  1.000000   \n",
       "Sustainable Agriculture                             1.000000  0.928571   \n",
       "Sustainable Grassland Management                    0.800000  1.000000   \n",
       "Truck Stop Electrification                          1.000000  1.000000   \n",
       "Waste Diversion                                     0.500000  1.000000   \n",
       "Waste Gas Recovery                                  1.000000  1.000000   \n",
       "Waste Heat Recovery                                 1.000000  0.750000   \n",
       "Waste Incineration                                  0.250000  1.000000   \n",
       "Waste Recycling                                     1.000000  0.500000   \n",
       "Wetland Restoration                                 1.000000  1.000000   \n",
       "Wind                                                0.976190  0.987952   \n",
       "accuracy                                            0.951049  0.951049   \n",
       "macro avg                                           0.865115  0.866231   \n",
       "weighted avg                                        0.951419  0.951049   \n",
       "\n",
       "                                                   f1-score     support  \n",
       "Advanced Refrigerants                              1.000000    3.000000  \n",
       "Afforestation/Reforestation                        0.986301   37.000000  \n",
       "Avoided Forest Conversion                          1.000000    1.000000  \n",
       "Avoided Grassland Conversion                       1.000000    2.000000  \n",
       "Biodigesters                                       0.975610   20.000000  \n",
       "Biomass                                            0.837209   22.000000  \n",
       "Brick Manufacturing Emission Reductions            0.666667    1.000000  \n",
       "Bundled Energy Efficiency                          0.769231   14.000000  \n",
       "Clean Water                                        0.953846   33.000000  \n",
       "Community Boreholes                                0.976744   21.000000  \n",
       "Composting                                         0.888889    5.000000  \n",
       "Cookstoves                                         0.982906  117.000000  \n",
       "Electric Vehicles & Charging                       1.000000    2.000000  \n",
       "Energy Efficiency                                  0.500000    2.000000  \n",
       "Fuel Switching                                     0.000000    1.000000  \n",
       "Geothermal                                         0.800000    3.000000  \n",
       "HFC Refrigerant Reclamation                        1.000000    4.000000  \n",
       "HFC Replacement in Foam Production                 1.000000    5.000000  \n",
       "Hydropower                                         0.976190   42.000000  \n",
       "Improved Forest Management                         0.975610   60.000000  \n",
       "Improved Irrigation Management                     0.666667    2.000000  \n",
       "Landfill Methane                                   0.965517   30.000000  \n",
       "Lighting                                           1.000000    4.000000  \n",
       "Manure Methane Digester                            0.957746   35.000000  \n",
       "Methane Recovery in Wastewater                     0.875000    8.000000  \n",
       "Mine Methane Capture                               1.000000   12.000000  \n",
       "N2O Destruction in Nitric Acid Production          0.800000    2.000000  \n",
       "Natural Gas Electricity Generation                 0.666667    2.000000  \n",
       "Ozone Depleting Substances Recovery & Destruction  0.978723   24.000000  \n",
       "RE Bundled                                         0.000000    3.000000  \n",
       "REDD+                                              1.000000   22.000000  \n",
       "Rice Emission Reductions                           1.000000   22.000000  \n",
       "Solar - Centralized                                0.912281   26.000000  \n",
       "Solar - Distributed                                0.615385    7.000000  \n",
       "Solar Lighting                                     0.888889    4.000000  \n",
       "Solar Water Heaters                                1.000000    1.000000  \n",
       "Sustainable Agriculture                            0.962963   14.000000  \n",
       "Sustainable Grassland Management                   0.888889    4.000000  \n",
       "Truck Stop Electrification                         1.000000    2.000000  \n",
       "Waste Diversion                                    0.666667    1.000000  \n",
       "Waste Gas Recovery                                 1.000000    1.000000  \n",
       "Waste Heat Recovery                                0.857143    4.000000  \n",
       "Waste Incineration                                 0.400000    1.000000  \n",
       "Waste Recycling                                    0.666667    2.000000  \n",
       "Wetland Restoration                                1.000000    4.000000  \n",
       "Wind                                               0.982036   83.000000  \n",
       "accuracy                                           0.951049    0.951049  \n",
       "macro avg                                          0.848705  715.000000  \n",
       "weighted avg                                       0.948852  715.000000  "
      ]
     },
     "execution_count": 31,
     "metadata": {},
     "output_type": "execute_result"
    }
   ],
   "source": [
    "# Define the logistic regression model\n",
    "logistic_regression = LogisticRegression(max_iter=1000, random_state=42)\n",
    "\n",
    "# Fit the logistic regression model on the resampled data\n",
    "logistic_regression.fit(X_resampled_combined, y_resampled)\n",
    "\n",
    "# Make predictions on the val data\n",
    "\n",
    "X_val_transformed = preprocessor.transform(X_val)\n",
    "y_pred = logistic_regression.predict(X_val_transformed)\n",
    "\n",
    "# Get the predicted probabilities for each class\n",
    "y_pred_proba = logistic_regression.predict_proba(X_val_transformed)\n",
    "# Evaluate the model and get the classification report\n",
    "report = classification_report(Y_val, y_pred, output_dict=True)\n",
    "\n",
    "# Convert the classification report to a DataFrame for a tabular format\n",
    "report_df = pd.DataFrame(report).transpose()\n",
    "\n",
    "# Display the classification report table\n",
    "report_df"
   ]
  },
  {
   "cell_type": "code",
   "execution_count": 24,
   "id": "9d9d74ae-b275-4317-a6e2-0116e5d2a8c0",
   "metadata": {},
   "outputs": [
    {
     "data": {
      "image/png": "[encoded data removed]",
      "text/plain": [
       "<Figure size 1000x400 with 1 Axes>"
      ]
     },
     "metadata": {},
     "output_type": "display_data"
    }
   ],
   "source": [
    "import seaborn as sns\n",
    "# Extract F1 scores from the classification report\n",
    "f1_scores = {key: value['f1-score'] for key, value in report.items() if key not in ('accuracy', 'macro avg', 'weighted avg')}\n",
    "\n",
    "# Convert the F1 scores to a DataFrame for plotting\n",
    "f1_df = pd.DataFrame(list(f1_scores.items()), columns=['Class', 'F1 Score'])\n",
    "\n",
    "# Sort the DataFrame by F1 Score in ascending order\n",
    "f1_df = f1_df.sort_values(by='F1 Score', ascending = False)\n",
    "\n",
    "# Plot the F1 scores\n",
    "plt.figure(figsize=(10, 4))\n",
    "sns.barplot(x='Class', y='F1 Score', data=f1_df, palette='Blues')\n",
    "plt.title('F1 Scores for Each Class')\n",
    "plt.xlabel('Class')\n",
    "plt.ylabel('F1 Score')\n",
    "plt.ylim(0, 1)\n",
    "plt.xticks(rotation=90)  # Rotate x-ticks by 90 degrees\n",
    "plt.grid(True)\n",
    "plt.show()"
   ]
  },
  {
   "cell_type": "code",
   "execution_count": 32,
   "id": "0232f810-981a-44de-bd97-06553bb243e3",
   "metadata": {},
   "outputs": [],
   "source": []
  },
  {
   "cell_type": "code",
   "execution_count": 26,
   "id": "4419d0a5-5a20-4b0e-8427-dab5228d7a2c",
   "metadata": {},
   "outputs": [],
   "source": [
    "## Check all the incorrect predictions"
   ]
  },
  {
   "cell_type": "code",
   "execution_count": 38,
   "id": "6a70112e-df99-4016-8ff7-5f94573a6fd6",
   "metadata": {},
   "outputs": [
    {
     "name": "stdout",
     "output_type": "stream",
     "text": [
      "(35, 10)\n"
     ]
    },
    {
     "data": {
      "text/html": [
       "<div>\n",
       "<style scoped>\n",
       "    .dataframe tbody tr th:only-of-type {\n",
       "        vertical-align: middle;\n",
       "    }\n",
       "\n",
       "    .dataframe tbody tr th {\n",
       "        vertical-align: top;\n",
       "    }\n",
       "\n",
       "    .dataframe thead th {\n",
       "        text-align: right;\n",
       "    }\n",
       "</style>\n",
       "<table border=\"1\" class=\"dataframe\">\n",
       "  <thead>\n",
       "    <tr style=\"text-align: right;\">\n",
       "      <th></th>\n",
       "      <th>project_name</th>\n",
       "      <th>methodology_or_protocol</th>\n",
       "      <th>region</th>\n",
       "      <th>voluntary_registry</th>\n",
       "      <th>project_type_from_the_registry</th>\n",
       "      <th>project_developer</th>\n",
       "      <th>arborwaproject</th>\n",
       "      <th>True Label</th>\n",
       "      <th>Predicted Label</th>\n",
       "      <th>Correct Prediction</th>\n",
       "    </tr>\n",
       "  </thead>\n",
       "  <tbody>\n",
       "    <tr>\n",
       "      <th>25</th>\n",
       "      <td>Waste to Energy Projects by Mahindra Waste to ...</td>\n",
       "      <td>ACM0022</td>\n",
       "      <td>Southern Asia</td>\n",
       "      <td>VCS</td>\n",
       "      <td>Energy industries (renewable/non-renewable sou...</td>\n",
       "      <td>MAHINDRA WASTE TO ENERGY SOLUTIONS LTD.</td>\n",
       "      <td>No</td>\n",
       "      <td>Biomass</td>\n",
       "      <td>Waste Incineration</td>\n",
       "      <td>False</td>\n",
       "    </tr>\n",
       "    <tr>\n",
       "      <th>33</th>\n",
       "      <td>International Programme for Safe Water Access ...</td>\n",
       "      <td>GS TPDDTEC v3.1</td>\n",
       "      <td>Sub-Saharan Africa</td>\n",
       "      <td>GOLD</td>\n",
       "      <td>Energy Efficiency - Domestic</td>\n",
       "      <td>CO2balance UK ltd</td>\n",
       "      <td>No</td>\n",
       "      <td>Bundled Energy Efficiency</td>\n",
       "      <td>Clean Water</td>\n",
       "      <td>False</td>\n",
       "    </tr>\n",
       "    <tr>\n",
       "      <th>46</th>\n",
       "      <td>LA PERSEVERANCIA BIOGAS PLANT</td>\n",
       "      <td>CAR Mexico Landfill Protocol</td>\n",
       "      <td>Latin America and the Caribbean</td>\n",
       "      <td>CAR</td>\n",
       "      <td>Landfill - MX</td>\n",
       "      <td>Energía Renovable de Cuautla S.A. de C.V.</td>\n",
       "      <td>No</td>\n",
       "      <td>Landfill Methane</td>\n",
       "      <td>Improved Forest Management</td>\n",
       "      <td>False</td>\n",
       "    </tr>\n",
       "    <tr>\n",
       "      <th>63</th>\n",
       "      <td>BASMAKCI BIOGAS POWER PLANT PROJECT</td>\n",
       "      <td>AMS-I.C. Thermal energy production with or wit...</td>\n",
       "      <td>Western Asia</td>\n",
       "      <td>GOLD</td>\n",
       "      <td>Biogas - Electricity</td>\n",
       "      <td>Cagla Balci Eris</td>\n",
       "      <td>No</td>\n",
       "      <td>Biomass</td>\n",
       "      <td>Manure Methane Digester</td>\n",
       "      <td>False</td>\n",
       "    </tr>\n",
       "    <tr>\n",
       "      <th>66</th>\n",
       "      <td>Renewable Power Project by SEI Kathiravan Powe...</td>\n",
       "      <td>ACM0002</td>\n",
       "      <td>Southern Asia</td>\n",
       "      <td>VCS</td>\n",
       "      <td>Energy industries (renewable/non-renewable sou...</td>\n",
       "      <td>SEI Kathiravan Power Private Limited</td>\n",
       "      <td>No</td>\n",
       "      <td>RE Bundled</td>\n",
       "      <td>Solar - Centralized</td>\n",
       "      <td>False</td>\n",
       "    </tr>\n",
       "    <tr>\n",
       "      <th>85</th>\n",
       "      <td>Water and Climate – Multi-country PoA</td>\n",
       "      <td>GS Methodology for emission reductions from sa...</td>\n",
       "      <td>Southern Asia</td>\n",
       "      <td>GOLD</td>\n",
       "      <td>Energy Efficiency - Domestic</td>\n",
       "      <td>Helioz GmbH</td>\n",
       "      <td>No</td>\n",
       "      <td>Clean Water</td>\n",
       "      <td>Bundled Energy Efficiency</td>\n",
       "      <td>False</td>\n",
       "    </tr>\n",
       "    <tr>\n",
       "      <th>97</th>\n",
       "      <td>NATURE PANELS, GABON</td>\n",
       "      <td>AM0057; Methodology Under Development</td>\n",
       "      <td>Sub-Saharan Africa</td>\n",
       "      <td>VCS</td>\n",
       "      <td>Waste handling and disposal</td>\n",
       "      <td>ARISE IIP</td>\n",
       "      <td>No</td>\n",
       "      <td>Waste Recycling</td>\n",
       "      <td>Waste Diversion</td>\n",
       "      <td>False</td>\n",
       "    </tr>\n",
       "    <tr>\n",
       "      <th>106</th>\n",
       "      <td>Green Energy Project at Gujarat by Powerica Li...</td>\n",
       "      <td>ACM0002</td>\n",
       "      <td>Southern Asia</td>\n",
       "      <td>VCS</td>\n",
       "      <td>Energy industries (renewable/non-renewable sou...</td>\n",
       "      <td>POWERICA LIMITED</td>\n",
       "      <td>No</td>\n",
       "      <td>RE Bundled</td>\n",
       "      <td>Wind</td>\n",
       "      <td>False</td>\n",
       "    </tr>\n",
       "    <tr>\n",
       "      <th>125</th>\n",
       "      <td>Renewable Power Project by the Kiran Group (EK...</td>\n",
       "      <td>AMS-I.D. Grid connected renewable electricity ...</td>\n",
       "      <td>Southern Asia</td>\n",
       "      <td>GOLD</td>\n",
       "      <td>Wind</td>\n",
       "      <td>EKI Energy Services Limited</td>\n",
       "      <td>No</td>\n",
       "      <td>RE Bundled</td>\n",
       "      <td>Wind</td>\n",
       "      <td>False</td>\n",
       "    </tr>\n",
       "    <tr>\n",
       "      <th>127</th>\n",
       "      <td>cancelled duplicate of VCSR218</td>\n",
       "      <td>ACM0002</td>\n",
       "      <td>Eastern Asia</td>\n",
       "      <td>VCS</td>\n",
       "      <td>Energy industries (renewable/non-renewable sou...</td>\n",
       "      <td>MER</td>\n",
       "      <td>No</td>\n",
       "      <td>Wind</td>\n",
       "      <td>Hydropower</td>\n",
       "      <td>False</td>\n",
       "    </tr>\n",
       "    <tr>\n",
       "      <th>207</th>\n",
       "      <td>Methane Recovery and Power Generation Project ...</td>\n",
       "      <td>AMS-I.F.; AMS-III.H.</td>\n",
       "      <td>Southern Asia</td>\n",
       "      <td>VCS</td>\n",
       "      <td>Energy industries (renewable/non-renewable sou...</td>\n",
       "      <td>Everest Starch India Pvt. Ltd.</td>\n",
       "      <td>No</td>\n",
       "      <td>Methane Recovery in Wastewater</td>\n",
       "      <td>Manure Methane Digester</td>\n",
       "      <td>False</td>\n",
       "    </tr>\n",
       "    <tr>\n",
       "      <th>211</th>\n",
       "      <td>Impact Carbon and myclimate Safe Water and Imp...</td>\n",
       "      <td>GS TPDDTEC v 1.</td>\n",
       "      <td>Sub-Saharan Africa</td>\n",
       "      <td>GOLD</td>\n",
       "      <td>Energy Efficiency - Domestic</td>\n",
       "      <td>Impact Carbon</td>\n",
       "      <td>No</td>\n",
       "      <td>Bundled Energy Efficiency</td>\n",
       "      <td>Cookstoves</td>\n",
       "      <td>False</td>\n",
       "    </tr>\n",
       "    <tr>\n",
       "      <th>305</th>\n",
       "      <td>7 MW Hydel Based Power Unit on River Jatashank...</td>\n",
       "      <td>AMS-I.D.</td>\n",
       "      <td>Southern Asia</td>\n",
       "      <td>VCS</td>\n",
       "      <td>Energy industries (renewable/non-renewable sou...</td>\n",
       "      <td>Shalivahana Green Energy Limited</td>\n",
       "      <td>No</td>\n",
       "      <td>Hydropower</td>\n",
       "      <td>Biomass</td>\n",
       "      <td>False</td>\n",
       "    </tr>\n",
       "    <tr>\n",
       "      <th>310</th>\n",
       "      <td>Guangzhou Eastern Solid Resource Recycling Cen...</td>\n",
       "      <td>ACM0022</td>\n",
       "      <td>Eastern Asia</td>\n",
       "      <td>VCS</td>\n",
       "      <td>Energy industries (renewable/non-renewable sou...</td>\n",
       "      <td>Guangzhou LEO-KING Environmental Technology Co...</td>\n",
       "      <td>No</td>\n",
       "      <td>Biomass</td>\n",
       "      <td>Waste Incineration</td>\n",
       "      <td>False</td>\n",
       "    </tr>\n",
       "    <tr>\n",
       "      <th>318</th>\n",
       "      <td>Impact Carbon and myclimate Safe Water and Imp...</td>\n",
       "      <td>GS TPDDTEC v 1.</td>\n",
       "      <td>Sub-Saharan Africa</td>\n",
       "      <td>GOLD</td>\n",
       "      <td>Energy Efficiency - Domestic</td>\n",
       "      <td>Impact Carbon</td>\n",
       "      <td>No</td>\n",
       "      <td>Bundled Energy Efficiency</td>\n",
       "      <td>Cookstoves</td>\n",
       "      <td>False</td>\n",
       "    </tr>\n",
       "    <tr>\n",
       "      <th>327</th>\n",
       "      <td>Ciudad Juarez Landfill Gas to Energy Project</td>\n",
       "      <td>CAR Mexico Forest Protocol</td>\n",
       "      <td>Latin America and the Caribbean</td>\n",
       "      <td>CAR</td>\n",
       "      <td>Landfill - MX</td>\n",
       "      <td>Biogas de Juarez S.A. DE C.V.</td>\n",
       "      <td>No</td>\n",
       "      <td>Landfill Methane</td>\n",
       "      <td>Improved Forest Management</td>\n",
       "      <td>False</td>\n",
       "    </tr>\n",
       "    <tr>\n",
       "      <th>356</th>\n",
       "      <td>Sustainable City Projects at India’s Cleanest ...</td>\n",
       "      <td>ACM0002; ACM0022</td>\n",
       "      <td>Southern Asia</td>\n",
       "      <td>VCS</td>\n",
       "      <td>Energy industries (renewable/non-renewable sou...</td>\n",
       "      <td>Indore Smart City Development Ltd</td>\n",
       "      <td>No</td>\n",
       "      <td>Composting</td>\n",
       "      <td>Waste Incineration</td>\n",
       "      <td>False</td>\n",
       "    </tr>\n",
       "    <tr>\n",
       "      <th>372</th>\n",
       "      <td>PROJECT TOGO</td>\n",
       "      <td>Other</td>\n",
       "      <td>Sub-Saharan Africa</td>\n",
       "      <td>GOLD</td>\n",
       "      <td>Other</td>\n",
       "      <td>Unknown Project Developer</td>\n",
       "      <td>No</td>\n",
       "      <td>Afforestation/Reforestation</td>\n",
       "      <td>Solar Lighting</td>\n",
       "      <td>False</td>\n",
       "    </tr>\n",
       "    <tr>\n",
       "      <th>379</th>\n",
       "      <td>International Paper</td>\n",
       "      <td>Monitoring, Reporting and Verification Protoco...</td>\n",
       "      <td>North America</td>\n",
       "      <td>ACR</td>\n",
       "      <td>Energy Efficiency</td>\n",
       "      <td>Blue Source</td>\n",
       "      <td>No</td>\n",
       "      <td>Energy Efficiency</td>\n",
       "      <td>Improved Forest Management</td>\n",
       "      <td>False</td>\n",
       "    </tr>\n",
       "    <tr>\n",
       "      <th>395</th>\n",
       "      <td>Esperanza Solar Plant</td>\n",
       "      <td>ACM0002 Grid-connected electricity generation ...</td>\n",
       "      <td>Latin America and the Caribbean</td>\n",
       "      <td>GOLD</td>\n",
       "      <td>PV</td>\n",
       "      <td>ENERION RENEWABLES S.R.L. SEMPLIFICATA</td>\n",
       "      <td>No</td>\n",
       "      <td>Solar - Distributed</td>\n",
       "      <td>Solar - Centralized</td>\n",
       "      <td>False</td>\n",
       "    </tr>\n",
       "    <tr>\n",
       "      <th>410</th>\n",
       "      <td>Solar Water Pump Project in Kenya</td>\n",
       "      <td>AMS-I.B.</td>\n",
       "      <td>Sub-Saharan Africa</td>\n",
       "      <td>VCS</td>\n",
       "      <td>Energy industries (renewable/non-renewable sou...</td>\n",
       "      <td>SunCulture Kenya Ltd</td>\n",
       "      <td>No</td>\n",
       "      <td>Improved Irrigation Management</td>\n",
       "      <td>Solar - Distributed</td>\n",
       "      <td>False</td>\n",
       "    </tr>\n",
       "    <tr>\n",
       "      <th>424</th>\n",
       "      <td>Future Carbon Methane Capture Grouped Project</td>\n",
       "      <td>AMS-I.D.; AMS-III.D.</td>\n",
       "      <td>Latin America and the Caribbean</td>\n",
       "      <td>VCS</td>\n",
       "      <td>Energy industries (renewable/non-renewable sou...</td>\n",
       "      <td>Future Carbon Holding S.A.</td>\n",
       "      <td>No</td>\n",
       "      <td>Manure Methane Digester</td>\n",
       "      <td>Methane Recovery in Wastewater</td>\n",
       "      <td>False</td>\n",
       "    </tr>\n",
       "    <tr>\n",
       "      <th>429</th>\n",
       "      <td>LKPPL Fuel Switch Project for Generation of Cl...</td>\n",
       "      <td>ACM0011</td>\n",
       "      <td>Southern Asia</td>\n",
       "      <td>VCS</td>\n",
       "      <td>Energy industries (renewable/non-renewable sou...</td>\n",
       "      <td>Lanco Kondapalli Power Private Limited</td>\n",
       "      <td>No</td>\n",
       "      <td>Natural Gas Electricity Generation</td>\n",
       "      <td>Biomass</td>\n",
       "      <td>False</td>\n",
       "    </tr>\n",
       "    <tr>\n",
       "      <th>433</th>\n",
       "      <td>San Juan de Pasto Clean Project</td>\n",
       "      <td>AMS-I.E. Switch from Non-Renewable Biomass for...</td>\n",
       "      <td>Latin America and the Caribbean</td>\n",
       "      <td>GOLD</td>\n",
       "      <td>Biomass, or Liquid Biofuel - Heat</td>\n",
       "      <td>Sustainable Carbon - Projetos Ambientais LTDA</td>\n",
       "      <td>No</td>\n",
       "      <td>Fuel Switching</td>\n",
       "      <td>Biomass</td>\n",
       "      <td>False</td>\n",
       "    </tr>\n",
       "    <tr>\n",
       "      <th>438</th>\n",
       "      <td>Renewable Power Generation on Mafia Island</td>\n",
       "      <td>AMS-I.F. Renewable electricity generation for ...</td>\n",
       "      <td>Sub-Saharan Africa</td>\n",
       "      <td>GOLD</td>\n",
       "      <td>Biogas - Electricity</td>\n",
       "      <td>atmosfair gGmbH</td>\n",
       "      <td>No</td>\n",
       "      <td>Biomass</td>\n",
       "      <td>Solar - Distributed</td>\n",
       "      <td>False</td>\n",
       "    </tr>\n",
       "    <tr>\n",
       "      <th>449</th>\n",
       "      <td>Waste Heat Recovery for Elemental Process for ...</td>\n",
       "      <td>AMS-III.Q</td>\n",
       "      <td>Southern Asia</td>\n",
       "      <td>VCS</td>\n",
       "      <td>Manufacturing industries</td>\n",
       "      <td>DCM Shriram Consolidated Limited</td>\n",
       "      <td>No</td>\n",
       "      <td>Waste Heat Recovery</td>\n",
       "      <td>Brick Manufacturing Emission Reductions</td>\n",
       "      <td>False</td>\n",
       "    </tr>\n",
       "    <tr>\n",
       "      <th>503</th>\n",
       "      <td>PoA for the Reduction of Emission from Non-Ren...</td>\n",
       "      <td>AMS-I.E. Switch from Non-Renewable Biomass for...</td>\n",
       "      <td>Sub-Saharan Africa</td>\n",
       "      <td>GOLD</td>\n",
       "      <td>Biomass, or Liquid Biofuel - Heat</td>\n",
       "      <td>ClimateCare Limited</td>\n",
       "      <td>No</td>\n",
       "      <td>Bundled Energy Efficiency</td>\n",
       "      <td>Biodigesters</td>\n",
       "      <td>False</td>\n",
       "    </tr>\n",
       "    <tr>\n",
       "      <th>509</th>\n",
       "      <td>Reducing 3000000 tons of CO2 emissions over a...</td>\n",
       "      <td>AMS-I.C. Thermal energy production with or wit...</td>\n",
       "      <td>Eastern Europe</td>\n",
       "      <td>GOLD</td>\n",
       "      <td>Energy Efficiency - Commercial Sector</td>\n",
       "      <td>Green Tech International SA</td>\n",
       "      <td>No</td>\n",
       "      <td>Geothermal</td>\n",
       "      <td>Energy Efficiency</td>\n",
       "      <td>False</td>\n",
       "    </tr>\n",
       "    <tr>\n",
       "      <th>519</th>\n",
       "      <td>Grouped Solar Power Project by Indospace Devel...</td>\n",
       "      <td>AMS-I.F.</td>\n",
       "      <td>Southern Asia</td>\n",
       "      <td>VCS</td>\n",
       "      <td>Energy industries (renewable/non-renewable sou...</td>\n",
       "      <td>Multiple Proponents</td>\n",
       "      <td>No</td>\n",
       "      <td>Solar - Distributed</td>\n",
       "      <td>Solar - Centralized</td>\n",
       "      <td>False</td>\n",
       "    </tr>\n",
       "    <tr>\n",
       "      <th>541</th>\n",
       "      <td>7.81MW solar power project by AMPSolar Generat...</td>\n",
       "      <td>AMS-I.F.</td>\n",
       "      <td>Southern Asia</td>\n",
       "      <td>VCS</td>\n",
       "      <td>Energy industries (renewable/non-renewable sou...</td>\n",
       "      <td>AMPSolar Generation Private Limited.</td>\n",
       "      <td>No</td>\n",
       "      <td>Solar - Distributed</td>\n",
       "      <td>Solar - Centralized</td>\n",
       "      <td>False</td>\n",
       "    </tr>\n",
       "    <tr>\n",
       "      <th>562</th>\n",
       "      <td>GS1247 VPA 216 Manicaland Safe Water</td>\n",
       "      <td>GS TPDDTEC v 1.</td>\n",
       "      <td>Sub-Saharan Africa</td>\n",
       "      <td>GOLD</td>\n",
       "      <td>Energy Efficiency - Domestic</td>\n",
       "      <td>CO2balance UK ltd</td>\n",
       "      <td>No</td>\n",
       "      <td>Clean Water</td>\n",
       "      <td>Community Boreholes</td>\n",
       "      <td>False</td>\n",
       "    </tr>\n",
       "    <tr>\n",
       "      <th>570</th>\n",
       "      <td>GS5047 VPA42 African Improved Cookstoves and C...</td>\n",
       "      <td>GS TPDDTEC v3.1</td>\n",
       "      <td>Sub-Saharan Africa</td>\n",
       "      <td>GOLD</td>\n",
       "      <td>Energy Efficiency - Domestic</td>\n",
       "      <td>Likano Project Development GmbH</td>\n",
       "      <td>No</td>\n",
       "      <td>Cookstoves</td>\n",
       "      <td>Bundled Energy Efficiency</td>\n",
       "      <td>False</td>\n",
       "    </tr>\n",
       "    <tr>\n",
       "      <th>675</th>\n",
       "      <td>Solar Cookstoves Project in Peru</td>\n",
       "      <td></td>\n",
       "      <td>Latin America and the Caribbean</td>\n",
       "      <td>GOLD</td>\n",
       "      <td>Solar Thermal - Heat</td>\n",
       "      <td>GoodPlanet</td>\n",
       "      <td>No</td>\n",
       "      <td>Cookstoves</td>\n",
       "      <td>Solar - Centralized</td>\n",
       "      <td>False</td>\n",
       "    </tr>\n",
       "    <tr>\n",
       "      <th>686</th>\n",
       "      <td>A-Gas SA ODS Project</td>\n",
       "      <td>VM0016</td>\n",
       "      <td>Sub-Saharan Africa</td>\n",
       "      <td>VCS</td>\n",
       "      <td>Chemical industry</td>\n",
       "      <td>A-Gas South Africa</td>\n",
       "      <td>No</td>\n",
       "      <td>Ozone Depleting Substances Recovery &amp; Destruction</td>\n",
       "      <td>N2O Destruction in Nitric Acid Production</td>\n",
       "      <td>False</td>\n",
       "    </tr>\n",
       "    <tr>\n",
       "      <th>690</th>\n",
       "      <td>CARBON GROUP PROGRAM FOR SUSTAINABLE LOW CARBO...</td>\n",
       "      <td>VM0042</td>\n",
       "      <td>Latin America and the Caribbean</td>\n",
       "      <td>VCS</td>\n",
       "      <td>Agriculture Forestry and Other Land Use</td>\n",
       "      <td>Carbon Group Agro-Climatic Solutions LLC</td>\n",
       "      <td>No</td>\n",
       "      <td>Sustainable Agriculture</td>\n",
       "      <td>Sustainable Grassland Management</td>\n",
       "      <td>False</td>\n",
       "    </tr>\n",
       "  </tbody>\n",
       "</table>\n",
       "</div>"
      ],
      "text/plain": [
       "                                          project_name  \\\n",
       "25   Waste to Energy Projects by Mahindra Waste to ...   \n",
       "33   International Programme for Safe Water Access ...   \n",
       "46                       LA PERSEVERANCIA BIOGAS PLANT   \n",
       "63                 BASMAKCI BIOGAS POWER PLANT PROJECT   \n",
       "66   Renewable Power Project by SEI Kathiravan Powe...   \n",
       "85               Water and Climate – Multi-country PoA   \n",
       "97                                NATURE PANELS, GABON   \n",
       "106  Green Energy Project at Gujarat by Powerica Li...   \n",
       "125  Renewable Power Project by the Kiran Group (EK...   \n",
       "127                     cancelled duplicate of VCSR218   \n",
       "207  Methane Recovery and Power Generation Project ...   \n",
       "211  Impact Carbon and myclimate Safe Water and Imp...   \n",
       "305  7 MW Hydel Based Power Unit on River Jatashank...   \n",
       "310  Guangzhou Eastern Solid Resource Recycling Cen...   \n",
       "318  Impact Carbon and myclimate Safe Water and Imp...   \n",
       "327       Ciudad Juarez Landfill Gas to Energy Project   \n",
       "356  Sustainable City Projects at India’s Cleanest ...   \n",
       "372                                       PROJECT TOGO   \n",
       "379                                International Paper   \n",
       "395                             Esperanza Solar Plant    \n",
       "410                  Solar Water Pump Project in Kenya   \n",
       "424      Future Carbon Methane Capture Grouped Project   \n",
       "429  LKPPL Fuel Switch Project for Generation of Cl...   \n",
       "433                    San Juan de Pasto Clean Project   \n",
       "438         Renewable Power Generation on Mafia Island   \n",
       "449  Waste Heat Recovery for Elemental Process for ...   \n",
       "503  PoA for the Reduction of Emission from Non-Ren...   \n",
       "509   Reducing 3000000 tons of CO2 emissions over a...   \n",
       "519  Grouped Solar Power Project by Indospace Devel...   \n",
       "541  7.81MW solar power project by AMPSolar Generat...   \n",
       "562               GS1247 VPA 216 Manicaland Safe Water   \n",
       "570  GS5047 VPA42 African Improved Cookstoves and C...   \n",
       "675                   Solar Cookstoves Project in Peru   \n",
       "686                               A-Gas SA ODS Project   \n",
       "690  CARBON GROUP PROGRAM FOR SUSTAINABLE LOW CARBO...   \n",
       "\n",
       "                               methodology_or_protocol  \\\n",
       "25                                             ACM0022   \n",
       "33                                     GS TPDDTEC v3.1   \n",
       "46                        CAR Mexico Landfill Protocol   \n",
       "63   AMS-I.C. Thermal energy production with or wit...   \n",
       "66                                             ACM0002   \n",
       "85   GS Methodology for emission reductions from sa...   \n",
       "97               AM0057; Methodology Under Development   \n",
       "106                                            ACM0002   \n",
       "125  AMS-I.D. Grid connected renewable electricity ...   \n",
       "127                                            ACM0002   \n",
       "207                               AMS-I.F.; AMS-III.H.   \n",
       "211                                    GS TPDDTEC v 1.   \n",
       "305                                           AMS-I.D.   \n",
       "310                                            ACM0022   \n",
       "318                                    GS TPDDTEC v 1.   \n",
       "327                         CAR Mexico Forest Protocol   \n",
       "356                                   ACM0002; ACM0022   \n",
       "372                                              Other   \n",
       "379  Monitoring, Reporting and Verification Protoco...   \n",
       "395  ACM0002 Grid-connected electricity generation ...   \n",
       "410                                           AMS-I.B.   \n",
       "424                               AMS-I.D.; AMS-III.D.   \n",
       "429                                            ACM0011   \n",
       "433  AMS-I.E. Switch from Non-Renewable Biomass for...   \n",
       "438  AMS-I.F. Renewable electricity generation for ...   \n",
       "449                                          AMS-III.Q   \n",
       "503  AMS-I.E. Switch from Non-Renewable Biomass for...   \n",
       "509  AMS-I.C. Thermal energy production with or wit...   \n",
       "519                                           AMS-I.F.   \n",
       "541                                           AMS-I.F.   \n",
       "562                                    GS TPDDTEC v 1.   \n",
       "570                                    GS TPDDTEC v3.1   \n",
       "675                                                      \n",
       "686                                             VM0016   \n",
       "690                                             VM0042   \n",
       "\n",
       "                              region voluntary_registry  \\\n",
       "25                     Southern Asia                VCS   \n",
       "33                Sub-Saharan Africa               GOLD   \n",
       "46   Latin America and the Caribbean                CAR   \n",
       "63                      Western Asia               GOLD   \n",
       "66                     Southern Asia                VCS   \n",
       "85                     Southern Asia               GOLD   \n",
       "97                Sub-Saharan Africa                VCS   \n",
       "106                    Southern Asia                VCS   \n",
       "125                    Southern Asia               GOLD   \n",
       "127                     Eastern Asia                VCS   \n",
       "207                    Southern Asia                VCS   \n",
       "211               Sub-Saharan Africa               GOLD   \n",
       "305                    Southern Asia                VCS   \n",
       "310                     Eastern Asia                VCS   \n",
       "318               Sub-Saharan Africa               GOLD   \n",
       "327  Latin America and the Caribbean                CAR   \n",
       "356                    Southern Asia                VCS   \n",
       "372               Sub-Saharan Africa               GOLD   \n",
       "379                    North America                ACR   \n",
       "395  Latin America and the Caribbean               GOLD   \n",
       "410               Sub-Saharan Africa                VCS   \n",
       "424  Latin America and the Caribbean                VCS   \n",
       "429                    Southern Asia                VCS   \n",
       "433  Latin America and the Caribbean               GOLD   \n",
       "438               Sub-Saharan Africa               GOLD   \n",
       "449                    Southern Asia                VCS   \n",
       "503               Sub-Saharan Africa               GOLD   \n",
       "509                   Eastern Europe               GOLD   \n",
       "519                    Southern Asia                VCS   \n",
       "541                    Southern Asia                VCS   \n",
       "562               Sub-Saharan Africa               GOLD   \n",
       "570               Sub-Saharan Africa               GOLD   \n",
       "675  Latin America and the Caribbean               GOLD   \n",
       "686               Sub-Saharan Africa                VCS   \n",
       "690  Latin America and the Caribbean                VCS   \n",
       "\n",
       "                        project_type_from_the_registry  \\\n",
       "25   Energy industries (renewable/non-renewable sou...   \n",
       "33                        Energy Efficiency - Domestic   \n",
       "46                                       Landfill - MX   \n",
       "63                                Biogas - Electricity   \n",
       "66   Energy industries (renewable/non-renewable sou...   \n",
       "85                        Energy Efficiency - Domestic   \n",
       "97                         Waste handling and disposal   \n",
       "106  Energy industries (renewable/non-renewable sou...   \n",
       "125                                               Wind   \n",
       "127  Energy industries (renewable/non-renewable sou...   \n",
       "207  Energy industries (renewable/non-renewable sou...   \n",
       "211                       Energy Efficiency - Domestic   \n",
       "305  Energy industries (renewable/non-renewable sou...   \n",
       "310  Energy industries (renewable/non-renewable sou...   \n",
       "318                       Energy Efficiency - Domestic   \n",
       "327                                      Landfill - MX   \n",
       "356  Energy industries (renewable/non-renewable sou...   \n",
       "372                                              Other   \n",
       "379                                  Energy Efficiency   \n",
       "395                                                 PV   \n",
       "410  Energy industries (renewable/non-renewable sou...   \n",
       "424  Energy industries (renewable/non-renewable sou...   \n",
       "429  Energy industries (renewable/non-renewable sou...   \n",
       "433                  Biomass, or Liquid Biofuel - Heat   \n",
       "438                               Biogas - Electricity   \n",
       "449                           Manufacturing industries   \n",
       "503                  Biomass, or Liquid Biofuel - Heat   \n",
       "509              Energy Efficiency - Commercial Sector   \n",
       "519  Energy industries (renewable/non-renewable sou...   \n",
       "541  Energy industries (renewable/non-renewable sou...   \n",
       "562                       Energy Efficiency - Domestic   \n",
       "570                       Energy Efficiency - Domestic   \n",
       "675                               Solar Thermal - Heat   \n",
       "686                                  Chemical industry   \n",
       "690            Agriculture Forestry and Other Land Use   \n",
       "\n",
       "                                     project_developer arborwaproject  \\\n",
       "25             MAHINDRA WASTE TO ENERGY SOLUTIONS LTD.             No   \n",
       "33                                   CO2balance UK ltd             No   \n",
       "46           Energía Renovable de Cuautla S.A. de C.V.             No   \n",
       "63                                    Cagla Balci Eris             No   \n",
       "66                SEI Kathiravan Power Private Limited             No   \n",
       "85                                         Helioz GmbH             No   \n",
       "97                                           ARISE IIP             No   \n",
       "106                                   POWERICA LIMITED             No   \n",
       "125                        EKI Energy Services Limited             No   \n",
       "127                                                MER             No   \n",
       "207                     Everest Starch India Pvt. Ltd.             No   \n",
       "211                                      Impact Carbon             No   \n",
       "305                   Shalivahana Green Energy Limited             No   \n",
       "310  Guangzhou LEO-KING Environmental Technology Co...             No   \n",
       "318                                      Impact Carbon             No   \n",
       "327                      Biogas de Juarez S.A. DE C.V.             No   \n",
       "356                  Indore Smart City Development Ltd             No   \n",
       "372                          Unknown Project Developer             No   \n",
       "379                                        Blue Source             No   \n",
       "395             ENERION RENEWABLES S.R.L. SEMPLIFICATA             No   \n",
       "410                               SunCulture Kenya Ltd             No   \n",
       "424                         Future Carbon Holding S.A.             No   \n",
       "429             Lanco Kondapalli Power Private Limited             No   \n",
       "433      Sustainable Carbon - Projetos Ambientais LTDA             No   \n",
       "438                                    atmosfair gGmbH             No   \n",
       "449                   DCM Shriram Consolidated Limited             No   \n",
       "503                                ClimateCare Limited             No   \n",
       "509                        Green Tech International SA             No   \n",
       "519                                Multiple Proponents             No   \n",
       "541               AMPSolar Generation Private Limited.             No   \n",
       "562                                  CO2balance UK ltd             No   \n",
       "570                    Likano Project Development GmbH             No   \n",
       "675                                         GoodPlanet             No   \n",
       "686                                 A-Gas South Africa             No   \n",
       "690           Carbon Group Agro-Climatic Solutions LLC             No   \n",
       "\n",
       "                                            True Label  \\\n",
       "25                                             Biomass   \n",
       "33                           Bundled Energy Efficiency   \n",
       "46                                    Landfill Methane   \n",
       "63                                             Biomass   \n",
       "66                                          RE Bundled   \n",
       "85                                         Clean Water   \n",
       "97                                     Waste Recycling   \n",
       "106                                         RE Bundled   \n",
       "125                                         RE Bundled   \n",
       "127                                               Wind   \n",
       "207                     Methane Recovery in Wastewater   \n",
       "211                          Bundled Energy Efficiency   \n",
       "305                                         Hydropower   \n",
       "310                                            Biomass   \n",
       "318                          Bundled Energy Efficiency   \n",
       "327                                   Landfill Methane   \n",
       "356                                         Composting   \n",
       "372                        Afforestation/Reforestation   \n",
       "379                                  Energy Efficiency   \n",
       "395                                Solar - Distributed   \n",
       "410                     Improved Irrigation Management   \n",
       "424                            Manure Methane Digester   \n",
       "429                 Natural Gas Electricity Generation   \n",
       "433                                     Fuel Switching   \n",
       "438                                            Biomass   \n",
       "449                                Waste Heat Recovery   \n",
       "503                          Bundled Energy Efficiency   \n",
       "509                                         Geothermal   \n",
       "519                                Solar - Distributed   \n",
       "541                                Solar - Distributed   \n",
       "562                                        Clean Water   \n",
       "570                                         Cookstoves   \n",
       "675                                         Cookstoves   \n",
       "686  Ozone Depleting Substances Recovery & Destruction   \n",
       "690                            Sustainable Agriculture   \n",
       "\n",
       "                               Predicted Label  Correct Prediction  \n",
       "25                          Waste Incineration               False  \n",
       "33                                 Clean Water               False  \n",
       "46                  Improved Forest Management               False  \n",
       "63                     Manure Methane Digester               False  \n",
       "66                         Solar - Centralized               False  \n",
       "85                   Bundled Energy Efficiency               False  \n",
       "97                             Waste Diversion               False  \n",
       "106                                       Wind               False  \n",
       "125                                       Wind               False  \n",
       "127                                 Hydropower               False  \n",
       "207                    Manure Methane Digester               False  \n",
       "211                                 Cookstoves               False  \n",
       "305                                    Biomass               False  \n",
       "310                         Waste Incineration               False  \n",
       "318                                 Cookstoves               False  \n",
       "327                 Improved Forest Management               False  \n",
       "356                         Waste Incineration               False  \n",
       "372                             Solar Lighting               False  \n",
       "379                 Improved Forest Management               False  \n",
       "395                        Solar - Centralized               False  \n",
       "410                        Solar - Distributed               False  \n",
       "424             Methane Recovery in Wastewater               False  \n",
       "429                                    Biomass               False  \n",
       "433                                    Biomass               False  \n",
       "438                        Solar - Distributed               False  \n",
       "449    Brick Manufacturing Emission Reductions               False  \n",
       "503                               Biodigesters               False  \n",
       "509                          Energy Efficiency               False  \n",
       "519                        Solar - Centralized               False  \n",
       "541                        Solar - Centralized               False  \n",
       "562                        Community Boreholes               False  \n",
       "570                  Bundled Energy Efficiency               False  \n",
       "675                        Solar - Centralized               False  \n",
       "686  N2O Destruction in Nitric Acid Production               False  \n",
       "690           Sustainable Grassland Management               False  "
      ]
     },
     "execution_count": 38,
     "metadata": {},
     "output_type": "execute_result"
    }
   ],
   "source": [
    "# Create a DataFrame to compare true labels and predictions\n",
    "comparison_df = pd.DataFrame({\n",
    "    'True Label': Y_val,\n",
    "    'Predicted Label': y_pred,\n",
    "    'Correct Prediction': Y_val == y_pred\n",
    "})\n",
    "# Concatenate the input features with the comparison DataFrame\n",
    "comparison_df = pd.concat([X_val.reset_index(drop=True), comparison_df.reset_index(drop=True)], axis=1)\n",
    "\n",
    "# Display the DataFrame with incorrect predictions\n",
    "incorrect_predictions = comparison_df[~comparison_df['Correct Prediction']]\n",
    "print(incorrect_predictions.shape)\n",
    "incorrect_predictions"
   ]
  },
  {
   "cell_type": "code",
   "execution_count": 29,
   "id": "df8dbf13-2fa9-4c9d-8d1d-f75ba4f36a3b",
   "metadata": {},
   "outputs": [],
   "source": [
    "## Confidence level of the result"
   ]
  },
  {
   "cell_type": "code",
   "execution_count": 37,
   "id": "93c98329-e73a-4923-bcfa-f6e1db86a23e",
   "metadata": {},
   "outputs": [
    {
     "data": {
      "text/html": [
       "<div>\n",
       "<style scoped>\n",
       "    .dataframe tbody tr th:only-of-type {\n",
       "        vertical-align: middle;\n",
       "    }\n",
       "\n",
       "    .dataframe tbody tr th {\n",
       "        vertical-align: top;\n",
       "    }\n",
       "\n",
       "    .dataframe thead th {\n",
       "        text-align: right;\n",
       "    }\n",
       "</style>\n",
       "<table border=\"1\" class=\"dataframe\">\n",
       "  <thead>\n",
       "    <tr style=\"text-align: right;\">\n",
       "      <th></th>\n",
       "      <th>project_name</th>\n",
       "      <th>methodology_or_protocol</th>\n",
       "      <th>region</th>\n",
       "      <th>voluntary_registry</th>\n",
       "      <th>project_type_from_the_registry</th>\n",
       "      <th>project_developer</th>\n",
       "      <th>arborwaproject</th>\n",
       "      <th>True Label</th>\n",
       "      <th>Predicted Label</th>\n",
       "      <th>Confidence Level</th>\n",
       "      <th>Correct Prediction</th>\n",
       "    </tr>\n",
       "  </thead>\n",
       "  <tbody>\n",
       "    <tr>\n",
       "      <th>0</th>\n",
       "      <td>Bundled Wind Project Activity by M/s Bhagyanag...</td>\n",
       "      <td>AMS-I.D.</td>\n",
       "      <td>Southern Asia</td>\n",
       "      <td>VCS</td>\n",
       "      <td>Energy industries (renewable/non-renewable sou...</td>\n",
       "      <td>Multiple Proponents</td>\n",
       "      <td>No</td>\n",
       "      <td>Wind</td>\n",
       "      <td>Wind</td>\n",
       "      <td>0.852447</td>\n",
       "      <td>True</td>\n",
       "    </tr>\n",
       "    <tr>\n",
       "      <th>1</th>\n",
       "      <td>BioLite Improved Cook stoves Programme - CER C...</td>\n",
       "      <td>AMS-II.G.</td>\n",
       "      <td>Sub-Saharan Africa</td>\n",
       "      <td>VCS</td>\n",
       "      <td>Energy demand</td>\n",
       "      <td>Converted from other GHG program</td>\n",
       "      <td>No</td>\n",
       "      <td>Cookstoves</td>\n",
       "      <td>Cookstoves</td>\n",
       "      <td>0.957106</td>\n",
       "      <td>True</td>\n",
       "    </tr>\n",
       "    <tr>\n",
       "      <th>2</th>\n",
       "      <td>Northern Great Plains Regenerative Grazing Pro...</td>\n",
       "      <td>VM0026</td>\n",
       "      <td>North America</td>\n",
       "      <td>VCS</td>\n",
       "      <td>Agriculture Forestry and Other Land Use</td>\n",
       "      <td>Native, a Public Benefit Corporation</td>\n",
       "      <td>No</td>\n",
       "      <td>Sustainable Grassland Management</td>\n",
       "      <td>Sustainable Grassland Management</td>\n",
       "      <td>0.948224</td>\n",
       "      <td>True</td>\n",
       "    </tr>\n",
       "    <tr>\n",
       "      <th>3</th>\n",
       "      <td>Everbright Zhenjiang Bundled Solar PV Power Ge...</td>\n",
       "      <td>AMS-I.D. Grid connected renewable electricity ...</td>\n",
       "      <td>Eastern Asia</td>\n",
       "      <td>GOLD</td>\n",
       "      <td>Solar Thermal - Electricity</td>\n",
       "      <td>Innovative Carbon Investment Co. Ltd.</td>\n",
       "      <td>No</td>\n",
       "      <td>Solar - Centralized</td>\n",
       "      <td>Solar - Centralized</td>\n",
       "      <td>0.952790</td>\n",
       "      <td>True</td>\n",
       "    </tr>\n",
       "    <tr>\n",
       "      <th>4</th>\n",
       "      <td>GS1264: NativeEnergy Clean Water Programme Wes...</td>\n",
       "      <td>GS TPDDTEC v 1.</td>\n",
       "      <td>Sub-Saharan Africa</td>\n",
       "      <td>GOLD</td>\n",
       "      <td>Energy Efficiency - Domestic</td>\n",
       "      <td>NativeEnergy Inc.</td>\n",
       "      <td>No</td>\n",
       "      <td>Clean Water</td>\n",
       "      <td>Clean Water</td>\n",
       "      <td>0.826448</td>\n",
       "      <td>True</td>\n",
       "    </tr>\n",
       "    <tr>\n",
       "      <th>...</th>\n",
       "      <td>...</td>\n",
       "      <td>...</td>\n",
       "      <td>...</td>\n",
       "      <td>...</td>\n",
       "      <td>...</td>\n",
       "      <td>...</td>\n",
       "      <td>...</td>\n",
       "      <td>...</td>\n",
       "      <td>...</td>\n",
       "      <td>...</td>\n",
       "      <td>...</td>\n",
       "    </tr>\n",
       "    <tr>\n",
       "      <th>710</th>\n",
       "      <td>Biodigesters program for a low-carbon livestoc...</td>\n",
       "      <td>GS TPDDTEC v3.1</td>\n",
       "      <td>South-Eastern Asia</td>\n",
       "      <td>GOLD</td>\n",
       "      <td>Biogas - Heat</td>\n",
       "      <td>Nexus-Carbon for Development</td>\n",
       "      <td>No</td>\n",
       "      <td>Biodigesters</td>\n",
       "      <td>Biodigesters</td>\n",
       "      <td>0.817217</td>\n",
       "      <td>True</td>\n",
       "    </tr>\n",
       "    <tr>\n",
       "      <th>711</th>\n",
       "      <td>Martinsville Methane Collection Project</td>\n",
       "      <td>CAR U.S. Landfill Protocol</td>\n",
       "      <td>North America</td>\n",
       "      <td>CAR</td>\n",
       "      <td>Landfill Gas Capture/Combustion</td>\n",
       "      <td>City of Martinsville</td>\n",
       "      <td>No</td>\n",
       "      <td>Landfill Methane</td>\n",
       "      <td>Landfill Methane</td>\n",
       "      <td>0.965967</td>\n",
       "      <td>True</td>\n",
       "    </tr>\n",
       "    <tr>\n",
       "      <th>712</th>\n",
       "      <td>GS11324 - VPA004 - Congo (DRC) Improved Cook S...</td>\n",
       "      <td>GS TPDDTEC V4.0: REDUCED EMISSIONS FROM COOKIN...</td>\n",
       "      <td>Sub-Saharan Africa</td>\n",
       "      <td>GOLD</td>\n",
       "      <td>Energy Efficiency - Domestic</td>\n",
       "      <td>Vitol SA</td>\n",
       "      <td>No</td>\n",
       "      <td>Cookstoves</td>\n",
       "      <td>Cookstoves</td>\n",
       "      <td>0.900594</td>\n",
       "      <td>True</td>\n",
       "    </tr>\n",
       "    <tr>\n",
       "      <th>713</th>\n",
       "      <td>EOS ACR 252</td>\n",
       "      <td>ARB Compliance Offset Protocol: Destruction of...</td>\n",
       "      <td>North America</td>\n",
       "      <td>ACR</td>\n",
       "      <td>Ozone Depleting Substances</td>\n",
       "      <td>EOS Climate Inc</td>\n",
       "      <td>Compliance</td>\n",
       "      <td>Ozone Depleting Substances Recovery &amp; Destruction</td>\n",
       "      <td>Ozone Depleting Substances Recovery &amp; Destruction</td>\n",
       "      <td>0.999236</td>\n",
       "      <td>True</td>\n",
       "    </tr>\n",
       "    <tr>\n",
       "      <th>714</th>\n",
       "      <td>GS12443 VPA 31: ECC_Multi-country Electric Cle...</td>\n",
       "      <td>Methodology for Metered &amp; Measured Energy Cook...</td>\n",
       "      <td>Sub-Saharan Africa</td>\n",
       "      <td>GOLD</td>\n",
       "      <td>Energy Efficiency - Domestic</td>\n",
       "      <td>Burn Manufacturing Co.</td>\n",
       "      <td>No</td>\n",
       "      <td>Cookstoves</td>\n",
       "      <td>Cookstoves</td>\n",
       "      <td>0.975275</td>\n",
       "      <td>True</td>\n",
       "    </tr>\n",
       "  </tbody>\n",
       "</table>\n",
       "<p>680 rows × 11 columns</p>\n",
       "</div>"
      ],
      "text/plain": [
       "                                          project_name  \\\n",
       "0    Bundled Wind Project Activity by M/s Bhagyanag...   \n",
       "1    BioLite Improved Cook stoves Programme - CER C...   \n",
       "2    Northern Great Plains Regenerative Grazing Pro...   \n",
       "3    Everbright Zhenjiang Bundled Solar PV Power Ge...   \n",
       "4    GS1264: NativeEnergy Clean Water Programme Wes...   \n",
       "..                                                 ...   \n",
       "710  Biodigesters program for a low-carbon livestoc...   \n",
       "711            Martinsville Methane Collection Project   \n",
       "712  GS11324 - VPA004 - Congo (DRC) Improved Cook S...   \n",
       "713                                        EOS ACR 252   \n",
       "714  GS12443 VPA 31: ECC_Multi-country Electric Cle...   \n",
       "\n",
       "                               methodology_or_protocol              region  \\\n",
       "0                                             AMS-I.D.       Southern Asia   \n",
       "1                                            AMS-II.G.  Sub-Saharan Africa   \n",
       "2                                               VM0026       North America   \n",
       "3    AMS-I.D. Grid connected renewable electricity ...        Eastern Asia   \n",
       "4                                      GS TPDDTEC v 1.  Sub-Saharan Africa   \n",
       "..                                                 ...                 ...   \n",
       "710                                    GS TPDDTEC v3.1  South-Eastern Asia   \n",
       "711                         CAR U.S. Landfill Protocol       North America   \n",
       "712  GS TPDDTEC V4.0: REDUCED EMISSIONS FROM COOKIN...  Sub-Saharan Africa   \n",
       "713  ARB Compliance Offset Protocol: Destruction of...       North America   \n",
       "714  Methodology for Metered & Measured Energy Cook...  Sub-Saharan Africa   \n",
       "\n",
       "    voluntary_registry                     project_type_from_the_registry  \\\n",
       "0                  VCS  Energy industries (renewable/non-renewable sou...   \n",
       "1                  VCS                                      Energy demand   \n",
       "2                  VCS            Agriculture Forestry and Other Land Use   \n",
       "3                 GOLD                        Solar Thermal - Electricity   \n",
       "4                 GOLD                       Energy Efficiency - Domestic   \n",
       "..                 ...                                                ...   \n",
       "710               GOLD                                      Biogas - Heat   \n",
       "711                CAR                    Landfill Gas Capture/Combustion   \n",
       "712               GOLD                       Energy Efficiency - Domestic   \n",
       "713                ACR                         Ozone Depleting Substances   \n",
       "714               GOLD                       Energy Efficiency - Domestic   \n",
       "\n",
       "                         project_developer arborwaproject  \\\n",
       "0                      Multiple Proponents             No   \n",
       "1         Converted from other GHG program             No   \n",
       "2     Native, a Public Benefit Corporation             No   \n",
       "3    Innovative Carbon Investment Co. Ltd.             No   \n",
       "4                        NativeEnergy Inc.             No   \n",
       "..                                     ...            ...   \n",
       "710           Nexus-Carbon for Development             No   \n",
       "711                   City of Martinsville             No   \n",
       "712                               Vitol SA             No   \n",
       "713                        EOS Climate Inc     Compliance   \n",
       "714                 Burn Manufacturing Co.             No   \n",
       "\n",
       "                                            True Label  \\\n",
       "0                                                 Wind   \n",
       "1                                           Cookstoves   \n",
       "2                     Sustainable Grassland Management   \n",
       "3                                  Solar - Centralized   \n",
       "4                                          Clean Water   \n",
       "..                                                 ...   \n",
       "710                                       Biodigesters   \n",
       "711                                   Landfill Methane   \n",
       "712                                         Cookstoves   \n",
       "713  Ozone Depleting Substances Recovery & Destruction   \n",
       "714                                         Cookstoves   \n",
       "\n",
       "                                       Predicted Label  Confidence Level  \\\n",
       "0                                                 Wind          0.852447   \n",
       "1                                           Cookstoves          0.957106   \n",
       "2                     Sustainable Grassland Management          0.948224   \n",
       "3                                  Solar - Centralized          0.952790   \n",
       "4                                          Clean Water          0.826448   \n",
       "..                                                 ...               ...   \n",
       "710                                       Biodigesters          0.817217   \n",
       "711                                   Landfill Methane          0.965967   \n",
       "712                                         Cookstoves          0.900594   \n",
       "713  Ozone Depleting Substances Recovery & Destruction          0.999236   \n",
       "714                                         Cookstoves          0.975275   \n",
       "\n",
       "     Correct Prediction  \n",
       "0                  True  \n",
       "1                  True  \n",
       "2                  True  \n",
       "3                  True  \n",
       "4                  True  \n",
       "..                  ...  \n",
       "710                True  \n",
       "711                True  \n",
       "712                True  \n",
       "713                True  \n",
       "714                True  \n",
       "\n",
       "[680 rows x 11 columns]"
      ]
     },
     "execution_count": 37,
     "metadata": {},
     "output_type": "execute_result"
    }
   ],
   "source": [
    "# Create a DataFrame to compare true labels and predictions with confidence levels\n",
    "comparison_df = pd.DataFrame({\n",
    "    'True Label': Y_val,\n",
    "    'Predicted Label': y_pred,\n",
    "    'Confidence Level': [max(proba) for proba in y_pred_proba],\n",
    "    'Correct Prediction': Y_val == y_pred\n",
    "})\n",
    "# Concatenate the input features with the comparison DataFrame\n",
    "comparison_df = pd.concat([X_val.reset_index(drop=True), comparison_df.reset_index(drop=True)], axis=1)\n",
    "\n",
    "# Display the DataFrame with correct predictions and their confidence levels\n",
    "correct_predictions = comparison_df[comparison_df['Correct Prediction']]\n",
    "correct_predictions"
   ]
  },
  {
   "cell_type": "code",
   "execution_count": 44,
   "id": "fe9923ec-7515-45bc-9153-349037a31f10",
   "metadata": {},
   "outputs": [
    {
     "data": {
      "application/vnd.plotly.v1+json": {
       "config": {
        "plotlyServerURL": "https://plot.ly"
       },
       "data": [
        {
         "link": {
          "color": "rgba(31, 119, 180, 0.5)",
          "source": [
           0,
           1,
           2,
           3,
           4,
           5,
           6,
           7,
           8,
           9,
           10,
           11,
           12,
           13,
           14,
           15,
           16,
           17,
           18,
           19,
           20,
           21,
           22,
           23,
           24,
           25,
           26,
           27,
           28,
           29,
           30,
           31,
           32,
           33,
           34,
           35,
           36,
           37,
           38,
           39,
           40,
           41,
           42,
           43
          ],
          "target": [
           0,
           1,
           2,
           3,
           4,
           5,
           6,
           7,
           8,
           9,
           10,
           11,
           12,
           13,
           14,
           15,
           16,
           17,
           18,
           19,
           20,
           21,
           22,
           23,
           24,
           25,
           26,
           27,
           28,
           29,
           30,
           31,
           32,
           33,
           34,
           35,
           36,
           37,
           38,
           39,
           40,
           41,
           42,
           43
          ],
          "value": [
           3,
           36,
           1,
           2,
           20,
           18,
           1,
           10,
           31,
           21,
           4,
           115,
           2,
           1,
           2,
           4,
           5,
           41,
           60,
           1,
           28,
           4,
           34,
           7,
           12,
           2,
           1,
           23,
           22,
           22,
           26,
           4,
           4,
           1,
           13,
           4,
           2,
           1,
           1,
           3,
           1,
           1,
           4,
           82
          ]
         },
         "node": {
          "color": "blue",
          "label": [
           "Advanced Refrigerants",
           "Afforestation/Reforestation",
           "Avoided Forest Conversion",
           "Avoided Grassland Conversion",
           "Biodigesters",
           "Biomass",
           "Brick Manufacturing Emission Reductions",
           "Bundled Energy Efficiency",
           "Clean Water",
           "Community Boreholes",
           "Composting",
           "Cookstoves",
           "Electric Vehicles & Charging",
           "Energy Efficiency",
           "Geothermal",
           "HFC Refrigerant Reclamation",
           "HFC Replacement in Foam Production",
           "Hydropower",
           "Improved Forest Management",
           "Improved Irrigation Management",
           "Landfill Methane",
           "Lighting",
           "Manure Methane Digester",
           "Methane Recovery in Wastewater",
           "Mine Methane Capture",
           "N2O Destruction in Nitric Acid Production",
           "Natural Gas Electricity Generation",
           "Ozone Depleting Substances Recovery & Destruction",
           "REDD+",
           "Rice Emission Reductions",
           "Solar - Centralized",
           "Solar - Distributed",
           "Solar Lighting",
           "Solar Water Heaters",
           "Sustainable Agriculture",
           "Sustainable Grassland Management",
           "Truck Stop Electrification",
           "Waste Diversion",
           "Waste Gas Recovery",
           "Waste Heat Recovery",
           "Waste Incineration",
           "Waste Recycling",
           "Wetland Restoration",
           "Wind"
          ],
          "line": {
           "color": "black",
           "width": 0.5
          },
          "pad": 20,
          "thickness": 30
         },
         "type": "sankey"
        }
       ],
       "layout": {
        "font": {
         "size": 12
        },
        "height": 600,
        "template": {
         "data": {
          "bar": [
           {
            "error_x": {
             "color": "#2a3f5f"
            },
            "error_y": {
             "color": "#2a3f5f"
            },
            "marker": {
             "line": {
              "color": "#E5ECF6",
              "width": 0.5
             },
             "pattern": {
              "fillmode": "overlay",
              "size": 10,
              "solidity": 0.2
             }
            },
            "type": "bar"
           }
          ],
          "barpolar": [
           {
            "marker": {
             "line": {
              "color": "#E5ECF6",
              "width": 0.5
             },
             "pattern": {
              "fillmode": "overlay",
              "size": 10,
              "solidity": 0.2
             }
            },
            "type": "barpolar"
           }
          ],
          "carpet": [
           {
            "aaxis": {
             "endlinecolor": "#2a3f5f",
             "gridcolor": "white",
             "linecolor": "white",
             "minorgridcolor": "white",
             "startlinecolor": "#2a3f5f"
            },
            "baxis": {
             "endlinecolor": "#2a3f5f",
             "gridcolor": "white",
             "linecolor": "white",
             "minorgridcolor": "white",
             "startlinecolor": "#2a3f5f"
            },
            "type": "carpet"
           }
          ],
          "choropleth": [
           {
            "colorbar": {
             "outlinewidth": 0,
             "ticks": ""
            },
            "type": "choropleth"
           }
          ],
          "contour": [
           {
            "colorbar": {
             "outlinewidth": 0,
             "ticks": ""
            },
            "colorscale": [
             [
              0,
              "#0d0887"
             ],
             [
              0.1111111111111111,
              "#46039f"
             ],
             [
              0.2222222222222222,
              "#7201a8"
             ],
             [
              0.3333333333333333,
              "#9c179e"
             ],
             [
              0.4444444444444444,
              "#bd3786"
             ],
             [
              0.5555555555555556,
              "#d8576b"
             ],
             [
              0.6666666666666666,
              "#ed7953"
             ],
             [
              0.7777777777777778,
              "#fb9f3a"
             ],
             [
              0.8888888888888888,
              "#fdca26"
             ],
             [
              1,
              "#f0f921"
             ]
            ],
            "type": "contour"
           }
          ],
          "contourcarpet": [
           {
            "colorbar": {
             "outlinewidth": 0,
             "ticks": ""
            },
            "type": "contourcarpet"
           }
          ],
          "heatmap": [
           {
            "colorbar": {
             "outlinewidth": 0,
             "ticks": ""
            },
            "colorscale": [
             [
              0,
              "#0d0887"
             ],
             [
              0.1111111111111111,
              "#46039f"
             ],
             [
              0.2222222222222222,
              "#7201a8"
             ],
             [
              0.3333333333333333,
              "#9c179e"
             ],
             [
              0.4444444444444444,
              "#bd3786"
             ],
             [
              0.5555555555555556,
              "#d8576b"
             ],
             [
              0.6666666666666666,
              "#ed7953"
             ],
             [
              0.7777777777777778,
              "#fb9f3a"
             ],
             [
              0.8888888888888888,
              "#fdca26"
             ],
             [
              1,
              "#f0f921"
             ]
            ],
            "type": "heatmap"
           }
          ],
          "heatmapgl": [
           {
            "colorbar": {
             "outlinewidth": 0,
             "ticks": ""
            },
            "colorscale": [
             [
              0,
              "#0d0887"
             ],
             [
              0.1111111111111111,
              "#46039f"
             ],
             [
              0.2222222222222222,
              "#7201a8"
             ],
             [
              0.3333333333333333,
              "#9c179e"
             ],
             [
              0.4444444444444444,
              "#bd3786"
             ],
             [
              0.5555555555555556,
              "#d8576b"
             ],
             [
              0.6666666666666666,
              "#ed7953"
             ],
             [
              0.7777777777777778,
              "#fb9f3a"
             ],
             [
              0.8888888888888888,
              "#fdca26"
             ],
             [
              1,
              "#f0f921"
             ]
            ],
            "type": "heatmapgl"
           }
          ],
          "histogram": [
           {
            "marker": {
             "pattern": {
              "fillmode": "overlay",
              "size": 10,
              "solidity": 0.2
             }
            },
            "type": "histogram"
           }
          ],
          "histogram2d": [
           {
            "colorbar": {
             "outlinewidth": 0,
             "ticks": ""
            },
            "colorscale": [
             [
              0,
              "#0d0887"
             ],
             [
              0.1111111111111111,
              "#46039f"
             ],
             [
              0.2222222222222222,
              "#7201a8"
             ],
             [
              0.3333333333333333,
              "#9c179e"
             ],
             [
              0.4444444444444444,
              "#bd3786"
             ],
             [
              0.5555555555555556,
              "#d8576b"
             ],
             [
              0.6666666666666666,
              "#ed7953"
             ],
             [
              0.7777777777777778,
              "#fb9f3a"
             ],
             [
              0.8888888888888888,
              "#fdca26"
             ],
             [
              1,
              "#f0f921"
             ]
            ],
            "type": "histogram2d"
           }
          ],
          "histogram2dcontour": [
           {
            "colorbar": {
             "outlinewidth": 0,
             "ticks": ""
            },
            "colorscale": [
             [
              0,
              "#0d0887"
             ],
             [
              0.1111111111111111,
              "#46039f"
             ],
             [
              0.2222222222222222,
              "#7201a8"
             ],
             [
              0.3333333333333333,
              "#9c179e"
             ],
             [
              0.4444444444444444,
              "#bd3786"
             ],
             [
              0.5555555555555556,
              "#d8576b"
             ],
             [
              0.6666666666666666,
              "#ed7953"
             ],
             [
              0.7777777777777778,
              "#fb9f3a"
             ],
             [
              0.8888888888888888,
              "#fdca26"
             ],
             [
              1,
              "#f0f921"
             ]
            ],
            "type": "histogram2dcontour"
           }
          ],
          "mesh3d": [
           {
            "colorbar": {
             "outlinewidth": 0,
             "ticks": ""
            },
            "type": "mesh3d"
           }
          ],
          "parcoords": [
           {
            "line": {
             "colorbar": {
              "outlinewidth": 0,
              "ticks": ""
             }
            },
            "type": "parcoords"
           }
          ],
          "pie": [
           {
            "automargin": true,
            "type": "pie"
           }
          ],
          "scatter": [
           {
            "fillpattern": {
             "fillmode": "overlay",
             "size": 10,
             "solidity": 0.2
            },
            "type": "scatter"
           }
          ],
          "scatter3d": [
           {
            "line": {
             "colorbar": {
              "outlinewidth": 0,
              "ticks": ""
             }
            },
            "marker": {
             "colorbar": {
              "outlinewidth": 0,
              "ticks": ""
             }
            },
            "type": "scatter3d"
           }
          ],
          "scattercarpet": [
           {
            "marker": {
             "colorbar": {
              "outlinewidth": 0,
              "ticks": ""
             }
            },
            "type": "scattercarpet"
           }
          ],
          "scattergeo": [
           {
            "marker": {
             "colorbar": {
              "outlinewidth": 0,
              "ticks": ""
             }
            },
            "type": "scattergeo"
           }
          ],
          "scattergl": [
           {
            "marker": {
             "colorbar": {
              "outlinewidth": 0,
              "ticks": ""
             }
            },
            "type": "scattergl"
           }
          ],
          "scattermapbox": [
           {
            "marker": {
             "colorbar": {
              "outlinewidth": 0,
              "ticks": ""
             }
            },
            "type": "scattermapbox"
           }
          ],
          "scatterpolar": [
           {
            "marker": {
             "colorbar": {
              "outlinewidth": 0,
              "ticks": ""
             }
            },
            "type": "scatterpolar"
           }
          ],
          "scatterpolargl": [
           {
            "marker": {
             "colorbar": {
              "outlinewidth": 0,
              "ticks": ""
             }
            },
            "type": "scatterpolargl"
           }
          ],
          "scatterternary": [
           {
            "marker": {
             "colorbar": {
              "outlinewidth": 0,
              "ticks": ""
             }
            },
            "type": "scatterternary"
           }
          ],
          "surface": [
           {
            "colorbar": {
             "outlinewidth": 0,
             "ticks": ""
            },
            "colorscale": [
             [
              0,
              "#0d0887"
             ],
             [
              0.1111111111111111,
              "#46039f"
             ],
             [
              0.2222222222222222,
              "#7201a8"
             ],
             [
              0.3333333333333333,
              "#9c179e"
             ],
             [
              0.4444444444444444,
              "#bd3786"
             ],
             [
              0.5555555555555556,
              "#d8576b"
             ],
             [
              0.6666666666666666,
              "#ed7953"
             ],
             [
              0.7777777777777778,
              "#fb9f3a"
             ],
             [
              0.8888888888888888,
              "#fdca26"
             ],
             [
              1,
              "#f0f921"
             ]
            ],
            "type": "surface"
           }
          ],
          "table": [
           {
            "cells": {
             "fill": {
              "color": "#EBF0F8"
             },
             "line": {
              "color": "white"
             }
            },
            "header": {
             "fill": {
              "color": "#C8D4E3"
             },
             "line": {
              "color": "white"
             }
            },
            "type": "table"
           }
          ]
         },
         "layout": {
          "annotationdefaults": {
           "arrowcolor": "#2a3f5f",
           "arrowhead": 0,
           "arrowwidth": 1
          },
          "autotypenumbers": "strict",
          "coloraxis": {
           "colorbar": {
            "outlinewidth": 0,
            "ticks": ""
           }
          },
          "colorscale": {
           "diverging": [
            [
             0,
             "#8e0152"
            ],
            [
             0.1,
             "#c51b7d"
            ],
            [
             0.2,
             "#de77ae"
            ],
            [
             0.3,
             "#f1b6da"
            ],
            [
             0.4,
             "#fde0ef"
            ],
            [
             0.5,
             "#f7f7f7"
            ],
            [
             0.6,
             "#e6f5d0"
            ],
            [
             0.7,
             "#b8e186"
            ],
            [
             0.8,
             "#7fbc41"
            ],
            [
             0.9,
             "#4d9221"
            ],
            [
             1,
             "#276419"
            ]
           ],
           "sequential": [
            [
             0,
             "#0d0887"
            ],
            [
             0.1111111111111111,
             "#46039f"
            ],
            [
             0.2222222222222222,
             "#7201a8"
            ],
            [
             0.3333333333333333,
             "#9c179e"
            ],
            [
             0.4444444444444444,
             "#bd3786"
            ],
            [
             0.5555555555555556,
             "#d8576b"
            ],
            [
             0.6666666666666666,
             "#ed7953"
            ],
            [
             0.7777777777777778,
             "#fb9f3a"
            ],
            [
             0.8888888888888888,
             "#fdca26"
            ],
            [
             1,
             "#f0f921"
            ]
           ],
           "sequentialminus": [
            [
             0,
             "#0d0887"
            ],
            [
             0.1111111111111111,
             "#46039f"
            ],
            [
             0.2222222222222222,
             "#7201a8"
            ],
            [
             0.3333333333333333,
             "#9c179e"
            ],
            [
             0.4444444444444444,
             "#bd3786"
            ],
            [
             0.5555555555555556,
             "#d8576b"
            ],
            [
             0.6666666666666666,
             "#ed7953"
            ],
            [
             0.7777777777777778,
             "#fb9f3a"
            ],
            [
             0.8888888888888888,
             "#fdca26"
            ],
            [
             1,
             "#f0f921"
            ]
           ]
          },
          "colorway": [
           "#636efa",
           "#EF553B",
           "#00cc96",
           "#ab63fa",
           "#FFA15A",
           "#19d3f3",
           "#FF6692",
           "#B6E880",
           "#FF97FF",
           "#FECB52"
          ],
          "font": {
           "color": "#2a3f5f"
          },
          "geo": {
           "bgcolor": "white",
           "lakecolor": "white",
           "landcolor": "#E5ECF6",
           "showlakes": true,
           "showland": true,
           "subunitcolor": "white"
          },
          "hoverlabel": {
           "align": "left"
          },
          "hovermode": "closest",
          "mapbox": {
           "style": "light"
          },
          "paper_bgcolor": "white",
          "plot_bgcolor": "#E5ECF6",
          "polar": {
           "angularaxis": {
            "gridcolor": "white",
            "linecolor": "white",
            "ticks": ""
           },
           "bgcolor": "#E5ECF6",
           "radialaxis": {
            "gridcolor": "white",
            "linecolor": "white",
            "ticks": ""
           }
          },
          "scene": {
           "xaxis": {
            "backgroundcolor": "#E5ECF6",
            "gridcolor": "white",
            "gridwidth": 2,
            "linecolor": "white",
            "showbackground": true,
            "ticks": "",
            "zerolinecolor": "white"
           },
           "yaxis": {
            "backgroundcolor": "#E5ECF6",
            "gridcolor": "white",
            "gridwidth": 2,
            "linecolor": "white",
            "showbackground": true,
            "ticks": "",
            "zerolinecolor": "white"
           },
           "zaxis": {
            "backgroundcolor": "#E5ECF6",
            "gridcolor": "white",
            "gridwidth": 2,
            "linecolor": "white",
            "showbackground": true,
            "ticks": "",
            "zerolinecolor": "white"
           }
          },
          "shapedefaults": {
           "line": {
            "color": "#2a3f5f"
           }
          },
          "ternary": {
           "aaxis": {
            "gridcolor": "white",
            "linecolor": "white",
            "ticks": ""
           },
           "baxis": {
            "gridcolor": "white",
            "linecolor": "white",
            "ticks": ""
           },
           "bgcolor": "#E5ECF6",
           "caxis": {
            "gridcolor": "white",
            "linecolor": "white",
            "ticks": ""
           }
          },
          "title": {
           "x": 0.05
          },
          "xaxis": {
           "automargin": true,
           "gridcolor": "white",
           "linecolor": "white",
           "ticks": "",
           "title": {
            "standoff": 15
           },
           "zerolinecolor": "white",
           "zerolinewidth": 2
          },
          "yaxis": {
           "automargin": true,
           "gridcolor": "white",
           "linecolor": "white",
           "ticks": "",
           "title": {
            "standoff": 15
           },
           "zerolinecolor": "white",
           "zerolinewidth": 2
          }
         }
        },
        "title": {
         "text": "Sankey Diagram of True Labels vs Predicted Labels (Correct Predictions Only)"
        },
        "width": 1000
       }
      },
      "image/png": "[encoded data removed]",
      "text/html": [
       "<div>                            <div id=\"f2e50e3d-bcff-48f1-bcda-5c9700d5b45a\" class=\"plotly-graph-div\" style=\"height:600px; width:1000px;\"></div>            <script type=\"text/javascript\">                require([\"plotly\"], function(Plotly) {                    window.PLOTLYENV=window.PLOTLYENV || {};                                    if (document.getElementById(\"f2e50e3d-bcff-48f1-bcda-5c9700d5b45a\")) {                    Plotly.newPlot(                        \"f2e50e3d-bcff-48f1-bcda-5c9700d5b45a\",                        [{\"link\":{\"color\":\"rgba(31, 119, 180, 0.5)\",\"source\":[0,1,2,3,4,5,6,7,8,9,10,11,12,13,14,15,16,17,18,19,20,21,22,23,24,25,26,27,28,29,30,31,32,33,34,35,36,37,38,39,40,41,42,43],\"target\":[0,1,2,3,4,5,6,7,8,9,10,11,12,13,14,15,16,17,18,19,20,21,22,23,24,25,26,27,28,29,30,31,32,33,34,35,36,37,38,39,40,41,42,43],\"value\":[3,36,1,2,20,18,1,10,31,21,4,115,2,1,2,4,5,41,60,1,28,4,34,7,12,2,1,23,22,22,26,4,4,1,13,4,2,1,1,3,1,1,4,82]},\"node\":{\"color\":\"blue\",\"label\":[\"Advanced Refrigerants\",\"Afforestation\\u002fReforestation\",\"Avoided Forest Conversion\",\"Avoided Grassland Conversion\",\"Biodigesters\",\"Biomass\",\"Brick Manufacturing Emission Reductions\",\"Bundled Energy Efficiency\",\"Clean Water\",\"Community Boreholes\",\"Composting\",\"Cookstoves\",\"Electric Vehicles & Charging\",\"Energy Efficiency\",\"Geothermal\",\"HFC Refrigerant Reclamation\",\"HFC Replacement in Foam Production\",\"Hydropower\",\"Improved Forest Management\",\"Improved Irrigation Management\",\"Landfill Methane\",\"Lighting\",\"Manure Methane Digester\",\"Methane Recovery in Wastewater\",\"Mine Methane Capture\",\"N2O Destruction in Nitric Acid Production\",\"Natural Gas Electricity Generation\",\"Ozone Depleting Substances Recovery & Destruction\",\"REDD+\",\"Rice Emission Reductions\",\"Solar - Centralized\",\"Solar - Distributed\",\"Solar Lighting\",\"Solar Water Heaters\",\"Sustainable Agriculture\",\"Sustainable Grassland Management\",\"Truck Stop Electrification\",\"Waste Diversion\",\"Waste Gas Recovery\",\"Waste Heat Recovery\",\"Waste Incineration\",\"Waste Recycling\",\"Wetland Restoration\",\"Wind\"],\"line\":{\"color\":\"black\",\"width\":0.5},\"pad\":20,\"thickness\":30},\"type\":\"sankey\"}],                        {\"template\":{\"data\":{\"histogram2dcontour\":[{\"type\":\"histogram2dcontour\",\"colorbar\":{\"outlinewidth\":0,\"ticks\":\"\"},\"colorscale\":[[0.0,\"#0d0887\"],[0.1111111111111111,\"#46039f\"],[0.2222222222222222,\"#7201a8\"],[0.3333333333333333,\"#9c179e\"],[0.4444444444444444,\"#bd3786\"],[0.5555555555555556,\"#d8576b\"],[0.6666666666666666,\"#ed7953\"],[0.7777777777777778,\"#fb9f3a\"],[0.8888888888888888,\"#fdca26\"],[1.0,\"#f0f921\"]]}],\"choropleth\":[{\"type\":\"choropleth\",\"colorbar\":{\"outlinewidth\":0,\"ticks\":\"\"}}],\"histogram2d\":[{\"type\":\"histogram2d\",\"colorbar\":{\"outlinewidth\":0,\"ticks\":\"\"},\"colorscale\":[[0.0,\"#0d0887\"],[0.1111111111111111,\"#46039f\"],[0.2222222222222222,\"#7201a8\"],[0.3333333333333333,\"#9c179e\"],[0.4444444444444444,\"#bd3786\"],[0.5555555555555556,\"#d8576b\"],[0.6666666666666666,\"#ed7953\"],[0.7777777777777778,\"#fb9f3a\"],[0.8888888888888888,\"#fdca26\"],[1.0,\"#f0f921\"]]}],\"heatmap\":[{\"type\":\"heatmap\",\"colorbar\":{\"outlinewidth\":0,\"ticks\":\"\"},\"colorscale\":[[0.0,\"#0d0887\"],[0.1111111111111111,\"#46039f\"],[0.2222222222222222,\"#7201a8\"],[0.3333333333333333,\"#9c179e\"],[0.4444444444444444,\"#bd3786\"],[0.5555555555555556,\"#d8576b\"],[0.6666666666666666,\"#ed7953\"],[0.7777777777777778,\"#fb9f3a\"],[0.8888888888888888,\"#fdca26\"],[1.0,\"#f0f921\"]]}],\"heatmapgl\":[{\"type\":\"heatmapgl\",\"colorbar\":{\"outlinewidth\":0,\"ticks\":\"\"},\"colorscale\":[[0.0,\"#0d0887\"],[0.1111111111111111,\"#46039f\"],[0.2222222222222222,\"#7201a8\"],[0.3333333333333333,\"#9c179e\"],[0.4444444444444444,\"#bd3786\"],[0.5555555555555556,\"#d8576b\"],[0.6666666666666666,\"#ed7953\"],[0.7777777777777778,\"#fb9f3a\"],[0.8888888888888888,\"#fdca26\"],[1.0,\"#f0f921\"]]}],\"contourcarpet\":[{\"type\":\"contourcarpet\",\"colorbar\":{\"outlinewidth\":0,\"ticks\":\"\"}}],\"contour\":[{\"type\":\"contour\",\"colorbar\":{\"outlinewidth\":0,\"ticks\":\"\"},\"colorscale\":[[0.0,\"#0d0887\"],[0.1111111111111111,\"#46039f\"],[0.2222222222222222,\"#7201a8\"],[0.3333333333333333,\"#9c179e\"],[0.4444444444444444,\"#bd3786\"],[0.5555555555555556,\"#d8576b\"],[0.6666666666666666,\"#ed7953\"],[0.7777777777777778,\"#fb9f3a\"],[0.8888888888888888,\"#fdca26\"],[1.0,\"#f0f921\"]]}],\"surface\":[{\"type\":\"surface\",\"colorbar\":{\"outlinewidth\":0,\"ticks\":\"\"},\"colorscale\":[[0.0,\"#0d0887\"],[0.1111111111111111,\"#46039f\"],[0.2222222222222222,\"#7201a8\"],[0.3333333333333333,\"#9c179e\"],[0.4444444444444444,\"#bd3786\"],[0.5555555555555556,\"#d8576b\"],[0.6666666666666666,\"#ed7953\"],[0.7777777777777778,\"#fb9f3a\"],[0.8888888888888888,\"#fdca26\"],[1.0,\"#f0f921\"]]}],\"mesh3d\":[{\"type\":\"mesh3d\",\"colorbar\":{\"outlinewidth\":0,\"ticks\":\"\"}}],\"scatter\":[{\"fillpattern\":{\"fillmode\":\"overlay\",\"size\":10,\"solidity\":0.2},\"type\":\"scatter\"}],\"parcoords\":[{\"type\":\"parcoords\",\"line\":{\"colorbar\":{\"outlinewidth\":0,\"ticks\":\"\"}}}],\"scatterpolargl\":[{\"type\":\"scatterpolargl\",\"marker\":{\"colorbar\":{\"outlinewidth\":0,\"ticks\":\"\"}}}],\"bar\":[{\"error_x\":{\"color\":\"#2a3f5f\"},\"error_y\":{\"color\":\"#2a3f5f\"},\"marker\":{\"line\":{\"color\":\"#E5ECF6\",\"width\":0.5},\"pattern\":{\"fillmode\":\"overlay\",\"size\":10,\"solidity\":0.2}},\"type\":\"bar\"}],\"scattergeo\":[{\"type\":\"scattergeo\",\"marker\":{\"colorbar\":{\"outlinewidth\":0,\"ticks\":\"\"}}}],\"scatterpolar\":[{\"type\":\"scatterpolar\",\"marker\":{\"colorbar\":{\"outlinewidth\":0,\"ticks\":\"\"}}}],\"histogram\":[{\"marker\":{\"pattern\":{\"fillmode\":\"overlay\",\"size\":10,\"solidity\":0.2}},\"type\":\"histogram\"}],\"scattergl\":[{\"type\":\"scattergl\",\"marker\":{\"colorbar\":{\"outlinewidth\":0,\"ticks\":\"\"}}}],\"scatter3d\":[{\"type\":\"scatter3d\",\"line\":{\"colorbar\":{\"outlinewidth\":0,\"ticks\":\"\"}},\"marker\":{\"colorbar\":{\"outlinewidth\":0,\"ticks\":\"\"}}}],\"scattermapbox\":[{\"type\":\"scattermapbox\",\"marker\":{\"colorbar\":{\"outlinewidth\":0,\"ticks\":\"\"}}}],\"scatterternary\":[{\"type\":\"scatterternary\",\"marker\":{\"colorbar\":{\"outlinewidth\":0,\"ticks\":\"\"}}}],\"scattercarpet\":[{\"type\":\"scattercarpet\",\"marker\":{\"colorbar\":{\"outlinewidth\":0,\"ticks\":\"\"}}}],\"carpet\":[{\"aaxis\":{\"endlinecolor\":\"#2a3f5f\",\"gridcolor\":\"white\",\"linecolor\":\"white\",\"minorgridcolor\":\"white\",\"startlinecolor\":\"#2a3f5f\"},\"baxis\":{\"endlinecolor\":\"#2a3f5f\",\"gridcolor\":\"white\",\"linecolor\":\"white\",\"minorgridcolor\":\"white\",\"startlinecolor\":\"#2a3f5f\"},\"type\":\"carpet\"}],\"table\":[{\"cells\":{\"fill\":{\"color\":\"#EBF0F8\"},\"line\":{\"color\":\"white\"}},\"header\":{\"fill\":{\"color\":\"#C8D4E3\"},\"line\":{\"color\":\"white\"}},\"type\":\"table\"}],\"barpolar\":[{\"marker\":{\"line\":{\"color\":\"#E5ECF6\",\"width\":0.5},\"pattern\":{\"fillmode\":\"overlay\",\"size\":10,\"solidity\":0.2}},\"type\":\"barpolar\"}],\"pie\":[{\"automargin\":true,\"type\":\"pie\"}]},\"layout\":{\"autotypenumbers\":\"strict\",\"colorway\":[\"#636efa\",\"#EF553B\",\"#00cc96\",\"#ab63fa\",\"#FFA15A\",\"#19d3f3\",\"#FF6692\",\"#B6E880\",\"#FF97FF\",\"#FECB52\"],\"font\":{\"color\":\"#2a3f5f\"},\"hovermode\":\"closest\",\"hoverlabel\":{\"align\":\"left\"},\"paper_bgcolor\":\"white\",\"plot_bgcolor\":\"#E5ECF6\",\"polar\":{\"bgcolor\":\"#E5ECF6\",\"angularaxis\":{\"gridcolor\":\"white\",\"linecolor\":\"white\",\"ticks\":\"\"},\"radialaxis\":{\"gridcolor\":\"white\",\"linecolor\":\"white\",\"ticks\":\"\"}},\"ternary\":{\"bgcolor\":\"#E5ECF6\",\"aaxis\":{\"gridcolor\":\"white\",\"linecolor\":\"white\",\"ticks\":\"\"},\"baxis\":{\"gridcolor\":\"white\",\"linecolor\":\"white\",\"ticks\":\"\"},\"caxis\":{\"gridcolor\":\"white\",\"linecolor\":\"white\",\"ticks\":\"\"}},\"coloraxis\":{\"colorbar\":{\"outlinewidth\":0,\"ticks\":\"\"}},\"colorscale\":{\"sequential\":[[0.0,\"#0d0887\"],[0.1111111111111111,\"#46039f\"],[0.2222222222222222,\"#7201a8\"],[0.3333333333333333,\"#9c179e\"],[0.4444444444444444,\"#bd3786\"],[0.5555555555555556,\"#d8576b\"],[0.6666666666666666,\"#ed7953\"],[0.7777777777777778,\"#fb9f3a\"],[0.8888888888888888,\"#fdca26\"],[1.0,\"#f0f921\"]],\"sequentialminus\":[[0.0,\"#0d0887\"],[0.1111111111111111,\"#46039f\"],[0.2222222222222222,\"#7201a8\"],[0.3333333333333333,\"#9c179e\"],[0.4444444444444444,\"#bd3786\"],[0.5555555555555556,\"#d8576b\"],[0.6666666666666666,\"#ed7953\"],[0.7777777777777778,\"#fb9f3a\"],[0.8888888888888888,\"#fdca26\"],[1.0,\"#f0f921\"]],\"diverging\":[[0,\"#8e0152\"],[0.1,\"#c51b7d\"],[0.2,\"#de77ae\"],[0.3,\"#f1b6da\"],[0.4,\"#fde0ef\"],[0.5,\"#f7f7f7\"],[0.6,\"#e6f5d0\"],[0.7,\"#b8e186\"],[0.8,\"#7fbc41\"],[0.9,\"#4d9221\"],[1,\"#276419\"]]},\"xaxis\":{\"gridcolor\":\"white\",\"linecolor\":\"white\",\"ticks\":\"\",\"title\":{\"standoff\":15},\"zerolinecolor\":\"white\",\"automargin\":true,\"zerolinewidth\":2},\"yaxis\":{\"gridcolor\":\"white\",\"linecolor\":\"white\",\"ticks\":\"\",\"title\":{\"standoff\":15},\"zerolinecolor\":\"white\",\"automargin\":true,\"zerolinewidth\":2},\"scene\":{\"xaxis\":{\"backgroundcolor\":\"#E5ECF6\",\"gridcolor\":\"white\",\"linecolor\":\"white\",\"showbackground\":true,\"ticks\":\"\",\"zerolinecolor\":\"white\",\"gridwidth\":2},\"yaxis\":{\"backgroundcolor\":\"#E5ECF6\",\"gridcolor\":\"white\",\"linecolor\":\"white\",\"showbackground\":true,\"ticks\":\"\",\"zerolinecolor\":\"white\",\"gridwidth\":2},\"zaxis\":{\"backgroundcolor\":\"#E5ECF6\",\"gridcolor\":\"white\",\"linecolor\":\"white\",\"showbackground\":true,\"ticks\":\"\",\"zerolinecolor\":\"white\",\"gridwidth\":2}},\"shapedefaults\":{\"line\":{\"color\":\"#2a3f5f\"}},\"annotationdefaults\":{\"arrowcolor\":\"#2a3f5f\",\"arrowhead\":0,\"arrowwidth\":1},\"geo\":{\"bgcolor\":\"white\",\"landcolor\":\"#E5ECF6\",\"subunitcolor\":\"white\",\"showland\":true,\"showlakes\":true,\"lakecolor\":\"white\"},\"title\":{\"x\":0.05},\"mapbox\":{\"style\":\"light\"}}},\"title\":{\"text\":\"Sankey Diagram of True Labels vs Predicted Labels (Correct Predictions Only)\"},\"font\":{\"size\":12},\"width\":1000,\"height\":600},                        {\"responsive\": true}                    ).then(function(){\n",
       "                            \n",
       "var gd = document.getElementById('f2e50e3d-bcff-48f1-bcda-5c9700d5b45a');\n",
       "var x = new MutationObserver(function (mutations, observer) {{\n",
       "        var display = window.getComputedStyle(gd).display;\n",
       "        if (!display || display === 'none') {{\n",
       "            console.log([gd, 'removed!']);\n",
       "            Plotly.purge(gd);\n",
       "            observer.disconnect();\n",
       "        }}\n",
       "}});\n",
       "\n",
       "// Listen for the removal of the full notebook cells\n",
       "var notebookContainer = gd.closest('#notebook-container');\n",
       "if (notebookContainer) {{\n",
       "    x.observe(notebookContainer, {childList: true});\n",
       "}}\n",
       "\n",
       "// Listen for the clearing of the current output cell\n",
       "var outputEl = gd.closest('.output');\n",
       "if (outputEl) {{\n",
       "    x.observe(outputEl, {childList: true});\n",
       "}}\n",
       "\n",
       "                        })                };                });            </script>        </div>"
      ]
     },
     "metadata": {},
     "output_type": "display_data"
    }
   ],
   "source": [
    "import plotly.graph_objects as go\n",
    "\n",
    "\n",
    "# Prepare data for the Sankey plot\n",
    "true_labels = correct_predictions['True Label']\n",
    "pred_labels = correct_predictions['Predicted Label']\n",
    "\n",
    "# Create a list of unique labels from both true and predicted labels\n",
    "label_list = list(set(true_labels) | set(pred_labels))\n",
    "label_list.sort()\n",
    "\n",
    "# Create a dictionary to map labels to indices\n",
    "label_dict = {label: i for i, label in enumerate(label_list)}\n",
    "\n",
    "# Convert labels to indices\n",
    "source_indices = [label_dict[label] for label in true_labels]\n",
    "target_indices = [label_dict[label] for label in pred_labels]\n",
    "\n",
    "# Count occurrences of each pair (source, target)\n",
    "flow_data = pd.DataFrame({'source': source_indices, 'target': target_indices})\n",
    "flow_data['count'] = 1\n",
    "flow_data = flow_data.groupby(['source', 'target'], as_index=False).count()\n",
    "\n",
    "# Create the Sankey plot with larger size and adjusted properties\n",
    "fig = go.Figure(data=[go.Sankey(\n",
    "    node=dict(\n",
    "        pad=20,\n",
    "        thickness=30,\n",
    "        line=dict(color=\"black\", width=0.5),\n",
    "        label=label_list,\n",
    "        color=\"blue\"\n",
    "    ),\n",
    "    link=dict(\n",
    "        source=flow_data['source'],\n",
    "        target=flow_data['target'],\n",
    "        value=flow_data['count'],\n",
    "        color=\"rgba(31, 119, 180, 0.5)\"\n",
    "    )\n",
    ")])\n",
    "\n",
    "fig.update_layout(\n",
    "    title_text=\"Sankey Diagram of True Labels vs Predicted Labels (Correct Predictions Only)\",\n",
    "    font_size=12,\n",
    "    width=1000,  # Increase the width\n",
    "    height=600,  # Increase the height\n",
    ")\n",
    "\n",
    "fig.show()"
   ]
  },
  {
   "cell_type": "code",
   "execution_count": null,
   "id": "20f9025f-29a4-4f18-b8ed-7102c5e5624a",
   "metadata": {},
   "outputs": [],
   "source": []
  }
 ],
 "metadata": {
  "kernelspec": {
   "display_name": "Python 3 (ipykernel)",
   "language": "python",
   "name": "python3"
  },
  "language_info": {
   "codemirror_mode": {
    "name": "ipython",
    "version": 3
   },
   "file_extension": ".py",
   "mimetype": "text/x-python",
   "name": "python",
   "nbconvert_exporter": "python",
   "pygments_lexer": "ipython3",
   "version": "3.11.5"
  }
 },
 "nbformat": 4,
 "nbformat_minor": 5
}
